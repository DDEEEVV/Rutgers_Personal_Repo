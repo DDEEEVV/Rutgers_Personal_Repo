{
 "cells": [
  {
   "cell_type": "markdown",
   "metadata": {},
   "source": [
    "# Instructor Do: Getting Data for Sentiment Analysis"
   ]
  },
  {
   "cell_type": "code",
   "execution_count": 17,
   "metadata": {},
   "outputs": [
    {
     "data": {
      "text/plain": [
       "True"
      ]
     },
     "execution_count": 17,
     "metadata": {},
     "output_type": "execute_result"
    }
   ],
   "source": [
    "# Initial imports\n",
    "import os\n",
    "import pandas as pd\n",
    "from newsapi import NewsApiClient\n",
    "from dotenv import load_dotenv\n",
    "load_dotenv()"
   ]
  },
  {
   "cell_type": "code",
   "execution_count": 18,
   "metadata": {},
   "outputs": [],
   "source": [
    "# Reading the News API key environment variable\n",
    "api_key = os.getenv(\"news_api\")\n"
   ]
  },
  {
   "cell_type": "code",
   "execution_count": 19,
   "metadata": {},
   "outputs": [],
   "source": [
    "# Create a newsapi client\n",
    "newsapi = NewsApiClient(api_key=api_key)\n"
   ]
  },
  {
   "cell_type": "code",
   "execution_count": 28,
   "metadata": {},
   "outputs": [
    {
     "data": {
      "text/plain": [
       "{'status': 'ok',\n",
       " 'totalResults': 1,\n",
       " 'articles': [{'source': {'id': 'cbs-news', 'name': 'CBS News'},\n",
       "   'author': None,\n",
       "   'title': 'Asphyxiation death of Black man seen held in \"gas chamber\" police vehicle sparks outrage in Brazil - CBS News',\n",
       "   'description': 'A relative told local media that Brazilian Federal Highway Police trapped Genivaldo de Jesus Santos in their SUV with a tear gas bomb during \"a torture session.\"',\n",
       "   'url': 'https://www.cbsnews.com/news/black-man-death-brazil-genivaldo-de-jesus-santos-police-arrest-asphyxiation-tear-gas/',\n",
       "   'urlToImage': 'https://cbsnews2.cbsistatic.com/hub/i/r/2022/05/27/690ea87e-d0e2-4f37-800e-56c87e8f595f/thumbnail/1200x630/528e4e7fdf7460c5676c677728e1784f/brazil-police-arrest-death-black-man.jpg',\n",
       "   'publishedAt': '2022-05-27T10:36:43Z',\n",
       "   'content': 'A screengrab from video shared widely on social media purportedly shows Brazilian Federal Police in Umbauba, in the northeast state of Sergipe, holding the trunk of their SUV closed on the legs of Ge… [+4088 chars]'}]}"
      ]
     },
     "execution_count": 28,
     "metadata": {},
     "output_type": "execute_result"
    }
   ],
   "source": [
    "# Fetch top news articles about oil\n",
    "top_oil_news = newsapi.get_top_headlines(q=\"gas\", language=\"en\", country=\"us\")\n",
    "top_oil_news"
   ]
  },
  {
   "cell_type": "code",
   "execution_count": 31,
   "metadata": {},
   "outputs": [
    {
     "name": "stdout",
     "output_type": "stream",
     "text": [
      "Total articles about oil: 1\n"
     ]
    },
    {
     "data": {
      "text/plain": [
       "{'source': {'id': 'cbs-news', 'name': 'CBS News'},\n",
       " 'author': None,\n",
       " 'title': 'Asphyxiation death of Black man seen held in \"gas chamber\" police vehicle sparks outrage in Brazil - CBS News',\n",
       " 'description': 'A relative told local media that Brazilian Federal Highway Police trapped Genivaldo de Jesus Santos in their SUV with a tear gas bomb during \"a torture session.\"',\n",
       " 'url': 'https://www.cbsnews.com/news/black-man-death-brazil-genivaldo-de-jesus-santos-police-arrest-asphyxiation-tear-gas/',\n",
       " 'urlToImage': 'https://cbsnews2.cbsistatic.com/hub/i/r/2022/05/27/690ea87e-d0e2-4f37-800e-56c87e8f595f/thumbnail/1200x630/528e4e7fdf7460c5676c677728e1784f/brazil-police-arrest-death-black-man.jpg',\n",
       " 'publishedAt': '2022-05-27T10:36:43Z',\n",
       " 'content': 'A screengrab from video shared widely on social media purportedly shows Brazilian Federal Police in Umbauba, in the northeast state of Sergipe, holding the trunk of their SUV closed on the legs of Ge… [+4088 chars]'}"
      ]
     },
     "execution_count": 31,
     "metadata": {},
     "output_type": "execute_result"
    }
   ],
   "source": [
    "# Print total articles\n",
    "print(f\"Total articles about oil: {top_oil_news['totalResults']}\")\n",
    "# Show sample article\n",
    "\n",
    "top_oil_news[\"articles\"][0]"
   ]
  },
  {
   "cell_type": "code",
   "execution_count": 32,
   "metadata": {},
   "outputs": [
    {
     "data": {
      "text/html": [
       "<div>\n",
       "<style scoped>\n",
       "    .dataframe tbody tr th:only-of-type {\n",
       "        vertical-align: middle;\n",
       "    }\n",
       "\n",
       "    .dataframe tbody tr th {\n",
       "        vertical-align: top;\n",
       "    }\n",
       "\n",
       "    .dataframe thead th {\n",
       "        text-align: right;\n",
       "    }\n",
       "</style>\n",
       "<table border=\"1\" class=\"dataframe\">\n",
       "  <thead>\n",
       "    <tr style=\"text-align: right;\">\n",
       "      <th></th>\n",
       "      <th>source</th>\n",
       "      <th>author</th>\n",
       "      <th>title</th>\n",
       "      <th>description</th>\n",
       "      <th>url</th>\n",
       "      <th>urlToImage</th>\n",
       "      <th>publishedAt</th>\n",
       "      <th>content</th>\n",
       "    </tr>\n",
       "  </thead>\n",
       "  <tbody>\n",
       "    <tr>\n",
       "      <th>0</th>\n",
       "      <td>{'id': 'cbs-news', 'name': 'CBS News'}</td>\n",
       "      <td>None</td>\n",
       "      <td>Asphyxiation death of Black man seen held in \"...</td>\n",
       "      <td>A relative told local media that Brazilian Fed...</td>\n",
       "      <td>https://www.cbsnews.com/news/black-man-death-b...</td>\n",
       "      <td>https://cbsnews2.cbsistatic.com/hub/i/r/2022/0...</td>\n",
       "      <td>2022-05-27T10:36:43Z</td>\n",
       "      <td>A screengrab from video shared widely on socia...</td>\n",
       "    </tr>\n",
       "  </tbody>\n",
       "</table>\n",
       "</div>"
      ],
      "text/plain": [
       "                                   source author  \\\n",
       "0  {'id': 'cbs-news', 'name': 'CBS News'}   None   \n",
       "\n",
       "                                               title  \\\n",
       "0  Asphyxiation death of Black man seen held in \"...   \n",
       "\n",
       "                                         description  \\\n",
       "0  A relative told local media that Brazilian Fed...   \n",
       "\n",
       "                                                 url  \\\n",
       "0  https://www.cbsnews.com/news/black-man-death-b...   \n",
       "\n",
       "                                          urlToImage           publishedAt  \\\n",
       "0  https://cbsnews2.cbsistatic.com/hub/i/r/2022/0...  2022-05-27T10:36:43Z   \n",
       "\n",
       "                                             content  \n",
       "0  A screengrab from video shared widely on socia...  "
      ]
     },
     "execution_count": 32,
     "metadata": {},
     "output_type": "execute_result"
    }
   ],
   "source": [
    "# Transform the response dictionary to a DataFrame\n",
    "oil_df = pd.DataFrame.from_dict(top_oil_news[\"articles\"])\n",
    "\n",
    "oil_df.head()"
   ]
  },
  {
   "cell_type": "code",
   "execution_count": 38,
   "metadata": {},
   "outputs": [
    {
     "name": "stdout",
     "output_type": "stream",
     "text": [
      "Total articles about Facebook Libra: 38\n"
     ]
    },
    {
     "data": {
      "text/plain": [
       "{'source': {'id': 'axios', 'name': 'Axios'},\n",
       " 'author': 'Scott Rosenberg',\n",
       " 'title': 'Facebook keeps pivoting to new projects — and then abandoning them',\n",
       " 'description': 'Facebook\\'s plan to wind down its podcast platform is the latest in a long line of projects the social network has launched with fanfare and then unceremoniously scuttled.Why it matters: \"Launch, test, shut down\" is a common pattern in tech\\'s \"fail fast\" cultu…',\n",
       " 'url': 'https://www.axios.com/2022/05/04/facebooks-endless-pivot-metaverse-podcasts',\n",
       " 'urlToImage': 'https://images.axios.com/9wnl4CnD6xg67vSiqYA-yvPKwbs=/0x0:2545x1432/1366x768/2022/05/04/1651665611715.jpg',\n",
       " 'publishedAt': '2022-05-04T10:00:32Z',\n",
       " 'content': 'Facebook\\'s plan to wind down its podcast platform is the latest in a long line of projects the social network has launched with fanfare and then unceremoniously scuttled.\\r\\nWhy it matters: \"Launch, te… [+3317 chars]'}"
      ]
     },
     "execution_count": 38,
     "metadata": {},
     "output_type": "execute_result"
    }
   ],
   "source": [
    "# Fetch all the news about Facebook Libra\n",
    "fb_news = newsapi.get_everything(\n",
    "    q = \"facebook libra\", language=\"en\", sort_by=\"relevancy\"\n",
    ")\n",
    "\n",
    "# Print total articles\n",
    "print(f\"Total articles about Facebook Libra: {fb_news['totalResults']}\")\n",
    "\n",
    "# Show sample article\n",
    "fb_news[\"articles\"][0]\n"
   ]
  },
  {
   "cell_type": "code",
   "execution_count": 39,
   "metadata": {},
   "outputs": [
    {
     "data": {
      "text/html": [
       "<div>\n",
       "<style scoped>\n",
       "    .dataframe tbody tr th:only-of-type {\n",
       "        vertical-align: middle;\n",
       "    }\n",
       "\n",
       "    .dataframe tbody tr th {\n",
       "        vertical-align: top;\n",
       "    }\n",
       "\n",
       "    .dataframe thead th {\n",
       "        text-align: right;\n",
       "    }\n",
       "</style>\n",
       "<table border=\"1\" class=\"dataframe\">\n",
       "  <thead>\n",
       "    <tr style=\"text-align: right;\">\n",
       "      <th></th>\n",
       "      <th>source</th>\n",
       "      <th>author</th>\n",
       "      <th>title</th>\n",
       "      <th>description</th>\n",
       "      <th>url</th>\n",
       "      <th>urlToImage</th>\n",
       "      <th>publishedAt</th>\n",
       "      <th>content</th>\n",
       "    </tr>\n",
       "  </thead>\n",
       "  <tbody>\n",
       "    <tr>\n",
       "      <th>0</th>\n",
       "      <td>{'id': 'axios', 'name': 'Axios'}</td>\n",
       "      <td>Scott Rosenberg</td>\n",
       "      <td>Facebook keeps pivoting to new projects — and ...</td>\n",
       "      <td>Facebook's plan to wind down its podcast platf...</td>\n",
       "      <td>https://www.axios.com/2022/05/04/facebooks-end...</td>\n",
       "      <td>https://images.axios.com/9wnl4CnD6xg67vSiqYA-y...</td>\n",
       "      <td>2022-05-04T10:00:32Z</td>\n",
       "      <td>Facebook's plan to wind down its podcast platf...</td>\n",
       "    </tr>\n",
       "    <tr>\n",
       "      <th>1</th>\n",
       "      <td>{'id': None, 'name': 'CoinDesk'}</td>\n",
       "      <td>Jack Schickler</td>\n",
       "      <td>EU Commission Favors Ban on Large-Scale Stable...</td>\n",
       "      <td>The tough approach, originally targeting Faceb...</td>\n",
       "      <td>https://www.coindesk.com/policy/2022/05/11/eu-...</td>\n",
       "      <td>https://www.coindesk.com/resizer/3GvY4wGFVk_81...</td>\n",
       "      <td>2022-05-11T18:42:43Z</td>\n",
       "      <td>The European Commission is considering hard cu...</td>\n",
       "    </tr>\n",
       "    <tr>\n",
       "      <th>2</th>\n",
       "      <td>{'id': 'axios', 'name': 'Axios'}</td>\n",
       "      <td>Scott Rosenberg</td>\n",
       "      <td>Facebook's endless pivot</td>\n",
       "      <td>Facebook's plan to wind down its podcast platf...</td>\n",
       "      <td>https://www.axios.com/facebooks-endless-pivot-...</td>\n",
       "      <td>https://images.axios.com/_ZQ2b7p48cQ5i6mKzQGzl...</td>\n",
       "      <td>2022-05-04T10:00:32Z</td>\n",
       "      <td>Facebook's plan to wind down its podcast platf...</td>\n",
       "    </tr>\n",
       "    <tr>\n",
       "      <th>3</th>\n",
       "      <td>{'id': None, 'name': 'MarketWatch'}</td>\n",
       "      <td>Jurica Dujmovic</td>\n",
       "      <td>Your Digital Self: The metaverse is inevitable...</td>\n",
       "      <td>Progress or escapism? It depends on who you are.</td>\n",
       "      <td>https://www.marketwatch.com/story/the-metavers...</td>\n",
       "      <td>https://images.mktw.net/im-515637/social</td>\n",
       "      <td>2022-05-10T12:27:00Z</td>\n",
       "      <td>Thanks to Meta Platforms CEO Mark Zuckerberg, ...</td>\n",
       "    </tr>\n",
       "    <tr>\n",
       "      <th>4</th>\n",
       "      <td>{'id': None, 'name': 'Yahoo Entertainment'}</td>\n",
       "      <td>Brandy Betz</td>\n",
       "      <td>Libra Creator David Marcus Begins New Lightnin...</td>\n",
       "      <td>Details are vague, but Lightspark has raised a...</td>\n",
       "      <td>https://finance.yahoo.com/news/libra-creator-d...</td>\n",
       "      <td>https://s.yimg.com/uu/api/res/1.2/Qye7cXqAPdCo...</td>\n",
       "      <td>2022-05-12T21:15:51Z</td>\n",
       "      <td>Don't miss CoinDesk's Consensus 2022, the must...</td>\n",
       "    </tr>\n",
       "  </tbody>\n",
       "</table>\n",
       "</div>"
      ],
      "text/plain": [
       "                                        source           author  \\\n",
       "0             {'id': 'axios', 'name': 'Axios'}  Scott Rosenberg   \n",
       "1             {'id': None, 'name': 'CoinDesk'}   Jack Schickler   \n",
       "2             {'id': 'axios', 'name': 'Axios'}  Scott Rosenberg   \n",
       "3          {'id': None, 'name': 'MarketWatch'}  Jurica Dujmovic   \n",
       "4  {'id': None, 'name': 'Yahoo Entertainment'}      Brandy Betz   \n",
       "\n",
       "                                               title  \\\n",
       "0  Facebook keeps pivoting to new projects — and ...   \n",
       "1  EU Commission Favors Ban on Large-Scale Stable...   \n",
       "2                           Facebook's endless pivot   \n",
       "3  Your Digital Self: The metaverse is inevitable...   \n",
       "4  Libra Creator David Marcus Begins New Lightnin...   \n",
       "\n",
       "                                         description  \\\n",
       "0  Facebook's plan to wind down its podcast platf...   \n",
       "1  The tough approach, originally targeting Faceb...   \n",
       "2  Facebook's plan to wind down its podcast platf...   \n",
       "3   Progress or escapism? It depends on who you are.   \n",
       "4  Details are vague, but Lightspark has raised a...   \n",
       "\n",
       "                                                 url  \\\n",
       "0  https://www.axios.com/2022/05/04/facebooks-end...   \n",
       "1  https://www.coindesk.com/policy/2022/05/11/eu-...   \n",
       "2  https://www.axios.com/facebooks-endless-pivot-...   \n",
       "3  https://www.marketwatch.com/story/the-metavers...   \n",
       "4  https://finance.yahoo.com/news/libra-creator-d...   \n",
       "\n",
       "                                          urlToImage           publishedAt  \\\n",
       "0  https://images.axios.com/9wnl4CnD6xg67vSiqYA-y...  2022-05-04T10:00:32Z   \n",
       "1  https://www.coindesk.com/resizer/3GvY4wGFVk_81...  2022-05-11T18:42:43Z   \n",
       "2  https://images.axios.com/_ZQ2b7p48cQ5i6mKzQGzl...  2022-05-04T10:00:32Z   \n",
       "3           https://images.mktw.net/im-515637/social  2022-05-10T12:27:00Z   \n",
       "4  https://s.yimg.com/uu/api/res/1.2/Qye7cXqAPdCo...  2022-05-12T21:15:51Z   \n",
       "\n",
       "                                             content  \n",
       "0  Facebook's plan to wind down its podcast platf...  \n",
       "1  The European Commission is considering hard cu...  \n",
       "2  Facebook's plan to wind down its podcast platf...  \n",
       "3  Thanks to Meta Platforms CEO Mark Zuckerberg, ...  \n",
       "4  Don't miss CoinDesk's Consensus 2022, the must...  "
      ]
     },
     "execution_count": 39,
     "metadata": {},
     "output_type": "execute_result"
    }
   ],
   "source": [
    "# Transform the response dictionary to a DataFrame\n",
    "libra_df = pd.DataFrame.from_dict(fb_news[\"articles\"])\n",
    "libra_df.head()\n"
   ]
  },
  {
   "cell_type": "code",
   "execution_count": null,
   "metadata": {},
   "outputs": [],
   "source": []
  }
 ],
 "metadata": {
  "file_extension": ".py",
  "interpreter": {
   "hash": "4396f389b93e7269692bd3bea4c62813bbe379469bde939b058805f538feec11"
  },
  "kernelspec": {
   "display_name": "Python 3.7.7 ('dev')",
   "language": "python",
   "name": "python3"
  },
  "language_info": {
   "codemirror_mode": {
    "name": "ipython",
    "version": 3
   },
   "file_extension": ".py",
   "mimetype": "text/x-python",
   "name": "python",
   "nbconvert_exporter": "python",
   "pygments_lexer": "ipython3",
   "version": "3.7.7"
  },
  "mimetype": "text/x-python",
  "name": "python",
  "npconvert_exporter": "python",
  "pygments_lexer": "ipython3",
  "version": 3
 },
 "nbformat": 4,
 "nbformat_minor": 2
}
