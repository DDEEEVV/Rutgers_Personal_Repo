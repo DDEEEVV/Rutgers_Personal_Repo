{
 "cells": [
  {
   "cell_type": "markdown",
   "metadata": {},
   "source": [
    "# Students Do: Lemmatize\n",
    "In this activity, create a function that performs stopwording, regex cleaning of non-letter characters, word tokenizing, and lemmatization on each word in the article"
   ]
  },
  {
   "cell_type": "code",
   "execution_count": 2,
   "metadata": {},
   "outputs": [
    {
     "name": "stderr",
     "output_type": "stream",
     "text": [
      "[nltk_data] Downloading package reuters to /Users/ddevii/nltk_data...\n",
      "[nltk_data]   Package reuters is already up-to-date!\n",
      "[nltk_data] Downloading package stopwords to\n",
      "[nltk_data]     /Users/ddevii/nltk_data...\n",
      "[nltk_data]   Package stopwords is already up-to-date!\n",
      "[nltk_data] Downloading package punkt to /Users/ddevii/nltk_data...\n",
      "[nltk_data]   Package punkt is already up-to-date!\n",
      "[nltk_data] Downloading package wordnet to /Users/ddevii/nltk_data...\n",
      "[nltk_data]   Package wordnet is already up-to-date!\n"
     ]
    },
    {
     "data": {
      "text/plain": [
       "True"
      ]
     },
     "execution_count": 2,
     "metadata": {},
     "output_type": "execute_result"
    }
   ],
   "source": [
    "from nltk.stem import WordNetLemmatizer \n",
    "from nltk.tokenize import word_tokenize\n",
    "from nltk.corpus import reuters, stopwords\n",
    "import re\n",
    "\n",
    "# Code to download corpora\n",
    "import nltk\n",
    "nltk.download('reuters')\n",
    "nltk.download('stopwords')\n",
    "nltk.download('punkt')\n",
    "nltk.download('wordnet')"
   ]
  },
  {
   "cell_type": "code",
   "execution_count": 3,
   "metadata": {},
   "outputs": [],
   "source": [
    "# Instantiate the lemmatizer\n",
    "lemmatizer = WordNetLemmatizer()"
   ]
  },
  {
   "cell_type": "code",
   "execution_count": 4,
   "metadata": {},
   "outputs": [
    {
     "name": "stdout",
     "output_type": "stream",
     "text": [
      "HUNGARY RAISES PRICES IN EFFORT TO CURB DEFICIT\n",
      "  Hungary has announced sharp price\n",
      "  increases for a range of food and consumer products as part of\n",
      "  its efforts to curb a soaring budget deficit.\n",
      "      The official MTI news agency said the government decided\n",
      "  consumer price subsidies had to be cut to reduce state\n",
      "  spending. From today the price of meat will rise by an average\n",
      "  18 pct and that of beer and spirits by 10 pct, MTI said.\n",
      "      MTI said consumer goods will also become more expensive,\n",
      "  with the price of refrigerators rising some five pct. It also\n",
      "  announced a number of measures to ease hardship, including\n",
      "  higher pensions and family allowances.\n",
      "      Statistics indicate the budget deficit tripled in 1986 to\n",
      "  47 billion forints. Central banker Janos Fekete has said the\n",
      "  Finance Ministry is trying to cut the 1987 shortfall to between\n",
      "  30 and 35 billion from a planned 43.8 billion.\n",
      "      A major tax reform, including the introduction of a\n",
      "  Western-style valued added tax, is planned for January 1988 in\n",
      "  an effort to cure problems in state spending.\n",
      "      But diplomats said the latest announcement shows the\n",
      "  authorities were forced to act quickly to keep this year's\n",
      "  deficit under control.\n",
      "      The measures are also aimed at cooling an overheated\n",
      "  economy, and could help dampen Hungarians' appetite for\n",
      "  imported Western goods which consume increasingly expensive\n",
      "  hard currency, the diplomats said.\n",
      "      The diplomats also said, however, that they did not expect\n",
      "  the kind of social unrest that followed sharp price rises in\n",
      "  other East Bloc states, notably Poland.\n",
      "  \n",
      "\n",
      "\n"
     ]
    }
   ],
   "source": [
    "article = reuters.raw(fileids=reuters.fileids(categories='cpi')[2])\n",
    "print(article)"
   ]
  },
  {
   "cell_type": "code",
   "execution_count": 5,
   "metadata": {},
   "outputs": [],
   "source": [
    "# Define function\n",
    "def process_text(article):\n",
    "    sw = set(stopwords.words('english'))\n",
    "    regex = re.compile(\"[^a-zA-Z ]\")\n",
    "    re_clean = regex.sub('', article)\n",
    "    words = word_tokenize(re_clean)\n",
    "    lem = [lemmatizer.lemmatize(word) for word in words]\n",
    "    output = [word.lower() for word in lem if word.lower() not in sw]\n",
    "    return output\n",
    "    \n",
    "\n"
   ]
  },
  {
   "cell_type": "code",
   "execution_count": 6,
   "metadata": {},
   "outputs": [
    {
     "name": "stdout",
     "output_type": "stream",
     "text": [
      "{'become', 'also', 'refrigerator', 'followed', 'ease', 'government', 'tripled', 'major', 'part', 'quickly', 'keep', 'product', 'sharp', 'overheated', 'tax', 'consume', 'banker', 'problem', 'curb', 'family', 'spirit', 'cut', 'budget', 'pct', 'allowance', 'central', 'currency', 'announcement', 'could', 'social', 'rise', 'state', 'increasingly', 'shortfall', 'appetite', 'decided', 'rising', 'average', 'finance', 'raises', 'expensive', 'hard', 'effort', 'news', 'today', 'trying', 'fekete', 'help', 'added', 'east', 'range', 'prices', 'authority', 'pension', 'spending', 'unrest', 'number', 'higher', 'planned', 'westernstyle', 'ha', 'price', 'deficit', 'year', 'bloc', 'including', 'measure', 'good', 'billion', 'five', 'meat', 'control', 'show', 'dampen', 'official', 'diplomat', 'beer', 'mti', 'subsidy', 'reform', 'indicate', 'statistics', 'imported', 'january', 'introduction', 'increase', 'janos', 'latest', 'ministry', 'cooling', 'valued', 'agency', 'forint', 'hungarians', 'economy', 'forced', 'hungary', 'reduce', 'announced', 'poland', 'hardship', 'soaring', 'said', 'notably', 'food', 'consumer', 'expect', 'cure', 'however', 'act', 'kind', 'western', 'aimed'}\n"
     ]
    }
   ],
   "source": [
    "# what I did process_text(article)\n",
    "# what solved version did: \n",
    "\n",
    "print(set(process_text(article)))\n",
    "\n",
    "# the words are different is that wrong??!! ask DAN"
   ]
  },
  {
   "cell_type": "code",
   "execution_count": null,
   "metadata": {},
   "outputs": [],
   "source": []
  }
 ],
 "metadata": {
  "interpreter": {
   "hash": "4396f389b93e7269692bd3bea4c62813bbe379469bde939b058805f538feec11"
  },
  "kernelspec": {
   "display_name": "Python 3.7.7 ('dev')",
   "language": "python",
   "name": "python3"
  },
  "language_info": {
   "codemirror_mode": {
    "name": "ipython",
    "version": 3
   },
   "file_extension": ".py",
   "mimetype": "text/x-python",
   "name": "python",
   "nbconvert_exporter": "python",
   "pygments_lexer": "ipython3",
   "version": "3.7.7"
  }
 },
 "nbformat": 4,
 "nbformat_minor": 2
}
