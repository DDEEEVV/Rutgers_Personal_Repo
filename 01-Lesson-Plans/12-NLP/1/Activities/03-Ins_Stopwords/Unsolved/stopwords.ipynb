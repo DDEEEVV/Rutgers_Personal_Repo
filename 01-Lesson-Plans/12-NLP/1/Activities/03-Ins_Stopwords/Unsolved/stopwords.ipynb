{
 "cells": [
  {
   "cell_type": "markdown",
   "metadata": {},
   "source": [
    "# Stopwords\n",
    "Stopwords are non-informative words that we want to take out of the text before performing analysis on it. Luckily, NLTK has a ready-made list of such words that we can use to preprocess text...but is this enough?"
   ]
  },
  {
   "cell_type": "code",
   "execution_count": 18,
   "metadata": {},
   "outputs": [
    {
     "name": "stderr",
     "output_type": "stream",
     "text": [
      "[nltk_data] Downloading package stopwords to\n",
      "[nltk_data]     /Users/ddevii/nltk_data...\n",
      "[nltk_data]   Package stopwords is already up-to-date!\n",
      "[nltk_data] Downloading package reuters to /Users/ddevii/nltk_data...\n",
      "[nltk_data]   Package reuters is already up-to-date!\n",
      "[nltk_data] Downloading package punkt to /Users/ddevii/nltk_data...\n",
      "[nltk_data]   Package punkt is already up-to-date!\n"
     ]
    },
    {
     "data": {
      "text/plain": [
       "True"
      ]
     },
     "execution_count": 18,
     "metadata": {},
     "output_type": "execute_result"
    }
   ],
   "source": [
    "from nltk.corpus import reuters, stopwords\n",
    "from nltk.tokenize import word_tokenize, sent_tokenize\n",
    "\n",
    "# Code to download corpora\n",
    "import nltk\n",
    "nltk.download('stopwords')\n",
    "nltk.download('reuters')\n",
    "nltk.download('punkt')"
   ]
  },
  {
   "cell_type": "code",
   "execution_count": 19,
   "metadata": {},
   "outputs": [],
   "source": [
    "# Locate the first article about crude oil\n",
    "article = reuters.raw(fileids=reuters.fileids(categories=\"crude\")[0])"
   ]
  },
  {
   "cell_type": "code",
   "execution_count": 20,
   "metadata": {},
   "outputs": [
    {
     "name": "stdout",
     "output_type": "stream",
     "text": [
      "JAPAN TO REVISE LONG-TERM ENERGY DEMAND DOWNWARDS\n",
      "  The Ministry of International Trade and\n",
      "  Industry (MITI) will revise its long-term energy supply/demand\n",
      "  outlook by August to meet a forecast downtrend in Japanese\n",
      "  energy demand, ministry officials said.\n",
      "      MITI is expected to lower the projection for primary energy\n",
      "  supplies in the year 2000 to 550 mln kilolitres (kl) from 600\n",
      "  mln, they said.\n",
      "      The decision follows the emergence of structural changes in\n",
      "  Japanese industry following the rise in the value of the yen\n",
      "  and a decline in domestic electric power demand.\n",
      "      MITI is planning to work out a revised energy supply/demand\n",
      "  outlook through deliberations of committee meetings of the\n",
      "  Agency of Natural Resources and Energy, the officials said.\n",
      "      They said MITI will also review the breakdown of energy\n",
      "  supply sources, including oil, nuclear, coal and natural gas.\n",
      "      Nuclear energy provided the bulk of Japan's electric power\n",
      "  in the fiscal year ended March 31, supplying an estimated 27\n",
      "  pct on a kilowatt/hour basis, followed by oil (23 pct) and\n",
      "  liquefied natural gas (21 pct), they noted.\n",
      "  \n",
      "\n",
      "\n"
     ]
    }
   ],
   "source": [
    "print(article)"
   ]
  },
  {
   "cell_type": "code",
   "execution_count": 21,
   "metadata": {},
   "outputs": [
    {
     "name": "stdout",
     "output_type": "stream",
     "text": [
      "MITI is expected to lower the projection for primary energy\n",
      "  supplies in the year 2000 to 550 mln kilolitres (kl) from 600\n",
      "  mln, they said.\n"
     ]
    }
   ],
   "source": [
    "# Sentence tokenize the article and store first sentence\n",
    "sentence = sent_tokenize(article)[1]\n",
    "print(sentence)"
   ]
  },
  {
   "cell_type": "code",
   "execution_count": 22,
   "metadata": {},
   "outputs": [
    {
     "name": "stdout",
     "output_type": "stream",
     "text": [
      "['MITI', 'is', 'expected', 'to', 'lower', 'the', 'projection', 'for', 'primary', 'energy', 'supplies', 'in', 'the', 'year', '2000', 'to', '550', 'mln', 'kilolitres', '(', 'kl', ')', 'from', '600', 'mln', ',', 'they', 'said', '.']\n"
     ]
    }
   ],
   "source": [
    "# Word tokenize the sentence \n",
    "words = word_tokenize(sentence)\n",
    "print(words)"
   ]
  },
  {
   "cell_type": "markdown",
   "metadata": {},
   "source": [
    "## NLTK Stopwords"
   ]
  },
  {
   "cell_type": "code",
   "execution_count": 23,
   "metadata": {
    "scrolled": true
   },
   "outputs": [
    {
     "name": "stdout",
     "output_type": "stream",
     "text": [
      "['i', 'me', 'my', 'myself', 'we', 'our', 'ours', 'ourselves', 'you', \"you're\", \"you've\", \"you'll\", \"you'd\", 'your', 'yours', 'yourself', 'yourselves', 'he', 'him', 'his', 'himself', 'she', \"she's\", 'her', 'hers', 'herself', 'it', \"it's\", 'its', 'itself', 'they', 'them', 'their', 'theirs', 'themselves', 'what', 'which', 'who', 'whom', 'this', 'that', \"that'll\", 'these', 'those', 'am', 'is', 'are', 'was', 'were', 'be', 'been', 'being', 'have', 'has', 'had', 'having', 'do', 'does', 'did', 'doing', 'a', 'an', 'the', 'and', 'but', 'if', 'or', 'because', 'as', 'until', 'while', 'of', 'at', 'by', 'for', 'with', 'about', 'against', 'between', 'into', 'through', 'during', 'before', 'after', 'above', 'below', 'to', 'from', 'up', 'down', 'in', 'out', 'on', 'off', 'over', 'under', 'again', 'further', 'then', 'once', 'here', 'there', 'when', 'where', 'why', 'how', 'all', 'any', 'both', 'each', 'few', 'more', 'most', 'other', 'some', 'such', 'no', 'nor', 'not', 'only', 'own', 'same', 'so', 'than', 'too', 'very', 's', 't', 'can', 'will', 'just', 'don', \"don't\", 'should', \"should've\", 'now', 'd', 'll', 'm', 'o', 're', 've', 'y', 'ain', 'aren', \"aren't\", 'couldn', \"couldn't\", 'didn', \"didn't\", 'doesn', \"doesn't\", 'hadn', \"hadn't\", 'hasn', \"hasn't\", 'haven', \"haven't\", 'isn', \"isn't\", 'ma', 'mightn', \"mightn't\", 'mustn', \"mustn't\", 'needn', \"needn't\", 'shan', \"shan't\", 'shouldn', \"shouldn't\", 'wasn', \"wasn't\", 'weren', \"weren't\", 'won', \"won't\", 'wouldn', \"wouldn't\"]\n"
     ]
    }
   ],
   "source": [
    "# NLTK list of stopwords\n",
    "print(stopwords.words(\"english\"))"
   ]
  },
  {
   "cell_type": "code",
   "execution_count": 27,
   "metadata": {},
   "outputs": [],
   "source": [
    "# Remove stop words\n",
    "stop_words = set(stopwords.words(\"english\"))\n",
    "first_result = [word.lower() for word in words if word.lower() not in stop_words]"
   ]
  },
  {
   "cell_type": "code",
   "execution_count": 28,
   "metadata": {},
   "outputs": [
    {
     "name": "stdout",
     "output_type": "stream",
     "text": [
      "['miti', 'expected', 'lower', 'projection', 'primary', 'energy', 'supplies', 'year', '2000', '550', 'mln', 'kilolitres', '(', 'kl', ')', '600', 'mln', ',', 'said', '.']\n"
     ]
    }
   ],
   "source": [
    "print(first_result)"
   ]
  },
  {
   "cell_type": "code",
   "execution_count": 38,
   "metadata": {},
   "outputs": [],
   "source": [
    "# We can define our own list of stopwords to add to the default nltk words\n",
    "stop_words_added = {\"said\", \"mln\", \"kilolitres\", \"kl\"}\n",
    "second_result = [word.lower() for word in words if word.lower() not in stop_words.union(stop_words_added)]"
   ]
  },
  {
   "cell_type": "code",
   "execution_count": 39,
   "metadata": {},
   "outputs": [
    {
     "name": "stdout",
     "output_type": "stream",
     "text": [
      "['miti', 'expected', 'lower', 'projection', 'primary', 'energy', 'supplies', 'year', '2000', '550', '(', ')', '600', ',', '.']\n"
     ]
    }
   ],
   "source": [
    "print(second_result)"
   ]
  },
  {
   "cell_type": "markdown",
   "metadata": {},
   "source": [
    "## Getting Rid of Non-Alpha Characters: Regex"
   ]
  },
  {
   "cell_type": "code",
   "execution_count": 40,
   "metadata": {},
   "outputs": [],
   "source": [
    "# Import regular expressions library\n",
    "import re"
   ]
  },
  {
   "cell_type": "code",
   "execution_count": 41,
   "metadata": {},
   "outputs": [
    {
     "data": {
      "text/plain": [
       "'MITI is expected to lower the projection for primary energy   supplies in the year      to     mln kilolitres  kl  from       mln  they said '"
      ]
     },
     "execution_count": 41,
     "metadata": {},
     "output_type": "execute_result"
    }
   ],
   "source": [
    "# Substitute everything that is NOT a letter with empty string\n",
    "regex = re.compile(\"[^a-zA-Z]\")\n",
    "reclean = regex.sub(\" \", sentence)\n",
    "reclean"
   ]
  },
  {
   "cell_type": "code",
   "execution_count": 42,
   "metadata": {},
   "outputs": [],
   "source": [
    "# Remove stop words\n",
    "re_wording = word_tokenize(reclean)\n",
    "result = [word.lower() for word in re_wording if word.lower() not in stop_words.union(stop_words_added)]"
   ]
  },
  {
   "cell_type": "code",
   "execution_count": 43,
   "metadata": {},
   "outputs": [
    {
     "data": {
      "text/plain": [
       "['miti',\n",
       " 'expected',\n",
       " 'lower',\n",
       " 'projection',\n",
       " 'primary',\n",
       " 'energy',\n",
       " 'supplies',\n",
       " 'year']"
      ]
     },
     "execution_count": 43,
     "metadata": {},
     "output_type": "execute_result"
    }
   ],
   "source": [
    "result"
   ]
  }
 ],
 "metadata": {
  "interpreter": {
   "hash": "4396f389b93e7269692bd3bea4c62813bbe379469bde939b058805f538feec11"
  },
  "kernelspec": {
   "display_name": "Python 3.7.7 ('dev')",
   "language": "python",
   "name": "python3"
  },
  "language_info": {
   "codemirror_mode": {
    "name": "ipython",
    "version": 3
   },
   "file_extension": ".py",
   "mimetype": "text/x-python",
   "name": "python",
   "nbconvert_exporter": "python",
   "pygments_lexer": "ipython3",
   "version": "3.7.7"
  }
 },
 "nbformat": 4,
 "nbformat_minor": 2
}
