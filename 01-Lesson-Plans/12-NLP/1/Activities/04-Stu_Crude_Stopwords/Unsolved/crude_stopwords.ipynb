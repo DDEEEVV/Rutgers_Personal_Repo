{
 "cells": [
  {
   "cell_type": "markdown",
   "metadata": {},
   "source": [
    "# Students Do: Crude Stopwords\n",
    "For this activity, create a function that takes in an article and outputs a list of words that is free of stopwords and any non-letter characters. After looking at the results, define your own list of stopwords to add to the NLTK default set. "
   ]
  },
  {
   "cell_type": "code",
   "execution_count": 23,
   "metadata": {},
   "outputs": [
    {
     "name": "stderr",
     "output_type": "stream",
     "text": [
      "[nltk_data] Downloading package reuters to /Users/ddevii/nltk_data...\n",
      "[nltk_data]   Package reuters is already up-to-date!\n",
      "[nltk_data] Downloading package punkt to /Users/ddevii/nltk_data...\n",
      "[nltk_data]   Package punkt is already up-to-date!\n",
      "[nltk_data] Downloading package stopwords to\n",
      "[nltk_data]     /Users/ddevii/nltk_data...\n",
      "[nltk_data]   Package stopwords is already up-to-date!\n"
     ]
    },
    {
     "data": {
      "text/plain": [
       "True"
      ]
     },
     "execution_count": 23,
     "metadata": {},
     "output_type": "execute_result"
    }
   ],
   "source": [
    "# Imports\n",
    "from nltk.corpus import reuters, stopwords\n",
    "from nltk.tokenize import word_tokenize\n",
    "import re\n",
    "\n",
    "# Code to download corpora\n",
    "import nltk\n",
    "nltk.download('reuters')\n",
    "nltk.download('punkt')\n",
    "nltk.download('stopwords')"
   ]
  },
  {
   "cell_type": "code",
   "execution_count": 24,
   "metadata": {},
   "outputs": [],
   "source": [
    "# Store an article to work with\n",
    "crude_article = reuters.raw(fileids=reuters.fileids(categories='crude')[2])"
   ]
  },
  {
   "cell_type": "code",
   "execution_count": 25,
   "metadata": {},
   "outputs": [
    {
     "name": "stdout",
     "output_type": "stream",
     "text": [
      "TURKEY CALLS FOR DIALOGUE TO SOLVE DISPUTE\n",
      "  Turkey said today its disputes with\n",
      "  Greece, including rights on the continental shelf in the Aegean\n",
      "  Sea, should be solved through negotiations.\n",
      "      A Foreign Ministry statement said the latest crisis between\n",
      "  the two NATO members stemmed from the continental shelf dispute\n",
      "  and an agreement on this issue would effect the security,\n",
      "  economy and other rights of both countries.\n",
      "      \"As the issue is basicly political, a solution can only be\n",
      "  found by bilateral negotiations,\" the statement said. Greece has\n",
      "  repeatedly said the issue was legal and could be solved at the\n",
      "  International Court of Justice.\n",
      "      The two countries approached armed confrontation last month\n",
      "  after Greece announced it planned oil exploration work in the\n",
      "  Aegean and Turkey said it would also search for oil.\n",
      "      A face-off was averted when Turkey confined its research to\n",
      "  territorrial waters. \"The latest crises created an historic\n",
      "  opportunity to solve the disputes between the two countries,\"\n",
      "  the Foreign Ministry statement said.\n",
      "      Turkey's ambassador in Athens, Nazmi Akiman, was due to\n",
      "  meet Prime Minister Andreas Papandreou today for the Greek\n",
      "  reply to a message sent last week by Turkish Prime Minister\n",
      "  Turgut Ozal. The contents of the message were not disclosed.\n",
      "  \n",
      "\n",
      "\n"
     ]
    }
   ],
   "source": [
    "# Print the stored article\n",
    "print(crude_article)"
   ]
  },
  {
   "cell_type": "code",
   "execution_count": 38,
   "metadata": {},
   "outputs": [],
   "source": [
    "# Complete the `clean_text` function\n",
    "def clean_text(article):\n",
    "    \n",
    "    # Define a set of stopwords using `stopwords.words()`\n",
    "    sw = set(stopwords.words('english'))\n",
    "\n",
    "    # Define the regex parameters\n",
    "    regex = re.compile(\"[^a-zA-Z ]\")\n",
    "\n",
    "    # Apply regex parameters to article\n",
    "    re_clean = regex.sub('', article)\n",
    "\n",
    "    # Apply `word_tokenize` to the regex scrubbed text\n",
    "    words = word_tokenize(re_clean)\n",
    "\n",
    "    # Create list of lower-case words that are not in the stopword set        \n",
    "    output = [word.lower() for word in words if word.lower() not in sw]\n",
    "\n",
    "    # Return the final list\n",
    "    return output"
   ]
  },
  {
   "cell_type": "code",
   "execution_count": 41,
   "metadata": {},
   "outputs": [],
   "source": [
    "# Pass article into `clean_text` and store the result\n",
    "result = clean_text(crude_article)"
   ]
  },
  {
   "cell_type": "code",
   "execution_count": 42,
   "metadata": {},
   "outputs": [
    {
     "name": "stdout",
     "output_type": "stream",
     "text": [
      "{'disputes', 'repeatedly', 'last', 'turgut', 'greece', 'approached', 'crises', 'also', 'prime', 'solved', 'solution', 'statement', 'could', 'sent', 'legal', 'turkey', 'work', 'today', 'week', 'andreas', 'agreement', 'ministry', 'effect', 'would', 'dialogue', 'court', 'akiman', 'nato', 'two', 'bilateral', 'solve', 'research', 'dispute', 'crisis', 'armed', 'averted', 'ambassador', 'created', 'waters', 'security', 'greek', 'faceoff', 'shelf', 'ozal', 'calls', 'announced', 'foreign', 'latest', 'basicly', 'said', 'athens', 'opportunity', 'international', 'due', 'found', 'papandreou', 'members', 'exploration', 'search', 'month', 'meet', 'aegean', 'contents', 'negotiations', 'historic', 'turkeys', 'reply', 'stemmed', 'minister', 'turkish', 'planned', 'confined', 'countries', 'political', 'message', 'confrontation', 'sea', 'rights', 'nazmi', 'continental', 'issue', 'disclosed', 'territorrial', 'oil', 'including', 'economy', 'justice'}\n"
     ]
    }
   ],
   "source": [
    "# Print the unique words using the `set` function\n",
    "print(set(result))"
   ]
  },
  {
   "cell_type": "code",
   "execution_count": 51,
   "metadata": {},
   "outputs": [],
   "source": [
    "# Second iteration, with custom stopwords\n",
    "def clean_text(article):\n",
    "    \n",
    "    # Define a set of stopwords using `stopwords.words()`\n",
    "    sw = set(stopwords.words('english'))\n",
    "    \n",
    "    \n",
    "    # Create custom stopwords\n",
    "    sw_addons = {'said', 'sent', 'found', 'including', 'today', 'announced', 'week', 'basically', 'also'}\n",
    "    \n",
    "    # Define the regex parameters\n",
    "    regex = re.compile(\"[^a-zA-Z ]\")\n",
    "\n",
    "    # Apply regex parameters to article\n",
    "    re_clean = regex.sub(\" \",article)\n",
    "\n",
    "    # Apply `word_tokenize` to the regex scrubbed text\n",
    "    words = word_tokenize(re_clean)\n",
    "\n",
    "    # Create list of lower-case words that are not in the stopword set\n",
    "    output = [word.lower() for word in words if word.lower() not in sw.union(sw_addons)]\n",
    "\n",
    "    # Return the final list\n",
    "    return output"
   ]
  },
  {
   "cell_type": "code",
   "execution_count": 54,
   "metadata": {},
   "outputs": [],
   "source": [
    "# Pass article into `clean_text` and examine new results\n",
    "result2 = clean_text(crude_article)"
   ]
  },
  {
   "cell_type": "code",
   "execution_count": 55,
   "metadata": {},
   "outputs": [
    {
     "name": "stdout",
     "output_type": "stream",
     "text": [
      "{'disputes', 'repeatedly', 'last', 'turgut', 'greece', 'approached', 'crises', 'prime', 'solved', 'solution', 'statement', 'face', 'could', 'legal', 'turkey', 'work', 'andreas', 'agreement', 'ministry', 'effect', 'would', 'dialogue', 'court', 'akiman', 'nato', 'two', 'bilateral', 'solve', 'research', 'dispute', 'crisis', 'armed', 'averted', 'ambassador', 'created', 'waters', 'security', 'greek', 'shelf', 'ozal', 'calls', 'foreign', 'latest', 'basicly', 'athens', 'opportunity', 'international', 'due', 'papandreou', 'members', 'exploration', 'search', 'month', 'meet', 'aegean', 'contents', 'negotiations', 'historic', 'reply', 'stemmed', 'minister', 'turkish', 'planned', 'confined', 'countries', 'political', 'message', 'confrontation', 'sea', 'rights', 'nazmi', 'continental', 'issue', 'disclosed', 'territorrial', 'oil', 'economy', 'justice'}\n"
     ]
    }
   ],
   "source": [
    "print(set(result2))"
   ]
  },
  {
   "cell_type": "code",
   "execution_count": 56,
   "metadata": {},
   "outputs": [
    {
     "data": {
      "text/plain": [
       "110"
      ]
     },
     "execution_count": 56,
     "metadata": {},
     "output_type": "execute_result"
    }
   ],
   "source": [
    "len(result2)"
   ]
  }
 ],
 "metadata": {
  "interpreter": {
   "hash": "4396f389b93e7269692bd3bea4c62813bbe379469bde939b058805f538feec11"
  },
  "kernelspec": {
   "display_name": "Python 3.7.7 ('dev')",
   "language": "python",
   "name": "python3"
  },
  "language_info": {
   "codemirror_mode": {
    "name": "ipython",
    "version": 3
   },
   "file_extension": ".py",
   "mimetype": "text/x-python",
   "name": "python",
   "nbconvert_exporter": "python",
   "pygments_lexer": "ipython3",
   "version": "3.7.7"
  }
 },
 "nbformat": 4,
 "nbformat_minor": 4
}
