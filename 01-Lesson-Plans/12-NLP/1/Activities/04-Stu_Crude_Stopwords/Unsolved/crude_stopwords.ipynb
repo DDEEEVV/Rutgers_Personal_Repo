{
 "cells": [
  {
   "cell_type": "markdown",
   "metadata": {},
   "source": [
    "# Students Do: Crude Stopwords\n",
    "For this activity, create a function that takes in an article and outputs a list of words that is free of stopwords and any non-letter characters. After looking at the results, define your own list of stopwords to add to the NLTK default set. "
   ]
  },
  {
   "cell_type": "code",
   "execution_count": 9,
   "metadata": {},
   "outputs": [
    {
     "name": "stderr",
     "output_type": "stream",
     "text": [
      "[nltk_data] Downloading package reuters to /Users/ddevii/nltk_data...\n",
      "[nltk_data]   Package reuters is already up-to-date!\n",
      "[nltk_data] Downloading package punkt to /Users/ddevii/nltk_data...\n",
      "[nltk_data]   Package punkt is already up-to-date!\n",
      "[nltk_data] Downloading package stopwords to\n",
      "[nltk_data]     /Users/ddevii/nltk_data...\n",
      "[nltk_data]   Package stopwords is already up-to-date!\n"
     ]
    },
    {
     "data": {
      "text/plain": [
       "True"
      ]
     },
     "execution_count": 9,
     "metadata": {},
     "output_type": "execute_result"
    }
   ],
   "source": [
    "# Imports\n",
    "from nltk.corpus import reuters, stopwords\n",
    "from nltk.tokenize import word_tokenize\n",
    "import re\n",
    "\n",
    "# Code to download corpora\n",
    "import nltk\n",
    "nltk.download('reuters')\n",
    "nltk.download('punkt')\n",
    "nltk.download('stopwords')"
   ]
  },
  {
   "cell_type": "code",
   "execution_count": 10,
   "metadata": {},
   "outputs": [],
   "source": [
    "# Store an article to work with\n",
    "crude_article = reuters.raw(fileids=reuters.fileids(categories='crude')[2])"
   ]
  },
  {
   "cell_type": "code",
   "execution_count": 11,
   "metadata": {},
   "outputs": [
    {
     "name": "stdout",
     "output_type": "stream",
     "text": [
      "TURKEY CALLS FOR DIALOGUE TO SOLVE DISPUTE\n",
      "  Turkey said today its disputes with\n",
      "  Greece, including rights on the continental shelf in the Aegean\n",
      "  Sea, should be solved through negotiations.\n",
      "      A Foreign Ministry statement said the latest crisis between\n",
      "  the two NATO members stemmed from the continental shelf dispute\n",
      "  and an agreement on this issue would effect the security,\n",
      "  economy and other rights of both countries.\n",
      "      \"As the issue is basicly political, a solution can only be\n",
      "  found by bilateral negotiations,\" the statement said. Greece has\n",
      "  repeatedly said the issue was legal and could be solved at the\n",
      "  International Court of Justice.\n",
      "      The two countries approached armed confrontation last month\n",
      "  after Greece announced it planned oil exploration work in the\n",
      "  Aegean and Turkey said it would also search for oil.\n",
      "      A face-off was averted when Turkey confined its research to\n",
      "  territorrial waters. \"The latest crises created an historic\n",
      "  opportunity to solve the disputes between the two countries,\"\n",
      "  the Foreign Ministry statement said.\n",
      "      Turkey's ambassador in Athens, Nazmi Akiman, was due to\n",
      "  meet Prime Minister Andreas Papandreou today for the Greek\n",
      "  reply to a message sent last week by Turkish Prime Minister\n",
      "  Turgut Ozal. The contents of the message were not disclosed.\n",
      "  \n",
      "\n",
      "\n"
     ]
    }
   ],
   "source": [
    "# Print the stored article\n",
    "print(crude_article)"
   ]
  },
  {
   "cell_type": "code",
   "execution_count": 12,
   "metadata": {},
   "outputs": [],
   "source": [
    "# Complete the `clean_text` function\n",
    "def clean_text(article):\n",
    "    \n",
    "    # Define a set of stopwords using `stopwords.words()`\n",
    "    sw = set(stopwords.words('english'))\n",
    "\n",
    "    # Define the regex parameters\n",
    "    regex = re.compile(\"[^a-zA-Z ]\")\n",
    "\n",
    "    # Apply regex parameters to article\n",
    "    re_clean = regex.sub('', article)\n",
    "\n",
    "    # Apply `word_tokenize` to the regex scrubbed text\n",
    "    words = word_tokenize(re_clean)\n",
    "\n",
    "    # Create list of lower-case words that are not in the stopword set        \n",
    "    output = [word.lower() for word in words if word.lower() not in sw]\n",
    "\n",
    "    # Return the final list\n",
    "    return output"
   ]
  },
  {
   "cell_type": "code",
   "execution_count": 13,
   "metadata": {},
   "outputs": [],
   "source": [
    "# Pass article into `clean_text` and store the result\n",
    "article = clean_text(crude_article)"
   ]
  },
  {
   "cell_type": "code",
   "execution_count": 14,
   "metadata": {},
   "outputs": [
    {
     "name": "stdout",
     "output_type": "stream",
     "text": [
      "['turkey', 'calls', 'dialogue', 'solve', 'dispute', 'turkey', 'said', 'today', 'disputes', 'greece', 'including', 'rights', 'continental', 'shelf', 'aegean', 'sea', 'solved', 'negotiations', 'foreign', 'ministry', 'statement', 'said', 'latest', 'crisis', 'two', 'nato', 'members', 'stemmed', 'continental', 'shelf', 'dispute', 'agreement', 'issue', 'would', 'effect', 'security', 'economy', 'rights', 'countries', 'issue', 'basicly', 'political', 'solution', 'found', 'bilateral', 'negotiations', 'statement', 'said', 'greece', 'repeatedly', 'said', 'issue', 'legal', 'could', 'solved', 'international', 'court', 'justice', 'two', 'countries', 'approached', 'armed', 'confrontation', 'last', 'month', 'greece', 'announced', 'planned', 'oil', 'exploration', 'work', 'aegean', 'turkey', 'said', 'would', 'also', 'search', 'oil', 'faceoff', 'averted', 'turkey', 'confined', 'research', 'territorrial', 'waters', 'latest', 'crises', 'created', 'historic', 'opportunity', 'solve', 'disputes', 'two', 'countries', 'foreign', 'ministry', 'statement', 'said', 'turkeys', 'ambassador', 'athens', 'nazmi', 'akiman', 'due', 'meet', 'prime', 'minister', 'andreas', 'papandreou', 'today', 'greek', 'reply', 'message', 'sent', 'last', 'week', 'turkish', 'prime', 'minister', 'turgut', 'ozal', 'contents', 'message', 'disclosed']\n"
     ]
    }
   ],
   "source": [
    "# Print the unique words using the `set` function\n",
    "print(article)"
   ]
  },
  {
   "cell_type": "code",
   "execution_count": 29,
   "metadata": {},
   "outputs": [],
   "source": [
    "# Second iteration, with custom stopwords\n",
    "def clean_text(article, custom_stopwords={'said', 'today', 'week'}):\n",
    "    \n",
    "    # Define a set of stopwords using `stopwords.words()`\n",
    "    sw = set(stopwords.words('english'))\n",
    "    \n",
    "    \n",
    "    # Create custom stopwords\n",
    "    sw = sw.union(custom_stopwords)\n",
    "    \n",
    "    # Define the regex parameters\n",
    "    regex = re.compile(\"[^a-zA-Z ]\")\n",
    "\n",
    "    # Apply regex parameters to article\n",
    "    re_clean = regex.sub(\"\",article)\n",
    "\n",
    "    # Apply `word_tokenize` to the regex scrubbed text\n",
    "    clean_text = word_tokenize(re_clean)\n",
    "\n",
    "    # Create list of lower-case words that are not in the stopword set\n",
    "    output = [word.lower() for word in clean_text if word.lower() not in sw]\n",
    "\n",
    "    # Return the final list\n",
    "    return output"
   ]
  },
  {
   "cell_type": "code",
   "execution_count": 30,
   "metadata": {},
   "outputs": [],
   "source": [
    "# Pass article into `clean_text` and examine new results\n",
    "article = clean_text(crude_article)"
   ]
  },
  {
   "cell_type": "code",
   "execution_count": 31,
   "metadata": {},
   "outputs": [
    {
     "name": "stdout",
     "output_type": "stream",
     "text": [
      "['turkey', 'calls', 'dialogue', 'solve', 'dispute', 'turkey', 'disputes', 'greece', 'including', 'rights', 'continental', 'shelf', 'aegean', 'sea', 'solved', 'negotiations', 'foreign', 'ministry', 'statement', 'latest', 'crisis', 'two', 'nato', 'members', 'stemmed', 'continental', 'shelf', 'dispute', 'agreement', 'issue', 'would', 'effect', 'security', 'economy', 'rights', 'countries', 'issue', 'basicly', 'political', 'solution', 'found', 'bilateral', 'negotiations', 'statement', 'greece', 'repeatedly', 'issue', 'legal', 'could', 'solved', 'international', 'court', 'justice', 'two', 'countries', 'approached', 'armed', 'confrontation', 'last', 'month', 'greece', 'announced', 'planned', 'oil', 'exploration', 'work', 'aegean', 'turkey', 'would', 'also', 'search', 'oil', 'faceoff', 'averted', 'turkey', 'confined', 'research', 'territorrial', 'waters', 'latest', 'crises', 'created', 'historic', 'opportunity', 'solve', 'disputes', 'two', 'countries', 'foreign', 'ministry', 'statement', 'turkeys', 'ambassador', 'athens', 'nazmi', 'akiman', 'due', 'meet', 'prime', 'minister', 'andreas', 'papandreou', 'greek', 'reply', 'message', 'sent', 'last', 'turkish', 'prime', 'minister', 'turgut', 'ozal', 'contents', 'message', 'disclosed']\n"
     ]
    }
   ],
   "source": [
    "print(article)"
   ]
  },
  {
   "cell_type": "code",
   "execution_count": 32,
   "metadata": {},
   "outputs": [
    {
     "data": {
      "text/plain": [
       "115"
      ]
     },
     "execution_count": 32,
     "metadata": {},
     "output_type": "execute_result"
    }
   ],
   "source": [
    "len(article)"
   ]
  },
  {
   "cell_type": "code",
   "execution_count": null,
   "metadata": {},
   "outputs": [],
   "source": []
  }
 ],
 "metadata": {
  "interpreter": {
   "hash": "4396f389b93e7269692bd3bea4c62813bbe379469bde939b058805f538feec11"
  },
  "kernelspec": {
   "display_name": "Python 3.7.7 ('dev')",
   "language": "python",
   "name": "python3"
  },
  "language_info": {
   "codemirror_mode": {
    "name": "ipython",
    "version": 3
   },
   "file_extension": ".py",
   "mimetype": "text/x-python",
   "name": "python",
   "nbconvert_exporter": "python",
   "pygments_lexer": "ipython3",
   "version": "3.7.7"
  }
 },
 "nbformat": 4,
 "nbformat_minor": 4
}
