{
 "cells": [
  {
   "cell_type": "markdown",
   "metadata": {},
   "source": [
    "# Describing America\n",
    "\n",
    "Somehow, the speech delivered by country leaders when they start duties on their charge could shape the line they will follow during their term. In this activity, you will use NLTK and spaCy to analyze the inaugural addresses delivered by the Presidents from the United States since 1798.\n",
    "\n",
    "You will use [the inaugural address corpus](https://www.nltk.org/book/ch02.html#inaugural-address-corpus) from the NLTK library to identify what were the most common adjectives used by U.S. Presidents and how these adjectives describe America."
   ]
  },
  {
   "cell_type": "markdown",
   "metadata": {},
   "source": [
    "## Initial considerations\n",
    "\n",
    "In the `Initial imports` cell, we are importing two modules that are worth highlighting.\n",
    "\n",
    "* The `Counter` module from the `collections` library will allow you to track how many times equivalent values are found in a list.\n",
    "\n",
    "* The `inaugural` module from the `nltk.corpus` library provides some methods to extract information from [the inaugural address corpus](https://www.nltk.org/book/ch02.html#inaugural-address-corpus)."
   ]
  },
  {
   "cell_type": "code",
   "execution_count": 16,
   "metadata": {},
   "outputs": [],
   "source": [
    "# Initial imports\n",
    "import nltk\n",
    "import spacy\n",
    "import pandas as pd\n",
    "from collections import Counter\n",
    "from nltk.corpus import inaugural\n",
    "\n",
    "%matplotlib inline"
   ]
  },
  {
   "cell_type": "code",
   "execution_count": 17,
   "metadata": {},
   "outputs": [
    {
     "name": "stderr",
     "output_type": "stream",
     "text": [
      "[nltk_data] Downloading package inaugural to\n",
      "[nltk_data]     /Users/ddevii/nltk_data...\n",
      "[nltk_data]   Package inaugural is already up-to-date!\n"
     ]
    },
    {
     "data": {
      "text/plain": [
       "True"
      ]
     },
     "execution_count": 17,
     "metadata": {},
     "output_type": "execute_result"
    }
   ],
   "source": [
    "# Download NLTK's inaugural corpus\n",
    "nltk.download(\"inaugural\")"
   ]
  },
  {
   "cell_type": "code",
   "execution_count": 18,
   "metadata": {},
   "outputs": [],
   "source": [
    "# Load the English language model for spaCy\n",
    "nlp = spacy.load(\"en_core_web_sm\")"
   ]
  },
  {
   "cell_type": "markdown",
   "metadata": {},
   "source": [
    "## Instructions"
   ]
  },
  {
   "cell_type": "markdown",
   "metadata": {},
   "source": [
    "### 1. Retrieve the documents IDs and text of the U.S. presidential inaugural addresses"
   ]
  },
  {
   "cell_type": "code",
   "execution_count": null,
   "metadata": {},
   "outputs": [],
   "source": [
    "# Retrieve the IDs of inaugural addresses\n",
    "ids = inaugural.fileids()\n",
    "\n",
    "# Retrieve the text of inaugural addresses\n",
    "texts = [inaugural.raw(id) for id in ids]\n",
    "\n",
    "# Display sample inaugural address\n",
    "print(ids[0])\n",
    "print(texts[0])"
   ]
  },
  {
   "cell_type": "markdown",
   "metadata": {},
   "source": [
    "### 2. Retrieve the most frequent adjective from each inaugural address"
   ]
  },
  {
   "cell_type": "code",
   "execution_count": 13,
   "metadata": {},
   "outputs": [],
   "source": [
    "# Helper function\n",
    "def most_freq_adj(text):\n",
    "    \"\"\"\n",
    "    This function used spaCy to get the most common adjective from each text.\n",
    "    \n",
    "    Args:\n",
    "        text (string): The text to analyze.\n",
    "        \n",
    "    Returns:\n",
    "        most_common_adj (list): A list containing a tuple with the most common adjective and its occurrence in the text.\n",
    "    \"\"\"\n",
    "    \n",
    "    # Tokenizes text and parse each token\n",
    "    doc = nlp(text)\n",
    "    \n",
    "    # Creates a list with all the adjectives in the text\n",
    "    adjs = [token.text.lower() for token in doc if token.pos_ == 'ADJ']\n",
    "    \n",
    "    # Retrieves the most frequent adjective in the `adjs` list using the Counter module\n",
    "    most_common_adj = Counter(adjs).most_common(1)\n",
    "    \n",
    "    return most_common_adj"
   ]
  },
  {
   "cell_type": "code",
   "execution_count": 20,
   "metadata": {},
   "outputs": [
    {
     "name": "stdout",
     "output_type": "stream",
     "text": [
      "[[('public', 6)], [('fellow', 1)], [('foreign', 8)], [('own', 6)], [('public', 14)]]\n"
     ]
    }
   ],
   "source": [
    "# Create a list of the most common adjective for each inaugural address\n",
    "adjs = [most_freq_adj(text) for text in texts]\n",
    "\n",
    "# Display sample data\n",
    "print(adjs[:5])"
   ]
  },
  {
   "cell_type": "code",
   "execution_count": 21,
   "metadata": {},
   "outputs": [
    {
     "data": {
      "text/html": [
       "<div>\n",
       "<style scoped>\n",
       "    .dataframe tbody tr th:only-of-type {\n",
       "        vertical-align: middle;\n",
       "    }\n",
       "\n",
       "    .dataframe tbody tr th {\n",
       "        vertical-align: top;\n",
       "    }\n",
       "\n",
       "    .dataframe thead th {\n",
       "        text-align: right;\n",
       "    }\n",
       "</style>\n",
       "<table border=\"1\" class=\"dataframe\">\n",
       "  <thead>\n",
       "    <tr style=\"text-align: right;\">\n",
       "      <th></th>\n",
       "      <th>doc_id</th>\n",
       "      <th>adjective</th>\n",
       "    </tr>\n",
       "  </thead>\n",
       "  <tbody>\n",
       "    <tr>\n",
       "      <th>0</th>\n",
       "      <td>1789-Washington.txt</td>\n",
       "      <td>[(public, 6)]</td>\n",
       "    </tr>\n",
       "    <tr>\n",
       "      <th>1</th>\n",
       "      <td>1793-Washington.txt</td>\n",
       "      <td>[(fellow, 1)]</td>\n",
       "    </tr>\n",
       "    <tr>\n",
       "      <th>2</th>\n",
       "      <td>1797-Adams.txt</td>\n",
       "      <td>[(foreign, 8)]</td>\n",
       "    </tr>\n",
       "    <tr>\n",
       "      <th>3</th>\n",
       "      <td>1801-Jefferson.txt</td>\n",
       "      <td>[(own, 6)]</td>\n",
       "    </tr>\n",
       "    <tr>\n",
       "      <th>4</th>\n",
       "      <td>1805-Jefferson.txt</td>\n",
       "      <td>[(public, 14)]</td>\n",
       "    </tr>\n",
       "    <tr>\n",
       "      <th>5</th>\n",
       "      <td>1809-Madison.txt</td>\n",
       "      <td>[(public, 6)]</td>\n",
       "    </tr>\n",
       "    <tr>\n",
       "      <th>6</th>\n",
       "      <td>1813-Madison.txt</td>\n",
       "      <td>[(other, 4)]</td>\n",
       "    </tr>\n",
       "    <tr>\n",
       "      <th>7</th>\n",
       "      <td>1817-Monroe.txt</td>\n",
       "      <td>[(great, 20)]</td>\n",
       "    </tr>\n",
       "    <tr>\n",
       "      <th>8</th>\n",
       "      <td>1821-Monroe.txt</td>\n",
       "      <td>[(great, 26)]</td>\n",
       "    </tr>\n",
       "    <tr>\n",
       "      <th>9</th>\n",
       "      <td>1825-Adams.txt</td>\n",
       "      <td>[(other, 10)]</td>\n",
       "    </tr>\n",
       "  </tbody>\n",
       "</table>\n",
       "</div>"
      ],
      "text/plain": [
       "                doc_id       adjective\n",
       "0  1789-Washington.txt   [(public, 6)]\n",
       "1  1793-Washington.txt   [(fellow, 1)]\n",
       "2       1797-Adams.txt  [(foreign, 8)]\n",
       "3   1801-Jefferson.txt      [(own, 6)]\n",
       "4   1805-Jefferson.txt  [(public, 14)]\n",
       "5     1809-Madison.txt   [(public, 6)]\n",
       "6     1813-Madison.txt    [(other, 4)]\n",
       "7      1817-Monroe.txt   [(great, 20)]\n",
       "8      1821-Monroe.txt   [(great, 26)]\n",
       "9       1825-Adams.txt   [(other, 10)]"
      ]
     },
     "execution_count": 21,
     "metadata": {},
     "output_type": "execute_result"
    }
   ],
   "source": [
    "# Create a DataFrame `df_adjs` with the most common adjective for each inaugural address.\n",
    "df_adjs = pd.DataFrame(\n",
    "    {\n",
    "        \"doc_id\": ids,\n",
    "        \"adjective\": adjs\n",
    "    }\n",
    ")\n",
    "\n",
    "# Display sample data from the first ten inaugural addresses\n",
    "df_adjs.head(10)"
   ]
  },
  {
   "cell_type": "markdown",
   "metadata": {},
   "source": [
    "### 3. Analyze adjectives over time"
   ]
  },
  {
   "cell_type": "code",
   "execution_count": 22,
   "metadata": {},
   "outputs": [],
   "source": [
    "# Helper functions\n",
    "def all_adj(text):\n",
    "    \"\"\"\n",
    "    This function retrieves all the adjectives on the given text.\n",
    "    \n",
    "    Args:\n",
    "        text (string): The text to analyze.\n",
    "        \n",
    "    Returns:\n",
    "        adjs (list): A list with all the adjectives in the text.\n",
    "    \"\"\"\n",
    "    \n",
    "    # Tokenize the text and parse each token\n",
    "    doc = nlp(text)\n",
    "    \n",
    "    # Create a list with all the adjectives in the text\n",
    "    adjs = [token.text.lower() for token in doc if token.pos_ == 'ADJ']\n",
    "    \n",
    "    return adjs\n",
    "\n",
    "# Import the word_tokenize module from NLTK\n",
    "from nltk.tokenize import word_tokenize\n",
    "\n",
    "def get_word_counts(text, word):\n",
    "    \"\"\"\n",
    "    This function counts the occurrences of a word in a text.\n",
    "    \n",
    "    Args:\n",
    "        text (string): The text where word counts will be analyzed.\n",
    "        word (string): The word to look into the text.\n",
    "        \n",
    "    Returns:\n",
    "        word_count (int): The counts of the word in the given text.\n",
    "    \"\"\"\n",
    "    \n",
    "    # Use the word_tokenize module from NLTK to tokenize the text\n",
    "    tok = word_tokenize(text)\n",
    "    \n",
    "    # Create a list with all the tokens retrieved from the text\n",
    "    tok = [word.lower() for word in tok]\n",
    "    \n",
    "    # Count the occurrences of the word in the text\n",
    "    word_count = tok.count(word)\n",
    "    \n",
    "    return word_count"
   ]
  },
  {
   "cell_type": "markdown",
   "metadata": {},
   "source": [
    "#### Use the `all_adj()` function to create a Python list `all_adjectives` containing all the adjectives from all the inaugural addresses."
   ]
  },
  {
   "cell_type": "code",
   "execution_count": 23,
   "metadata": {},
   "outputs": [
    {
     "name": "stdout",
     "output_type": "stream",
     "text": [
      "['greater', '14th', 'present', 'fondest', 'immutable', 'necessary', 'more', 'dear', 'frequent', 'gradual']\n"
     ]
    }
   ],
   "source": [
    "# Create an empty list to store all the adjectives\n",
    "all_adjectives = []\n",
    "\n",
    "# Use a for-loop to retrieve all the adjectives on each inaugural address and concatenate the adjectives fetched to `all_adjectives`\n",
    "for text in texts:\n",
    "    all_adjectives = all_adjectives + all_adj(text)\n",
    "    \n",
    "# Print sample data\n",
    "print(all_adjectives[:10])"
   ]
  },
  {
   "cell_type": "markdown",
   "metadata": {},
   "source": [
    "#### Use the `most_common()` function from the `Counter` module to fetch the three most frequent adjectives used in the U.S. Presidential inaugural address. The `most_common()` function returns a Python list that you should store in a variable called `most_freq_adjectives`."
   ]
  },
  {
   "cell_type": "code",
   "execution_count": 24,
   "metadata": {},
   "outputs": [
    {
     "name": "stdout",
     "output_type": "stream",
     "text": [
      "[('great', 329), ('other', 269), ('own', 247)]\n"
     ]
    }
   ],
   "source": [
    "# Retrieve the three most frequent adjectives\n",
    "most_freq_adjectives = Counter(all_adjectives).most_common(3)\n",
    "\n",
    "# Print the three most frequent adjectives\n",
    "print(most_freq_adjectives)"
   ]
  },
  {
   "cell_type": "markdown",
   "metadata": {},
   "source": [
    "#### Use the `get_word_counts()` function to compute the counts of each of the three most frequent adjectives in the U.S. Presidential inaugural addresses"
   ]
  },
  {
   "cell_type": "code",
   "execution_count": 25,
   "metadata": {},
   "outputs": [
    {
     "name": "stdout",
     "output_type": "stream",
     "text": [
      "Great counts sample data: [3, 0, 5, 1, 1]\n",
      "Other counts sample data: [1, 0, 2, 1, 6]\n",
      "Own counts sample data: [2, 0, 4, 6, 5]\n"
     ]
    }
   ],
   "source": [
    "# Use list comprehensions to create a list with the counts of each top adjective in the inaugural addresses\n",
    "great_counts = [get_word_counts(text, \"great\") for text in texts]\n",
    "other_counts = [get_word_counts(text, \"other\") for text in texts]\n",
    "own_counts = [get_word_counts(text, \"own\") for text in texts]\n",
    "\n",
    "# Display sample data\n",
    "print(f\"Great counts sample data: {great_counts[:5]}\")\n",
    "print(f\"Other counts sample data: {other_counts[:5]}\")\n",
    "print(f\"Own counts sample data: {own_counts[:5]}\")"
   ]
  },
  {
   "cell_type": "markdown",
   "metadata": {},
   "source": [
    "#### Create a Python list `dates` to store the year when every inaugural address was delivered"
   ]
  },
  {
   "cell_type": "code",
   "execution_count": 26,
   "metadata": {},
   "outputs": [
    {
     "name": "stdout",
     "output_type": "stream",
     "text": [
      "['1789', '1793', '1797', '1801', '1805']\n"
     ]
    }
   ],
   "source": [
    "# Create a list `dates` with the year for each inaugural address using the file IDs\n",
    "dates = [id.split(\"-\")[0] for id in ids]\n",
    "\n",
    "# Print sample data\n",
    "print(dates[:5])"
   ]
  },
  {
   "cell_type": "markdown",
   "metadata": {},
   "source": [
    "#### Create a Python list `presidents` to store the last name of each U.S. President whose inaugural address is in the `inaugural` corpus."
   ]
  },
  {
   "cell_type": "code",
   "execution_count": 29,
   "metadata": {},
   "outputs": [
    {
     "name": "stdout",
     "output_type": "stream",
     "text": [
      "['Washington', 'Washington', 'Adams', 'Jefferson', 'Jefferson']\n"
     ]
    }
   ],
   "source": [
    "# Create a list `presidents` with the last name of each president\n",
    "presidents = [id.split(\"-\")[1].split(\".\")[0] for id in ids]\n",
    "\n",
    "# Print sample data\n",
    "print(presidents[:5])"
   ]
  },
  {
   "cell_type": "markdown",
   "metadata": {},
   "source": [
    "#### Create a DataFrame `df_adjectives` with the Presidents last names and the adjectives counts as columns, and set the `dates` list as the index"
   ]
  },
  {
   "cell_type": "code",
   "execution_count": 30,
   "metadata": {},
   "outputs": [
    {
     "data": {
      "text/html": [
       "<div>\n",
       "<style scoped>\n",
       "    .dataframe tbody tr th:only-of-type {\n",
       "        vertical-align: middle;\n",
       "    }\n",
       "\n",
       "    .dataframe tbody tr th {\n",
       "        vertical-align: top;\n",
       "    }\n",
       "\n",
       "    .dataframe thead th {\n",
       "        text-align: right;\n",
       "    }\n",
       "</style>\n",
       "<table border=\"1\" class=\"dataframe\">\n",
       "  <thead>\n",
       "    <tr style=\"text-align: right;\">\n",
       "      <th></th>\n",
       "      <th>president</th>\n",
       "      <th>great</th>\n",
       "      <th>other</th>\n",
       "      <th>own</th>\n",
       "    </tr>\n",
       "  </thead>\n",
       "  <tbody>\n",
       "    <tr>\n",
       "      <th>1789</th>\n",
       "      <td>Washington</td>\n",
       "      <td>3</td>\n",
       "      <td>1</td>\n",
       "      <td>2</td>\n",
       "    </tr>\n",
       "    <tr>\n",
       "      <th>1793</th>\n",
       "      <td>Washington</td>\n",
       "      <td>0</td>\n",
       "      <td>0</td>\n",
       "      <td>0</td>\n",
       "    </tr>\n",
       "    <tr>\n",
       "      <th>1797</th>\n",
       "      <td>Adams</td>\n",
       "      <td>5</td>\n",
       "      <td>2</td>\n",
       "      <td>4</td>\n",
       "    </tr>\n",
       "    <tr>\n",
       "      <th>1801</th>\n",
       "      <td>Jefferson</td>\n",
       "      <td>1</td>\n",
       "      <td>1</td>\n",
       "      <td>6</td>\n",
       "    </tr>\n",
       "    <tr>\n",
       "      <th>1805</th>\n",
       "      <td>Jefferson</td>\n",
       "      <td>1</td>\n",
       "      <td>6</td>\n",
       "      <td>5</td>\n",
       "    </tr>\n",
       "  </tbody>\n",
       "</table>\n",
       "</div>"
      ],
      "text/plain": [
       "       president  great  other  own\n",
       "1789  Washington      3      1    2\n",
       "1793  Washington      0      0    0\n",
       "1797       Adams      5      2    4\n",
       "1801   Jefferson      1      1    6\n",
       "1805   Jefferson      1      6    5"
      ]
     },
     "execution_count": 30,
     "metadata": {},
     "output_type": "execute_result"
    }
   ],
   "source": [
    "# Set DataFrame data\n",
    "adjectives_data = {\n",
    "    \"president\": presidents,\n",
    "    \"great\": great_counts,\n",
    "    \"other\": other_counts,\n",
    "    \"own\": own_counts\n",
    "}\n",
    "# Create the DataFrame\n",
    "df_adjectives = pd.DataFrame(adjectives_data, index=pd.to_datetime(dates).year)\n",
    "\n",
    "# Display same data\n",
    "df_adjectives.head(5)"
   ]
  },
  {
   "cell_type": "markdown",
   "metadata": {},
   "source": [
    "#### Create a line plot using the `df_adjectives` DataFrame to visualize the usage of the most common adjective over time in the U.S. presidential inaugural addresses"
   ]
  },
  {
   "cell_type": "code",
   "execution_count": 32,
   "metadata": {},
   "outputs": [
    {
     "data": {
      "text/plain": [
       "<AxesSubplot:title={'center':'Most common adjectives used in the US. presidential inagural adresses'}>"
      ]
     },
     "execution_count": 32,
     "metadata": {},
     "output_type": "execute_result"
    },
    {
     "data": {
      "image/png": "[encoded data removed]",
      "text/plain": [
       "<Figure size 864x432 with 1 Axes>"
      ]
     },
     "metadata": {
      "needs_background": "light"
     },
     "output_type": "display_data"
    }
   ],
   "source": [
    "# Use the `df_adjectives` DataFrame to plot frequencies of each adjective over time\n",
    "df_adjectives.plot(\n",
    "    title = \"Most common adjectives used in the US. presidential inagural adresses\",\n",
    "    figsize = (12,6)\n",
    ")"
   ]
  },
  {
   "cell_type": "markdown",
   "metadata": {},
   "source": [
    "### 4. Adjectives describing America"
   ]
  },
  {
   "cell_type": "markdown",
   "metadata": {},
   "source": [
    "#### Use spaCy to create a function `describe_america()` that returns the adjectives in all the inaugural addresses that describe the word `America`"
   ]
  },
  {
   "cell_type": "code",
   "execution_count": 16,
   "metadata": {},
   "outputs": [],
   "source": [
    "def describe_america(text):\n",
    "    \"\"\"\n",
    "    This function retrieves the adjectives in the text that describe the word 'America'.\n",
    "    \n",
    "    Args:\n",
    "        text (string): The text to analyze.\n",
    "        \n",
    "    Returns:\n",
    "        adjs (list): A list of the adjectives that describe the word 'America' in the text.\n",
    "    \"\"\"\n",
    "    \n",
    "    # Use the spaCy English language model to tokenize the text and parse each token\n",
    "    # YOUR CODE HERE!\n",
    "\n",
    "    # Create a list with all the adjectives in the text that describe the word 'America'\n",
    "    # YOUR CODE HERE!\n",
    "    \n",
    "    return adjs"
   ]
  },
  {
   "cell_type": "markdown",
   "metadata": {},
   "source": [
    "#### Use the `describe_america()` function you defined to create a Python list containing all the adjectives describing the word `America` from all the inaugural addresses in the corpus."
   ]
  },
  {
   "cell_type": "code",
   "execution_count": 17,
   "metadata": {},
   "outputs": [
    {
     "name": "stdout",
     "output_type": "stream",
     "text": [
      "['productive', 'strong', 'stronger', 'rich']\n"
     ]
    }
   ],
   "source": [
    "# Create an empty list to store the adjectives\n",
    "america_adjectives = []\n",
    "\n",
    "# Use a for-loop to retrieve all the adjectives that describe the word 'America' on each inaugural address and concatenate the adjectives fetched to `america_adjectives`\n",
    "# YOUR CODE HERE!\n",
    "    \n",
    "# Print the list of the adjectives describing the word 'America'\n",
    "# YOUR CODE HERE!"
   ]
  }
 ],
 "metadata": {
  "interpreter": {
   "hash": "4396f389b93e7269692bd3bea4c62813bbe379469bde939b058805f538feec11"
  },
  "kernelspec": {
   "display_name": "Python 3.7.7 ('dev')",
   "language": "python",
   "name": "python3"
  },
  "language_info": {
   "codemirror_mode": {
    "name": "ipython",
    "version": 3
   },
   "file_extension": ".py",
   "mimetype": "text/x-python",
   "name": "python",
   "nbconvert_exporter": "python",
   "pygments_lexer": "ipython3",
   "version": "3.7.7"
  }
 },
 "nbformat": 4,
 "nbformat_minor": 4
}
