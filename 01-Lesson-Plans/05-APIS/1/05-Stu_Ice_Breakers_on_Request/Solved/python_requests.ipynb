{
 "cells": [
  {
   "cell_type": "markdown",
   "metadata": {},
   "source": [
    "## Ice Breakers on Request"
   ]
  },
  {
   "cell_type": "markdown",
   "metadata": {},
   "source": [
    "### Import requests library"
   ]
  },
  {
   "cell_type": "code",
   "execution_count": 17,
   "metadata": {},
   "outputs": [],
   "source": [
    "import requests"
   ]
  },
  {
   "cell_type": "markdown",
   "metadata": {},
   "source": [
    "### Declare `request_urls`"
   ]
  },
  {
   "cell_type": "code",
   "execution_count": 18,
   "metadata": {},
   "outputs": [],
   "source": [
    "# Declare `url` variables\n",
    "prog_joke_url = \"https://official-joke-api.appspot.com/jokes/programming/random\"\n",
    "rand_joke_url = \"https://official-joke-api.appspot.com/jokes/random\"\n",
    "cat_facts_url = \"https://cat-fact.herokuapp.com/facts\"\n",
    "dot_spending_url = \"https://api.usaspending.gov//api/v2/references/agency/456/\"\n",
    "us_gdp_data_url = \"http://api.worldbank.org/v2/country/us?format=json\""
   ]
  },
  {
   "cell_type": "markdown",
   "metadata": {},
   "source": [
    "### Execute `GET` request using `requests` library"
   ]
  },
  {
   "cell_type": "code",
   "execution_count": 19,
   "metadata": {},
   "outputs": [],
   "source": [
    "# Execute `GET` request with url\n",
    "response_data = requests.get(cat_facts_url)"
   ]
  },
  {
   "cell_type": "markdown",
   "metadata": {},
   "source": [
    "### Get response `status code`"
   ]
  },
  {
   "cell_type": "code",
   "execution_count": 20,
   "metadata": {},
   "outputs": [
    {
     "name": "stdout",
     "output_type": "stream",
     "text": [
      "<Response [200]>\n"
     ]
    }
   ],
   "source": [
    "# Print `response_data variable`\n",
    "print(response_data)"
   ]
  },
  {
   "cell_type": "markdown",
   "metadata": {},
   "source": [
    "### Extract response `content`"
   ]
  },
  {
   "cell_type": "code",
   "execution_count": 21,
   "metadata": {},
   "outputs": [],
   "source": [
    "# Store response using `content` attribute\n",
    "response_content = response_data.content"
   ]
  },
  {
   "cell_type": "markdown",
   "metadata": {},
   "source": [
    "### Convert output to JSON"
   ]
  },
  {
   "cell_type": "code",
   "execution_count": 22,
   "metadata": {},
   "outputs": [],
   "source": [
    "# Format data as JSON\n",
    "data = response_data.json()"
   ]
  },
  {
   "cell_type": "markdown",
   "metadata": {},
   "source": [
    "### Format data with `json.dumps`"
   ]
  },
  {
   "cell_type": "code",
   "execution_count": 23,
   "metadata": {},
   "outputs": [
    {
     "name": "stdout",
     "output_type": "stream",
     "text": [
      "[\n",
      "       {\n",
      "              \"status\": {\n",
      "                     \"verified\": true,\n",
      "                     \"sentCount\": 1\n",
      "              },\n",
      "              \"_id\": \"58e008800aac31001185ed07\",\n",
      "              \"user\": \"58e007480aac31001185ecef\",\n",
      "              \"text\": \"Wikipedia has a recording of a cat meowing, because why not?\",\n",
      "              \"__v\": 0,\n",
      "              \"source\": \"user\",\n",
      "              \"updatedAt\": \"2020-08-23T20:20:01.611Z\",\n",
      "              \"type\": \"cat\",\n",
      "              \"createdAt\": \"2018-03-06T21:20:03.505Z\",\n",
      "              \"deleted\": false,\n",
      "              \"used\": false\n",
      "       },\n",
      "       {\n",
      "              \"status\": {\n",
      "                     \"verified\": true,\n",
      "                     \"sentCount\": 1\n",
      "              },\n",
      "              \"_id\": \"58e008630aac31001185ed01\",\n",
      "              \"user\": \"58e007480aac31001185ecef\",\n",
      "              \"text\": \"When cats grimace, they are usually \\\"taste-scenting.\\\" They have an extra organ that, with some breathing control, allows the cats to taste-sense the air.\",\n",
      "              \"__v\": 0,\n",
      "              \"source\": \"user\",\n",
      "              \"updatedAt\": \"2020-08-23T20:20:01.611Z\",\n",
      "              \"type\": \"cat\",\n",
      "              \"createdAt\": \"2018-02-07T21:20:02.903Z\",\n",
      "              \"deleted\": false,\n",
      "              \"used\": false\n",
      "       },\n",
      "       {\n",
      "              \"status\": {\n",
      "                     \"verified\": true,\n",
      "                     \"sentCount\": 1\n",
      "              },\n",
      "              \"_id\": \"58e00a090aac31001185ed16\",\n",
      "              \"user\": \"58e007480aac31001185ecef\",\n",
      "              \"text\": \"Cats make more than 100 different sounds whereas dogs make around 10.\",\n",
      "              \"__v\": 0,\n",
      "              \"source\": \"user\",\n",
      "              \"updatedAt\": \"2020-08-23T20:20:01.611Z\",\n",
      "              \"type\": \"cat\",\n",
      "              \"createdAt\": \"2018-02-11T21:20:03.745Z\",\n",
      "              \"deleted\": false,\n",
      "              \"used\": false\n",
      "       },\n",
      "       {\n",
      "              \"status\": {\n",
      "                     \"verified\": true,\n",
      "                     \"sentCount\": 1\n",
      "              },\n",
      "              \"_id\": \"58e009390aac31001185ed10\",\n",
      "              \"user\": \"58e007480aac31001185ecef\",\n",
      "              \"text\": \"Most cats are lactose intolerant, and milk can cause painful stomach cramps and diarrhea. It's best to forego the milk and just give your cat the standard: clean, cool drinking water.\",\n",
      "              \"__v\": 0,\n",
      "              \"source\": \"user\",\n",
      "              \"updatedAt\": \"2020-08-23T20:20:01.611Z\",\n",
      "              \"type\": \"cat\",\n",
      "              \"createdAt\": \"2018-03-04T21:20:02.979Z\",\n",
      "              \"deleted\": false,\n",
      "              \"used\": false\n",
      "       },\n",
      "       {\n",
      "              \"status\": {\n",
      "                     \"verified\": true,\n",
      "                     \"sentCount\": 1\n",
      "              },\n",
      "              \"_id\": \"58e008780aac31001185ed05\",\n",
      "              \"user\": \"58e007480aac31001185ecef\",\n",
      "              \"text\": \"Owning a cat can reduce the risk of stroke and heart attack by a third.\",\n",
      "              \"__v\": 0,\n",
      "              \"source\": \"user\",\n",
      "              \"updatedAt\": \"2020-08-23T20:20:01.611Z\",\n",
      "              \"type\": \"cat\",\n",
      "              \"createdAt\": \"2018-03-29T20:20:03.844Z\",\n",
      "              \"deleted\": false,\n",
      "              \"used\": false\n",
      "       }\n",
      "]\n"
     ]
    }
   ],
   "source": [
    "import json\n",
    "\n",
    "# Use json.dumps with argument indent=4 to format data\n",
    "print(json.dumps(data, indent=7))"
   ]
  },
  {
   "cell_type": "markdown",
   "metadata": {},
   "source": [
    "### Select value and store as variable"
   ]
  },
  {
   "cell_type": "code",
   "execution_count": 24,
   "metadata": {},
   "outputs": [
    {
     "ename": "KeyError",
     "evalue": "'setup'",
     "output_type": "error",
     "traceback": [
      "\u001b[0;31m---------------------------------------------------------------------------\u001b[0m",
      "\u001b[0;31mKeyError\u001b[0m                                  Traceback (most recent call last)",
      "\u001b[0;32m/var/folders/nv/0njw92cd71ddhz_hfr4fjqqm0000gn/T/ipykernel_89111/2663860303.py\u001b[0m in \u001b[0;36m<module>\u001b[0;34m\u001b[0m\n\u001b[1;32m      1\u001b[0m \u001b[0;31m# Select a programming joke\u001b[0m\u001b[0;34m\u001b[0m\u001b[0;34m\u001b[0m\u001b[0;34m\u001b[0m\u001b[0m\n\u001b[0;32m----> 2\u001b[0;31m \u001b[0mselected_value\u001b[0m \u001b[0;34m=\u001b[0m \u001b[0mdata\u001b[0m\u001b[0;34m[\u001b[0m\u001b[0;36m0\u001b[0m\u001b[0;34m]\u001b[0m\u001b[0;34m[\u001b[0m\u001b[0;34m'setup'\u001b[0m\u001b[0;34m]\u001b[0m\u001b[0;34m\u001b[0m\u001b[0;34m\u001b[0m\u001b[0m\n\u001b[0m\u001b[1;32m      3\u001b[0m \u001b[0mselected_value_2\u001b[0m \u001b[0;34m=\u001b[0m \u001b[0mdata\u001b[0m\u001b[0;34m[\u001b[0m\u001b[0;36m0\u001b[0m\u001b[0;34m]\u001b[0m\u001b[0;34m[\u001b[0m\u001b[0;34m'punchline'\u001b[0m\u001b[0;34m]\u001b[0m\u001b[0;34m\u001b[0m\u001b[0;34m\u001b[0m\u001b[0m\n\u001b[1;32m      4\u001b[0m \u001b[0;34m\u001b[0m\u001b[0m\n\u001b[1;32m      5\u001b[0m \u001b[0;31m# Select a cat joke from JSON output\u001b[0m\u001b[0;34m\u001b[0m\u001b[0;34m\u001b[0m\u001b[0;34m\u001b[0m\u001b[0m\n",
      "\u001b[0;31mKeyError\u001b[0m: 'setup'"
     ]
    }
   ],
   "source": [
    "# Select a programming joke \n",
    "selected_value = data[0]['setup']\n",
    "selected_value_2 = data[0]['punchline']\n",
    "\n",
    "# Select a cat joke from JSON output\n",
    "# selected_value = data['all'][0]['text']"
   ]
  },
  {
   "cell_type": "code",
   "execution_count": null,
   "metadata": {},
   "outputs": [
    {
     "name": "stdout",
     "output_type": "stream",
     "text": [
      "Why do programmers always mix up Halloween and Christmas?\n",
      "Because Oct 31 == Dec 25\n"
     ]
    }
   ],
   "source": [
    "# Print selected values\n",
    "print(selected_value)\n",
    "print(selected_value_2)"
   ]
  }
 ],
 "metadata": {
  "kernelspec": {
   "display_name": "Python 3",
   "language": "python",
   "name": "python3"
  },
  "language_info": {
   "codemirror_mode": {
    "name": "ipython",
    "version": 3
   },
   "file_extension": ".py",
   "mimetype": "text/x-python",
   "name": "python",
   "nbconvert_exporter": "python",
   "pygments_lexer": "ipython3",
   "version": "3.7.11"
  }
 },
 "nbformat": 4,
 "nbformat_minor": 2
}
