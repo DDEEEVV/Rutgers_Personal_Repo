{
 "cells": [
  {
   "cell_type": "markdown",
   "metadata": {},
   "source": [
    "# Demo: Normal Distribution of Stock Ticker Data\n",
    "\n",
    "This program retrieves stock price data using the Alpaca API and plots the data using Pandas. These plots demonstrate the distribution of daily stock closing prices compared to the expected normal probability distribution. "
   ]
  },
  {
   "cell_type": "markdown",
   "metadata": {},
   "source": [
    "## Import Dependencies"
   ]
  },
  {
   "cell_type": "code",
   "execution_count": 13,
   "metadata": {
    "tags": []
   },
   "outputs": [],
   "source": [
    "# Import libraries and dependencies\n",
    "import os\n",
    "import pandas as pd\n",
    "import alpaca_trade_api as tradeapi\n",
    "\n",
    "# Load .env environment variables\n",
    "from dotenv import load_dotenv\n",
    "load_dotenv()\n",
    "\n",
    "%matplotlib inline"
   ]
  },
  {
   "cell_type": "code",
   "execution_count": 14,
   "metadata": {
    "tags": []
   },
   "outputs": [],
   "source": [
    "# Set Alpaca API key and secret\n",
    "alpaca_api_key = os.getenv(\"ALPACA_API_KEY\")\n",
    "alpaca_secret_key = os.getenv(\"ALPACA_SECRET_KEY\")\n",
    "\n",
    "# Create the Alpaca API object\n",
    "alpaca = tradeapi.REST(\n",
    "    alpaca_api_key,\n",
    "    alpaca_secret_key,\n",
    "    api_version=\"v2\"\n",
    ")\n"
   ]
  },
  {
   "cell_type": "markdown",
   "metadata": {},
   "source": [
    "## Get 1 Year's Worth of Stock Price Data via Alpaca API Call and Read in as DataFrame "
   ]
  },
  {
   "cell_type": "code",
   "execution_count": 21,
   "metadata": {},
   "outputs": [
    {
     "data": {
      "text/html": [
       "<div>\n",
       "<style scoped>\n",
       "    .dataframe tbody tr th:only-of-type {\n",
       "        vertical-align: middle;\n",
       "    }\n",
       "\n",
       "    .dataframe tbody tr th {\n",
       "        vertical-align: top;\n",
       "    }\n",
       "\n",
       "    .dataframe thead tr th {\n",
       "        text-align: left;\n",
       "    }\n",
       "\n",
       "    .dataframe thead tr:last-of-type th {\n",
       "        text-align: right;\n",
       "    }\n",
       "</style>\n",
       "<table border=\"1\" class=\"dataframe\">\n",
       "  <thead>\n",
       "    <tr>\n",
       "      <th></th>\n",
       "      <th colspan=\"7\" halign=\"left\">TSLA</th>\n",
       "      <th colspan=\"7\" halign=\"left\">KO</th>\n",
       "    </tr>\n",
       "    <tr>\n",
       "      <th></th>\n",
       "      <th>open</th>\n",
       "      <th>high</th>\n",
       "      <th>low</th>\n",
       "      <th>close</th>\n",
       "      <th>volume</th>\n",
       "      <th>trade_count</th>\n",
       "      <th>vwap</th>\n",
       "      <th>open</th>\n",
       "      <th>high</th>\n",
       "      <th>low</th>\n",
       "      <th>close</th>\n",
       "      <th>volume</th>\n",
       "      <th>trade_count</th>\n",
       "      <th>vwap</th>\n",
       "    </tr>\n",
       "    <tr>\n",
       "      <th>timestamp</th>\n",
       "      <th></th>\n",
       "      <th></th>\n",
       "      <th></th>\n",
       "      <th></th>\n",
       "      <th></th>\n",
       "      <th></th>\n",
       "      <th></th>\n",
       "      <th></th>\n",
       "      <th></th>\n",
       "      <th></th>\n",
       "      <th></th>\n",
       "      <th></th>\n",
       "      <th></th>\n",
       "      <th></th>\n",
       "    </tr>\n",
       "  </thead>\n",
       "  <tbody>\n",
       "    <tr>\n",
       "      <th>2019-05-01 04:00:00+00:00</th>\n",
       "      <td>238.85</td>\n",
       "      <td>240.0000</td>\n",
       "      <td>231.50</td>\n",
       "      <td>234.01</td>\n",
       "      <td>10704355</td>\n",
       "      <td>108382</td>\n",
       "      <td>234.544288</td>\n",
       "      <td>48.95</td>\n",
       "      <td>49.0750</td>\n",
       "      <td>48.55</td>\n",
       "      <td>48.59</td>\n",
       "      <td>10551594</td>\n",
       "      <td>55430</td>\n",
       "      <td>48.792137</td>\n",
       "    </tr>\n",
       "    <tr>\n",
       "      <th>2019-05-02 04:00:00+00:00</th>\n",
       "      <td>245.65</td>\n",
       "      <td>247.1300</td>\n",
       "      <td>237.72</td>\n",
       "      <td>244.10</td>\n",
       "      <td>18167261</td>\n",
       "      <td>173521</td>\n",
       "      <td>242.763484</td>\n",
       "      <td>48.53</td>\n",
       "      <td>48.7657</td>\n",
       "      <td>48.27</td>\n",
       "      <td>48.39</td>\n",
       "      <td>8724932</td>\n",
       "      <td>49477</td>\n",
       "      <td>48.453170</td>\n",
       "    </tr>\n",
       "    <tr>\n",
       "      <th>2019-05-03 04:00:00+00:00</th>\n",
       "      <td>244.00</td>\n",
       "      <td>256.6100</td>\n",
       "      <td>243.49</td>\n",
       "      <td>255.03</td>\n",
       "      <td>23740838</td>\n",
       "      <td>205076</td>\n",
       "      <td>252.330502</td>\n",
       "      <td>48.60</td>\n",
       "      <td>48.9600</td>\n",
       "      <td>48.52</td>\n",
       "      <td>48.72</td>\n",
       "      <td>7076949</td>\n",
       "      <td>39003</td>\n",
       "      <td>48.773171</td>\n",
       "    </tr>\n",
       "    <tr>\n",
       "      <th>2019-05-06 04:00:00+00:00</th>\n",
       "      <td>250.00</td>\n",
       "      <td>258.3499</td>\n",
       "      <td>248.50</td>\n",
       "      <td>255.34</td>\n",
       "      <td>10860343</td>\n",
       "      <td>93066</td>\n",
       "      <td>254.021222</td>\n",
       "      <td>48.33</td>\n",
       "      <td>48.6100</td>\n",
       "      <td>48.26</td>\n",
       "      <td>48.47</td>\n",
       "      <td>8658209</td>\n",
       "      <td>44597</td>\n",
       "      <td>48.465858</td>\n",
       "    </tr>\n",
       "    <tr>\n",
       "      <th>2019-05-07 04:00:00+00:00</th>\n",
       "      <td>256.80</td>\n",
       "      <td>257.2100</td>\n",
       "      <td>245.10</td>\n",
       "      <td>247.06</td>\n",
       "      <td>10261408</td>\n",
       "      <td>103693</td>\n",
       "      <td>249.863277</td>\n",
       "      <td>48.23</td>\n",
       "      <td>48.2900</td>\n",
       "      <td>47.77</td>\n",
       "      <td>48.00</td>\n",
       "      <td>12487481</td>\n",
       "      <td>59828</td>\n",
       "      <td>48.012280</td>\n",
       "    </tr>\n",
       "  </tbody>\n",
       "</table>\n",
       "</div>"
      ],
      "text/plain": [
       "                             TSLA                                      \\\n",
       "                             open      high     low   close    volume   \n",
       "timestamp                                                               \n",
       "2019-05-01 04:00:00+00:00  238.85  240.0000  231.50  234.01  10704355   \n",
       "2019-05-02 04:00:00+00:00  245.65  247.1300  237.72  244.10  18167261   \n",
       "2019-05-03 04:00:00+00:00  244.00  256.6100  243.49  255.03  23740838   \n",
       "2019-05-06 04:00:00+00:00  250.00  258.3499  248.50  255.34  10860343   \n",
       "2019-05-07 04:00:00+00:00  256.80  257.2100  245.10  247.06  10261408   \n",
       "\n",
       "                                                      KO                  \\\n",
       "                          trade_count        vwap   open     high    low   \n",
       "timestamp                                                                  \n",
       "2019-05-01 04:00:00+00:00      108382  234.544288  48.95  49.0750  48.55   \n",
       "2019-05-02 04:00:00+00:00      173521  242.763484  48.53  48.7657  48.27   \n",
       "2019-05-03 04:00:00+00:00      205076  252.330502  48.60  48.9600  48.52   \n",
       "2019-05-06 04:00:00+00:00       93066  254.021222  48.33  48.6100  48.26   \n",
       "2019-05-07 04:00:00+00:00      103693  249.863277  48.23  48.2900  47.77   \n",
       "\n",
       "                                                                   \n",
       "                           close    volume trade_count       vwap  \n",
       "timestamp                                                          \n",
       "2019-05-01 04:00:00+00:00  48.59  10551594       55430  48.792137  \n",
       "2019-05-02 04:00:00+00:00  48.39   8724932       49477  48.453170  \n",
       "2019-05-03 04:00:00+00:00  48.72   7076949       39003  48.773171  \n",
       "2019-05-06 04:00:00+00:00  48.47   8658209       44597  48.465858  \n",
       "2019-05-07 04:00:00+00:00  48.00  12487481       59828  48.012280  "
      ]
     },
     "execution_count": 21,
     "metadata": {},
     "output_type": "execute_result"
    }
   ],
   "source": [
    "# Set the Tesla and Coca-Cola tickers\n",
    "ticker = [\"TSLA\",\"KO\"]\n",
    "\n",
    "# Set timeframe to \"1Day\"\n",
    "timeframe = \"1Day\"\n",
    "\n",
    "# Set start and end datetimes of 1 year, between now and 365 days ago.\n",
    "start_date = pd.Timestamp(\"2019-05-01\", tz=\"America/New_York\").isoformat()\n",
    "end_date = pd.Timestamp(\"2020-05-01\", tz=\"America/New_York\").isoformat()\n",
    "\n",
    "# Get 1 year's worth of historical data for Tesla and Coca-Cola\n",
    "# YOUR CODE HERE!\n",
    "stock_data = alpaca.get_bars(\n",
    "    ticker,\n",
    "    timeframe,\n",
    "    start=start_date,\n",
    "    end=end_date\n",
    ").df\n",
    "\n",
    "# Reorganize the DataFrame\n",
    "# Separate ticker data\n",
    "# YOUR CODE HERE!\n",
    "\n",
    "TSLA = stock_data[stock_data['symbol']== 'TSLA'].drop('symbol', axis=1)\n",
    "KO = stock_data[stock_data['symbol']=='KO'].drop('symbol', axis=1)\n",
    "\n",
    "# Concatenate the ticker DataFrames\n",
    "# YOUR CODE HERE!\n",
    "stock_data=pd.concat([TSLA, KO], axis = 1, keys=['TSLA', 'KO'])\n",
    "\n",
    "\n",
    "# Display sample data\n",
    "stock_data.head()"
   ]
  },
  {
   "cell_type": "markdown",
   "metadata": {},
   "source": [
    "## Pick closing prices and compute the daily returns"
   ]
  },
  {
   "cell_type": "code",
   "execution_count": 30,
   "metadata": {},
   "outputs": [
    {
     "data": {
      "text/html": [
       "<div>\n",
       "<style scoped>\n",
       "    .dataframe tbody tr th:only-of-type {\n",
       "        vertical-align: middle;\n",
       "    }\n",
       "\n",
       "    .dataframe tbody tr th {\n",
       "        vertical-align: top;\n",
       "    }\n",
       "\n",
       "    .dataframe thead th {\n",
       "        text-align: right;\n",
       "    }\n",
       "</style>\n",
       "<table border=\"1\" class=\"dataframe\">\n",
       "  <thead>\n",
       "    <tr style=\"text-align: right;\">\n",
       "      <th></th>\n",
       "      <th>TSLA</th>\n",
       "      <th>KO</th>\n",
       "    </tr>\n",
       "  </thead>\n",
       "  <tbody>\n",
       "    <tr>\n",
       "      <th>2019-05-02</th>\n",
       "      <td>0.043118</td>\n",
       "      <td>-0.004116</td>\n",
       "    </tr>\n",
       "    <tr>\n",
       "      <th>2019-05-03</th>\n",
       "      <td>0.044777</td>\n",
       "      <td>0.006820</td>\n",
       "    </tr>\n",
       "    <tr>\n",
       "      <th>2019-05-06</th>\n",
       "      <td>0.001216</td>\n",
       "      <td>-0.005131</td>\n",
       "    </tr>\n",
       "    <tr>\n",
       "      <th>2019-05-07</th>\n",
       "      <td>-0.032427</td>\n",
       "      <td>-0.009697</td>\n",
       "    </tr>\n",
       "    <tr>\n",
       "      <th>2019-05-08</th>\n",
       "      <td>-0.008986</td>\n",
       "      <td>-0.003125</td>\n",
       "    </tr>\n",
       "    <tr>\n",
       "      <th>...</th>\n",
       "      <td>...</td>\n",
       "      <td>...</td>\n",
       "    </tr>\n",
       "    <tr>\n",
       "      <th>2020-04-27</th>\n",
       "      <td>0.101496</td>\n",
       "      <td>0.029716</td>\n",
       "    </tr>\n",
       "    <tr>\n",
       "      <th>2020-04-28</th>\n",
       "      <td>-0.037095</td>\n",
       "      <td>-0.000855</td>\n",
       "    </tr>\n",
       "    <tr>\n",
       "      <th>2020-04-29</th>\n",
       "      <td>0.040813</td>\n",
       "      <td>0.008130</td>\n",
       "    </tr>\n",
       "    <tr>\n",
       "      <th>2020-04-30</th>\n",
       "      <td>-0.023273</td>\n",
       "      <td>-0.026104</td>\n",
       "    </tr>\n",
       "    <tr>\n",
       "      <th>2020-05-01</th>\n",
       "      <td>-0.103034</td>\n",
       "      <td>-0.006319</td>\n",
       "    </tr>\n",
       "  </tbody>\n",
       "</table>\n",
       "<p>253 rows × 2 columns</p>\n",
       "</div>"
      ],
      "text/plain": [
       "                TSLA        KO\n",
       "2019-05-02  0.043118 -0.004116\n",
       "2019-05-03  0.044777  0.006820\n",
       "2019-05-06  0.001216 -0.005131\n",
       "2019-05-07 -0.032427 -0.009697\n",
       "2019-05-08 -0.008986 -0.003125\n",
       "...              ...       ...\n",
       "2020-04-27  0.101496  0.029716\n",
       "2020-04-28 -0.037095 -0.000855\n",
       "2020-04-29  0.040813  0.008130\n",
       "2020-04-30 -0.023273 -0.026104\n",
       "2020-05-01 -0.103034 -0.006319\n",
       "\n",
       "[253 rows x 2 columns]"
      ]
     },
     "execution_count": 30,
     "metadata": {},
     "output_type": "execute_result"
    }
   ],
   "source": [
    "# Create and empty DataFrame for closing prices\n",
    "# YOUR CODE HERE!\n",
    "closing_prices = pd.DataFrame()\n",
    "\n",
    "# Fetch the closing prices of KO and TSLA\n",
    "# YOUR CODE HERE!\n",
    "closing_prices['TSLA'] = stock_data['TSLA']['close']\n",
    "closing_prices['KO'] = stock_data['KO']['close']\n",
    "\n",
    "# Drop the time component of the date\n",
    "# YOUR CODE HERE!\n",
    "closing_prices.index = closing_prices.index.date\n",
    "\n",
    "# Compute daily returns\n",
    "# YOUR CODE HERE!\n",
    "daily_returns = closing_prices.pct_change().dropna()\n",
    "\n",
    "# Display sample data\n",
    "daily_returns"
   ]
  },
  {
   "cell_type": "code",
   "execution_count": 31,
   "metadata": {},
   "outputs": [
    {
     "data": {
      "text/html": [
       "<div>\n",
       "<style scoped>\n",
       "    .dataframe tbody tr th:only-of-type {\n",
       "        vertical-align: middle;\n",
       "    }\n",
       "\n",
       "    .dataframe tbody tr th {\n",
       "        vertical-align: top;\n",
       "    }\n",
       "\n",
       "    .dataframe thead th {\n",
       "        text-align: right;\n",
       "    }\n",
       "</style>\n",
       "<table border=\"1\" class=\"dataframe\">\n",
       "  <thead>\n",
       "    <tr style=\"text-align: right;\">\n",
       "      <th></th>\n",
       "      <th>TSLA</th>\n",
       "      <th>KO</th>\n",
       "    </tr>\n",
       "  </thead>\n",
       "  <tbody>\n",
       "    <tr>\n",
       "      <th>count</th>\n",
       "      <td>253.000000</td>\n",
       "      <td>253.000000</td>\n",
       "    </tr>\n",
       "    <tr>\n",
       "      <th>mean</th>\n",
       "      <td>0.005515</td>\n",
       "      <td>-0.000056</td>\n",
       "    </tr>\n",
       "    <tr>\n",
       "      <th>std</th>\n",
       "      <td>0.048388</td>\n",
       "      <td>0.019682</td>\n",
       "    </tr>\n",
       "    <tr>\n",
       "      <th>min</th>\n",
       "      <td>-0.185778</td>\n",
       "      <td>-0.096725</td>\n",
       "    </tr>\n",
       "    <tr>\n",
       "      <th>25%</th>\n",
       "      <td>-0.011681</td>\n",
       "      <td>-0.006709</td>\n",
       "    </tr>\n",
       "    <tr>\n",
       "      <th>50%</th>\n",
       "      <td>0.004019</td>\n",
       "      <td>0.000192</td>\n",
       "    </tr>\n",
       "    <tr>\n",
       "      <th>75%</th>\n",
       "      <td>0.024596</td>\n",
       "      <td>0.006820</td>\n",
       "    </tr>\n",
       "    <tr>\n",
       "      <th>max</th>\n",
       "      <td>0.198949</td>\n",
       "      <td>0.064796</td>\n",
       "    </tr>\n",
       "  </tbody>\n",
       "</table>\n",
       "</div>"
      ],
      "text/plain": [
       "             TSLA          KO\n",
       "count  253.000000  253.000000\n",
       "mean     0.005515   -0.000056\n",
       "std      0.048388    0.019682\n",
       "min     -0.185778   -0.096725\n",
       "25%     -0.011681   -0.006709\n",
       "50%      0.004019    0.000192\n",
       "75%      0.024596    0.006820\n",
       "max      0.198949    0.064796"
      ]
     },
     "execution_count": 31,
     "metadata": {},
     "output_type": "execute_result"
    }
   ],
   "source": [
    "# Generate descriptive statistics\n",
    "# YOUR CODE HERE!\n",
    "\n",
    "daily_returns.describe()"
   ]
  },
  {
   "cell_type": "markdown",
   "metadata": {},
   "source": [
    "### Plot Distributions"
   ]
  },
  {
   "cell_type": "code",
   "execution_count": 32,
   "metadata": {},
   "outputs": [
    {
     "data": {
      "text/plain": [
       "<AxesSubplot:ylabel='Frequency'>"
      ]
     },
     "execution_count": 32,
     "metadata": {},
     "output_type": "execute_result"
    },
    {
     "data": {
      "image/png": "[encoded data removed]",
      "text/plain": [
       "<Figure size 432x288 with 1 Axes>"
      ]
     },
     "metadata": {
      "needs_background": "light"
     },
     "output_type": "display_data"
    }
   ],
   "source": [
    "# Visualize distribution of Tesla percent change in closing price using a histogram plot\n",
    "# YOUR CODE HERE!\n",
    "daily_returns[\"TSLA\"].plot.hist()"
   ]
  },
  {
   "cell_type": "code",
   "execution_count": 33,
   "metadata": {},
   "outputs": [
    {
     "data": {
      "text/plain": [
       "<AxesSubplot:ylabel='Frequency'>"
      ]
     },
     "execution_count": 33,
     "metadata": {},
     "output_type": "execute_result"
    },
    {
     "data": {
      "image/png": "[encoded data removed]",
      "text/plain": [
       "<Figure size 432x288 with 1 Axes>"
      ]
     },
     "metadata": {
      "needs_background": "light"
     },
     "output_type": "display_data"
    }
   ],
   "source": [
    "# Visualize distribution of Coca-Cola percent change in closing price using a histogram plot\n",
    "# YOUR CODE HERE!\n",
    "daily_returns[\"KO\"].plot.hist()"
   ]
  },
  {
   "cell_type": "code",
   "execution_count": 34,
   "metadata": {},
   "outputs": [
    {
     "data": {
      "text/plain": [
       "<AxesSubplot:ylabel='Density'>"
      ]
     },
     "execution_count": 34,
     "metadata": {},
     "output_type": "execute_result"
    },
    {
     "data": {
      "image/png": "[encoded data removed]",
      "text/plain": [
       "<Figure size 432x288 with 1 Axes>"
      ]
     },
     "metadata": {
      "needs_background": "light"
     },
     "output_type": "display_data"
    }
   ],
   "source": [
    "# Visualize the distribution of percent change in closing price for both stocks using a density plot\n",
    "# YOUR CODE HERE!\n",
    "daily_returns.plot.density()"
   ]
  },
  {
   "cell_type": "code",
   "execution_count": null,
   "metadata": {},
   "outputs": [],
   "source": []
  }
 ],
 "metadata": {
  "kernel_info": {
   "name": "python3"
  },
  "kernelspec": {
   "display_name": "Python 3",
   "language": "python",
   "name": "python3"
  },
  "language_info": {
   "codemirror_mode": {
    "name": "ipython",
    "version": 3
   },
   "file_extension": ".py",
   "mimetype": "text/x-python",
   "name": "python",
   "nbconvert_exporter": "python",
   "pygments_lexer": "ipython3",
   "version": "3.7.11"
  },
  "nteract": {
   "version": "0.12.3"
  }
 },
 "nbformat": 4,
 "nbformat_minor": 4
}
