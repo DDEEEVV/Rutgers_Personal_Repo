{
 "cells": [
  {
   "cell_type": "code",
   "execution_count": null,
   "id": "f415d923-1af4-43da-b94a-0b572b9906fa",
   "metadata": {},
   "outputs": [],
   "source": [
    "def plot_revenue(df,area=\"Latin America\",color=\"blue\"):\n",
    "    df.set_index=\"Years\"\n",
    "    plot = df[df[\"Area\"]==area][\"Revenue\"].hvplot(\n",
    "    rot=45,\n",
    "    xlabel= \"Years\",\n",
    "    ylabel= \"Revenue\",\n",
    "    label = f\"Growth in Revenue for {area} region\",\n",
    "    width= 1000,\n",
    "    height = 600\n",
    "    ).opts(\n",
    "        yformatter='%.0f',\n",
    "        color = color,\n",
    "        hover_color = \"yellow\"\n",
    "    )\n",
    "    return plot"
   ]
  }
 ],
 "metadata": {
  "kernelspec": {
   "display_name": "Python 3 (ipykernel)",
   "language": "python",
   "name": "python3"
  },
  "language_info": {
   "codemirror_mode": {
    "name": "ipython",
    "version": 3
   },
   "file_extension": ".py",
   "mimetype": "text/x-python",
   "name": "python",
   "nbconvert_exporter": "python",
   "pygments_lexer": "ipython3",
   "version": "3.7.11"
  }
 },
 "nbformat": 4,
 "nbformat_minor": 5
}
