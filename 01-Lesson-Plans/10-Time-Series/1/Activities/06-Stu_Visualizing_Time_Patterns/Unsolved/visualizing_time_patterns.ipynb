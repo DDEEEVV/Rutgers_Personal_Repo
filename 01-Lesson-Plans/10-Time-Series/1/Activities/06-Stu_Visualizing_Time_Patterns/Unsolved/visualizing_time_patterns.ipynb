{
 "cells": [
  {
   "cell_type": "markdown",
   "metadata": {},
   "source": [
    "# Visualizing Time Patterns with hvPlot\n",
    "\n",
    "In this activity you we gain some additional practice working with the hvPlot grouped plots."
   ]
  },
  {
   "cell_type": "markdown",
   "metadata": {},
   "source": [
    "### Import Libraries and Dependencies"
   ]
  },
  {
   "cell_type": "code",
   "execution_count": 166,
   "metadata": {},
   "outputs": [],
   "source": [
    "# Import necessary libraries and dependencies\n",
    "import numpy as np\n",
    "import pandas as pd\n",
    "import hvplot.pandas\n",
    "from pathlib import Path\n",
    "import calendar\n",
    "%matplotlib inline"
   ]
  },
  {
   "cell_type": "markdown",
   "metadata": {},
   "source": [
    "## 1. Read the S&P 500 volume into a DataFrame. (Make sure to declare the datetime index)."
   ]
  },
  {
   "cell_type": "code",
   "execution_count": 167,
   "metadata": {},
   "outputs": [
    {
     "data": {
      "text/html": [
       "<div>\n",
       "<style scoped>\n",
       "    .dataframe tbody tr th:only-of-type {\n",
       "        vertical-align: middle;\n",
       "    }\n",
       "\n",
       "    .dataframe tbody tr th {\n",
       "        vertical-align: top;\n",
       "    }\n",
       "\n",
       "    .dataframe thead th {\n",
       "        text-align: right;\n",
       "    }\n",
       "</style>\n",
       "<table border=\"1\" class=\"dataframe\">\n",
       "  <thead>\n",
       "    <tr style=\"text-align: right;\">\n",
       "      <th></th>\n",
       "      <th>close</th>\n",
       "      <th>volume</th>\n",
       "    </tr>\n",
       "    <tr>\n",
       "      <th>Date</th>\n",
       "      <th></th>\n",
       "      <th></th>\n",
       "    </tr>\n",
       "  </thead>\n",
       "  <tbody>\n",
       "    <tr>\n",
       "      <th>2020-03-12 08:00:00</th>\n",
       "      <td>258.60</td>\n",
       "      <td>229683</td>\n",
       "    </tr>\n",
       "    <tr>\n",
       "      <th>2020-03-12 09:00:00</th>\n",
       "      <td>257.76</td>\n",
       "      <td>457488</td>\n",
       "    </tr>\n",
       "    <tr>\n",
       "      <th>2020-03-12 10:00:00</th>\n",
       "      <td>252.81</td>\n",
       "      <td>291881</td>\n",
       "    </tr>\n",
       "    <tr>\n",
       "      <th>2020-03-12 11:00:00</th>\n",
       "      <td>259.99</td>\n",
       "      <td>353484</td>\n",
       "    </tr>\n",
       "    <tr>\n",
       "      <th>2020-03-12 12:00:00</th>\n",
       "      <td>257.12</td>\n",
       "      <td>520699</td>\n",
       "    </tr>\n",
       "  </tbody>\n",
       "</table>\n",
       "</div>"
      ],
      "text/plain": [
       "                      close  volume\n",
       "Date                               \n",
       "2020-03-12 08:00:00  258.60  229683\n",
       "2020-03-12 09:00:00  257.76  457488\n",
       "2020-03-12 10:00:00  252.81  291881\n",
       "2020-03-12 11:00:00  259.99  353484\n",
       "2020-03-12 12:00:00  257.12  520699"
      ]
     },
     "execution_count": 167,
     "metadata": {},
     "output_type": "execute_result"
    }
   ],
   "source": [
    "# Import data\n",
    "sp500_path = Path('../Resources/sp500_stock_volume.csv')\n",
    "\n",
    "# Read the S&P 500 volume into a DataFrame. (Make sure to declare the datetime index).\n",
    "sp500_data = pd.read_csv(\n",
    "    sp500_path,\n",
    "    index_col=\"Date\",\n",
    "    infer_datetime_format=True,\n",
    "    parse_dates=True\n",
    ")\n",
    "\n",
    "# Display sample data\n",
    "sp500_data.head()"
   ]
  },
  {
   "cell_type": "markdown",
   "metadata": {},
   "source": [
    "## 2. Slice the dataframe so that it just includes the volume data."
   ]
  },
  {
   "cell_type": "code",
   "execution_count": 168,
   "metadata": {},
   "outputs": [
    {
     "data": {
      "text/html": [
       "<div>\n",
       "<style scoped>\n",
       "    .dataframe tbody tr th:only-of-type {\n",
       "        vertical-align: middle;\n",
       "    }\n",
       "\n",
       "    .dataframe tbody tr th {\n",
       "        vertical-align: top;\n",
       "    }\n",
       "\n",
       "    .dataframe thead th {\n",
       "        text-align: right;\n",
       "    }\n",
       "</style>\n",
       "<table border=\"1\" class=\"dataframe\">\n",
       "  <thead>\n",
       "    <tr style=\"text-align: right;\">\n",
       "      <th></th>\n",
       "      <th>volume</th>\n",
       "    </tr>\n",
       "    <tr>\n",
       "      <th>Date</th>\n",
       "      <th></th>\n",
       "    </tr>\n",
       "  </thead>\n",
       "  <tbody>\n",
       "    <tr>\n",
       "      <th>2020-03-12 08:00:00</th>\n",
       "      <td>229683</td>\n",
       "    </tr>\n",
       "    <tr>\n",
       "      <th>2020-03-12 09:00:00</th>\n",
       "      <td>457488</td>\n",
       "    </tr>\n",
       "    <tr>\n",
       "      <th>2020-03-12 10:00:00</th>\n",
       "      <td>291881</td>\n",
       "    </tr>\n",
       "    <tr>\n",
       "      <th>2020-03-12 11:00:00</th>\n",
       "      <td>353484</td>\n",
       "    </tr>\n",
       "    <tr>\n",
       "      <th>2020-03-12 12:00:00</th>\n",
       "      <td>520699</td>\n",
       "    </tr>\n",
       "    <tr>\n",
       "      <th>...</th>\n",
       "      <td>...</td>\n",
       "    </tr>\n",
       "    <tr>\n",
       "      <th>2021-02-08 10:00:00</th>\n",
       "      <td>39322</td>\n",
       "    </tr>\n",
       "    <tr>\n",
       "      <th>2021-02-08 11:00:00</th>\n",
       "      <td>22696</td>\n",
       "    </tr>\n",
       "    <tr>\n",
       "      <th>2021-02-08 12:00:00</th>\n",
       "      <td>29164</td>\n",
       "    </tr>\n",
       "    <tr>\n",
       "      <th>2021-02-08 13:00:00</th>\n",
       "      <td>21826</td>\n",
       "    </tr>\n",
       "    <tr>\n",
       "      <th>2021-02-08 14:00:00</th>\n",
       "      <td>63519</td>\n",
       "    </tr>\n",
       "  </tbody>\n",
       "</table>\n",
       "<p>1604 rows × 1 columns</p>\n",
       "</div>"
      ],
      "text/plain": [
       "                     volume\n",
       "Date                       \n",
       "2020-03-12 08:00:00  229683\n",
       "2020-03-12 09:00:00  457488\n",
       "2020-03-12 10:00:00  291881\n",
       "2020-03-12 11:00:00  353484\n",
       "2020-03-12 12:00:00  520699\n",
       "...                     ...\n",
       "2021-02-08 10:00:00   39322\n",
       "2021-02-08 11:00:00   22696\n",
       "2021-02-08 12:00:00   29164\n",
       "2021-02-08 13:00:00   21826\n",
       "2021-02-08 14:00:00   63519\n",
       "\n",
       "[1604 rows x 1 columns]"
      ]
     },
     "execution_count": 168,
     "metadata": {},
     "output_type": "execute_result"
    }
   ],
   "source": [
    "# Slice the dataframe so that it just includes the volume data.\n",
    "\n",
    "sp500_vol = sp500_data[[\"volume\"]]\n",
    "sp500_vol"
   ]
  },
  {
   "cell_type": "markdown",
   "metadata": {},
   "source": [
    "## 3. Using hvPlot, plot the volume data according to the day of the week."
   ]
  },
  {
   "cell_type": "code",
   "execution_count": 169,
   "metadata": {},
   "outputs": [
    {
     "data": {},
     "metadata": {},
     "output_type": "display_data"
    },
    {
     "data": {
      "application/vnd.holoviews_exec.v0+json": "",
      "text/html": [
       "<div id='11432'>\n",
       "\n",
       "\n",
       "\n",
       "\n",
       "\n",
       "  <div class=\"bk-root\" id=\"dc3dbd37-f410-4e97-bce3-acf95d5077bc\" data-root-id=\"11432\"></div>\n",
       "</div>\n",
       "<script type=\"application/javascript\">(function(root) {\n",
       "  function embed_document(root) {\n",
       "    var docs_json = {\"2e8d31de-eb45-409f-90f1-11d84cd1d8fb\":{\"defs\":[{\"extends\":null,\"module\":null,\"name\":\"ReactiveHTML1\",\"overrides\":[],\"properties\":[]},{\"extends\":null,\"module\":null,\"name\":\"FlexBox1\",\"overrides\":[],\"properties\":[{\"default\":\"flex-start\",\"kind\":null,\"name\":\"align_content\"},{\"default\":\"flex-start\",\"kind\":null,\"name\":\"align_items\"},{\"default\":\"row\",\"kind\":null,\"name\":\"flex_direction\"},{\"default\":\"wrap\",\"kind\":null,\"name\":\"flex_wrap\"},{\"default\":\"flex-start\",\"kind\":null,\"name\":\"justify_content\"}]},{\"extends\":null,\"module\":null,\"name\":\"TemplateActions1\",\"overrides\":[],\"properties\":[{\"default\":0,\"kind\":null,\"name\":\"open_modal\"},{\"default\":0,\"kind\":null,\"name\":\"close_modal\"}]},{\"extends\":null,\"module\":null,\"name\":\"MaterialTemplateActions1\",\"overrides\":[],\"properties\":[{\"default\":0,\"kind\":null,\"name\":\"open_modal\"},{\"default\":0,\"kind\":null,\"name\":\"close_modal\"}]}],\"roots\":{\"references\":[{\"attributes\":{},\"id\":\"11444\",\"type\":\"LinearScale\"},{\"attributes\":{\"coordinates\":null,\"group\":null,\"text\":\"volume\",\"text_color\":\"black\",\"text_font_size\":\"12pt\"},\"id\":\"11438\",\"type\":\"Title\"},{\"attributes\":{},\"id\":\"11480\",\"type\":\"AllLabels\"},{\"attributes\":{\"coordinates\":null,\"data_source\":{\"id\":\"11466\"},\"glyph\":{\"id\":\"11469\"},\"group\":null,\"hover_glyph\":null,\"muted_glyph\":{\"id\":\"11471\"},\"nonselection_glyph\":{\"id\":\"11470\"},\"selection_glyph\":{\"id\":\"11474\"},\"view\":{\"id\":\"11473\"}},\"id\":\"11472\",\"type\":\"GlyphRenderer\"},{\"attributes\":{\"bottom_units\":\"screen\",\"coordinates\":null,\"fill_alpha\":0.5,\"fill_color\":\"lightgrey\",\"group\":null,\"left_units\":\"screen\",\"level\":\"overlay\",\"line_alpha\":1.0,\"line_color\":\"black\",\"line_dash\":[4,4],\"line_width\":2,\"right_units\":\"screen\",\"syncable\":false,\"top_units\":\"screen\"},\"id\":\"11458\",\"type\":\"BoxAnnotation\"},{\"attributes\":{\"line_color\":\"#30a2da\",\"line_width\":2,\"x\":{\"field\":\"Day Name\"},\"y\":{\"field\":\"volume\"}},\"id\":\"11474\",\"type\":\"Line\"},{\"attributes\":{\"axis_label\":\"Day Name\",\"coordinates\":null,\"formatter\":{\"id\":\"11476\"},\"group\":null,\"major_label_policy\":{\"id\":\"11477\"},\"ticker\":{\"id\":\"11447\"}},\"id\":\"11446\",\"type\":\"CategoricalAxis\"},{\"attributes\":{\"end\":99652.59998508214,\"reset_end\":99652.59998508214,\"reset_start\":84643.9277714584,\"start\":84643.9277714584,\"tags\":[[[\"volume\",\"volume\",null]]]},\"id\":\"11435\",\"type\":\"Range1d\"},{\"attributes\":{},\"id\":\"11447\",\"type\":\"CategoricalTicker\"},{\"attributes\":{\"children\":[{\"id\":\"11433\"},{\"id\":\"11437\"},{\"id\":\"11501\"}],\"margin\":[0,0,0,0],\"name\":\"Row19357\",\"tags\":[\"embedded\"]},\"id\":\"11432\",\"type\":\"Row\"},{\"attributes\":{\"margin\":[5,5,5,5],\"name\":\"HSpacer19362\",\"sizing_mode\":\"stretch_width\"},\"id\":\"11501\",\"type\":\"Spacer\"},{\"attributes\":{\"axis\":{\"id\":\"11446\"},\"coordinates\":null,\"grid_line_color\":null,\"group\":null,\"ticker\":null},\"id\":\"11448\",\"type\":\"Grid\"},{\"attributes\":{},\"id\":\"11450\",\"type\":\"BasicTicker\"},{\"attributes\":{\"axis_label\":\"\",\"coordinates\":null,\"formatter\":{\"id\":\"11479\"},\"group\":null,\"major_label_policy\":{\"id\":\"11480\"},\"ticker\":{\"id\":\"11450\"}},\"id\":\"11449\",\"type\":\"LinearAxis\"},{\"attributes\":{\"line_color\":\"#30a2da\",\"line_width\":2,\"x\":{\"field\":\"Day Name\"},\"y\":{\"field\":\"volume\"}},\"id\":\"11469\",\"type\":\"Line\"},{\"attributes\":{\"source\":{\"id\":\"11466\"}},\"id\":\"11473\",\"type\":\"CDSView\"},{\"attributes\":{},\"id\":\"11476\",\"type\":\"CategoricalTickFormatter\"},{\"attributes\":{},\"id\":\"11488\",\"type\":\"UnionRenderers\"},{\"attributes\":{\"data\":{\"Day Name\":[\"Monday\",\"Tuesday\",\"Wednesday\",\"Thursday\",\"Friday\"],\"Day_Name\":[\"Monday\",\"Tuesday\",\"Wednesday\",\"Thursday\",\"Friday\"],\"volume\":{\"__ndarray__\":\"7Md+7Ac39UBjeURoavj0QJQyxwD3K/ZAPF5sCR4G+EDO+xSXPDP3QA==\",\"dtype\":\"float64\",\"order\":\"little\",\"shape\":[5]}},\"selected\":{\"id\":\"11467\"},\"selection_policy\":{\"id\":\"11488\"}},\"id\":\"11466\",\"type\":\"ColumnDataSource\"},{\"attributes\":{\"callback\":null,\"renderers\":[{\"id\":\"11472\"}],\"tags\":[\"hv_created\"],\"tooltips\":[[\"Day Name\",\"@{Day_Name}\"],[\"volume\",\"@{volume}\"]]},\"id\":\"11436\",\"type\":\"HoverTool\"},{\"attributes\":{\"line_alpha\":0.1,\"line_color\":\"#30a2da\",\"line_width\":2,\"x\":{\"field\":\"Day Name\"},\"y\":{\"field\":\"volume\"}},\"id\":\"11470\",\"type\":\"Line\"},{\"attributes\":{},\"id\":\"11479\",\"type\":\"BasicTickFormatter\"},{\"attributes\":{\"factors\":[\"Monday\",\"Tuesday\",\"Wednesday\",\"Thursday\",\"Friday\"],\"tags\":[[[\"Day Name\",\"Day Name\",null]]]},\"id\":\"11434\",\"type\":\"FactorRange\"},{\"attributes\":{\"tools\":[{\"id\":\"11436\"},{\"id\":\"11453\"},{\"id\":\"11454\"},{\"id\":\"11455\"},{\"id\":\"11456\"},{\"id\":\"11457\"}]},\"id\":\"11459\",\"type\":\"Toolbar\"},{\"attributes\":{\"margin\":[5,5,5,5],\"name\":\"HSpacer19361\",\"sizing_mode\":\"stretch_width\"},\"id\":\"11433\",\"type\":\"Spacer\"},{\"attributes\":{},\"id\":\"11453\",\"type\":\"SaveTool\"},{\"attributes\":{},\"id\":\"11454\",\"type\":\"PanTool\"},{\"attributes\":{\"line_alpha\":0.2,\"line_color\":\"#30a2da\",\"line_width\":2,\"x\":{\"field\":\"Day Name\"},\"y\":{\"field\":\"volume\"}},\"id\":\"11471\",\"type\":\"Line\"},{\"attributes\":{},\"id\":\"11455\",\"type\":\"WheelZoomTool\"},{\"attributes\":{\"axis\":{\"id\":\"11449\"},\"coordinates\":null,\"dimension\":1,\"grid_line_color\":null,\"group\":null,\"ticker\":null},\"id\":\"11452\",\"type\":\"Grid\"},{\"attributes\":{},\"id\":\"11457\",\"type\":\"ResetTool\"},{\"attributes\":{},\"id\":\"11477\",\"type\":\"AllLabels\"},{\"attributes\":{\"overlay\":{\"id\":\"11458\"}},\"id\":\"11456\",\"type\":\"BoxZoomTool\"},{\"attributes\":{},\"id\":\"11467\",\"type\":\"Selection\"},{\"attributes\":{},\"id\":\"11442\",\"type\":\"CategoricalScale\"},{\"attributes\":{\"below\":[{\"id\":\"11446\"}],\"center\":[{\"id\":\"11448\"},{\"id\":\"11452\"}],\"height\":300,\"left\":[{\"id\":\"11449\"}],\"margin\":[5,5,5,5],\"min_border_bottom\":10,\"min_border_left\":10,\"min_border_right\":10,\"min_border_top\":10,\"renderers\":[{\"id\":\"11472\"}],\"sizing_mode\":\"fixed\",\"title\":{\"id\":\"11438\"},\"toolbar\":{\"id\":\"11459\"},\"width\":700,\"x_range\":{\"id\":\"11434\"},\"x_scale\":{\"id\":\"11442\"},\"y_range\":{\"id\":\"11435\"},\"y_scale\":{\"id\":\"11444\"}},\"id\":\"11437\",\"subtype\":\"Figure\",\"type\":\"Plot\"}],\"root_ids\":[\"11432\"]},\"title\":\"Bokeh Application\",\"version\":\"2.4.2\"}};\n",
       "    var render_items = [{\"docid\":\"2e8d31de-eb45-409f-90f1-11d84cd1d8fb\",\"root_ids\":[\"11432\"],\"roots\":{\"11432\":\"dc3dbd37-f410-4e97-bce3-acf95d5077bc\"}}];\n",
       "    root.Bokeh.embed.embed_items_notebook(docs_json, render_items);\n",
       "  }\n",
       "  if (root.Bokeh !== undefined && root.Bokeh.Panel !== undefined) {\n",
       "    embed_document(root);\n",
       "  } else {\n",
       "    var attempts = 0;\n",
       "    var timer = setInterval(function(root) {\n",
       "      if (root.Bokeh !== undefined && root.Bokeh.Panel !== undefined) {\n",
       "        clearInterval(timer);\n",
       "        embed_document(root);\n",
       "      } else if (document.readyState == \"complete\") {\n",
       "        attempts++;\n",
       "        if (attempts > 200) {\n",
       "          clearInterval(timer);\n",
       "          console.log(\"Bokeh: ERROR: Unable to run BokehJS code because BokehJS library is missing\");\n",
       "        }\n",
       "      }\n",
       "    }, 25, root)\n",
       "  }\n",
       "})(window);</script>"
      ],
      "text/plain": [
       ":Curve   [Day Name]   (volume)"
      ]
     },
     "execution_count": 169,
     "metadata": {
      "application/vnd.holoviews_exec.v0+json": {
       "id": "11432"
      }
     },
     "output_type": "execute_result"
    }
   ],
   "source": [
    "# Declare the group level to be the day of the week (e.g., Mon, Tues,...)\n",
    "\n",
    "sp500_data['Weekday'] = sp500_data.index.weekday\n",
    "sp500_data['Day Name'] = sp500_data.index.day_name()\n",
    "sp500_data.sort_values(by = 'Weekday', inplace = True)\n",
    "\n",
    "# Plot average daily volume according to day of the week\n",
    "daily_vol_avg=sp500_data.groupby('Day Name', sort = False)['volume'].mean()\n",
    "daily_vol_avg.hvplot()"
   ]
  },
  {
   "cell_type": "markdown",
   "metadata": {},
   "source": [
    "**Question:** On what day does trading in the S&P500 tend to be the most active?\n",
    "\n",
    "**Answer:** Looks like the 4th day of the week have a higher volume making Thursdays the most active day trading in the S&P500"
   ]
  },
  {
   "cell_type": "markdown",
   "metadata": {},
   "source": [
    "## 4. Use hvPlot to visualize hourly trends for each day of the week in the form of a heatmap. "
   ]
  },
  {
   "cell_type": "code",
   "execution_count": 170,
   "metadata": {},
   "outputs": [
    {
     "data": {},
     "metadata": {},
     "output_type": "display_data"
    },
    {
     "data": {
      "application/vnd.holoviews_exec.v0+json": "",
      "text/html": [
       "<div id='11553'>\n",
       "\n",
       "\n",
       "\n",
       "\n",
       "\n",
       "  <div class=\"bk-root\" id=\"cc72d935-93a3-40cd-9475-50f9ff61a130\" data-root-id=\"11553\"></div>\n",
       "</div>\n",
       "<script type=\"application/javascript\">(function(root) {\n",
       "  function embed_document(root) {\n",
       "    var docs_json = {\"d1c8ddb5-fa1c-4542-a6cb-783893c61c3a\":{\"defs\":[{\"extends\":null,\"module\":null,\"name\":\"ReactiveHTML1\",\"overrides\":[],\"properties\":[]},{\"extends\":null,\"module\":null,\"name\":\"FlexBox1\",\"overrides\":[],\"properties\":[{\"default\":\"flex-start\",\"kind\":null,\"name\":\"align_content\"},{\"default\":\"flex-start\",\"kind\":null,\"name\":\"align_items\"},{\"default\":\"row\",\"kind\":null,\"name\":\"flex_direction\"},{\"default\":\"wrap\",\"kind\":null,\"name\":\"flex_wrap\"},{\"default\":\"flex-start\",\"kind\":null,\"name\":\"justify_content\"}]},{\"extends\":null,\"module\":null,\"name\":\"TemplateActions1\",\"overrides\":[],\"properties\":[{\"default\":0,\"kind\":null,\"name\":\"open_modal\"},{\"default\":0,\"kind\":null,\"name\":\"close_modal\"}]},{\"extends\":null,\"module\":null,\"name\":\"MaterialTemplateActions1\",\"overrides\":[],\"properties\":[{\"default\":0,\"kind\":null,\"name\":\"open_modal\"},{\"default\":0,\"kind\":null,\"name\":\"close_modal\"}]}],\"roots\":{\"references\":[{\"attributes\":{\"end\":14.5,\"reset_end\":14.5,\"reset_start\":7.5,\"start\":7.5,\"tags\":[[[\"index.hour\",\"index.hour\",null]]]},\"id\":\"11555\",\"type\":\"Range1d\"},{\"attributes\":{},\"id\":\"11605\",\"type\":\"AllLabels\"},{\"attributes\":{\"bottom_units\":\"screen\",\"coordinates\":null,\"fill_alpha\":0.5,\"fill_color\":\"lightgrey\",\"group\":null,\"left_units\":\"screen\",\"level\":\"overlay\",\"line_alpha\":1.0,\"line_color\":\"black\",\"line_dash\":[4,4],\"line_width\":2,\"right_units\":\"screen\",\"syncable\":false,\"top_units\":\"screen\"},\"id\":\"11580\",\"type\":\"BoxAnnotation\"},{\"attributes\":{\"axis_label\":\"Days of the Week\",\"coordinates\":null,\"formatter\":{\"id\":\"11604\"},\"group\":null,\"major_label_policy\":{\"id\":\"11605\"},\"ticker\":{\"id\":\"11572\"}},\"id\":\"11571\",\"type\":\"LinearAxis\"},{\"attributes\":{},\"id\":\"11614\",\"type\":\"UnionRenderers\"},{\"attributes\":{},\"id\":\"11572\",\"type\":\"BasicTicker\"},{\"attributes\":{\"below\":[{\"id\":\"11567\"}],\"center\":[{\"id\":\"11570\"},{\"id\":\"11574\"}],\"height\":400,\"left\":[{\"id\":\"11571\"}],\"margin\":[5,5,5,5],\"min_border_bottom\":10,\"min_border_left\":10,\"min_border_right\":10,\"min_border_top\":10,\"renderers\":[{\"id\":\"11596\"}],\"right\":[{\"id\":\"11599\"}],\"sizing_mode\":\"fixed\",\"title\":{\"id\":\"11559\"},\"toolbar\":{\"id\":\"11581\"},\"width\":900,\"x_range\":{\"id\":\"11555\"},\"x_scale\":{\"id\":\"11563\"},\"y_range\":{\"id\":\"11556\"},\"y_scale\":{\"id\":\"11565\"}},\"id\":\"11558\",\"subtype\":\"Figure\",\"type\":\"Plot\"},{\"attributes\":{\"axis\":{\"id\":\"11571\"},\"coordinates\":null,\"dimension\":1,\"grid_line_color\":null,\"group\":null,\"ticker\":null},\"id\":\"11574\",\"type\":\"Grid\"},{\"attributes\":{\"margin\":[5,5,5,5],\"name\":\"HSpacer19529\",\"sizing_mode\":\"stretch_width\"},\"id\":\"11554\",\"type\":\"Spacer\"},{\"attributes\":{\"fill_color\":{\"field\":\"zvalues\",\"transform\":{\"id\":\"11588\"}},\"height\":{\"field\":\"height\"},\"line_alpha\":{\"value\":0},\"line_color\":{\"value\":\"#1f77b4\"},\"width\":{\"field\":\"width\"},\"x\":{\"field\":\"index_full_stop_hour\"},\"y\":{\"field\":\"index_full_stop_weekday\"}},\"id\":\"11592\",\"type\":\"Rect\"},{\"attributes\":{},\"id\":\"11601\",\"type\":\"BasicTickFormatter\"},{\"attributes\":{\"children\":[{\"id\":\"11554\"},{\"id\":\"11558\"},{\"id\":\"11628\"}],\"margin\":[0,0,0,0],\"name\":\"Row19525\",\"tags\":[\"embedded\"]},\"id\":\"11553\",\"type\":\"Row\"},{\"attributes\":{\"axis_label\":\"Volume Hours\",\"coordinates\":null,\"formatter\":{\"id\":\"11601\"},\"group\":null,\"major_label_policy\":{\"id\":\"11602\"},\"ticker\":{\"id\":\"11568\"}},\"id\":\"11567\",\"type\":\"LinearAxis\"},{\"attributes\":{\"fill_color\":{\"field\":\"zvalues\",\"transform\":{\"id\":\"11588\"}},\"height\":{\"field\":\"height\"},\"line_alpha\":{\"value\":0},\"line_color\":{\"value\":\"#1f77b4\"},\"width\":{\"field\":\"width\"},\"x\":{\"field\":\"index_full_stop_hour\"},\"y\":{\"field\":\"index_full_stop_weekday\"}},\"id\":\"11594\",\"type\":\"Rect\"},{\"attributes\":{},\"id\":\"11575\",\"type\":\"SaveTool\"},{\"attributes\":{\"high\":191953.9534883721,\"low\":51731.97872340425,\"nan_color\":\"white\",\"palette\":[\"#b3fef5\",\"#b0fef5\",\"#adfdf5\",\"#a9fcf5\",\"#a6fbf6\",\"#a3faf6\",\"#a0faf6\",\"#9df9f6\",\"#9af8f6\",\"#97f7f6\",\"#93f7f6\",\"#90f6f6\",\"#8df5f6\",\"#8af4f7\",\"#87f3f7\",\"#83f2f7\",\"#80f2f7\",\"#7df1f7\",\"#79f0f7\",\"#76eff7\",\"#73eef7\",\"#6fedf8\",\"#6cecf8\",\"#68ecf8\",\"#65ebf8\",\"#61eaf8\",\"#5ee9f8\",\"#5ae8f8\",\"#57e7f8\",\"#53e6f8\",\"#50e5f9\",\"#4ce4f9\",\"#49e3f9\",\"#45e2f9\",\"#42e1f9\",\"#3ee0f9\",\"#3bdff9\",\"#38def9\",\"#35ddf9\",\"#32dcf9\",\"#30dbfa\",\"#2ed9fa\",\"#2dd8fa\",\"#2cd7fa\",\"#2bd6fa\",\"#2bd5fa\",\"#2ad3fa\",\"#2ad2fa\",\"#29d1fa\",\"#29d0fb\",\"#29cffb\",\"#28cdfb\",\"#28ccfb\",\"#28cbfb\",\"#28cafb\",\"#28c8fb\",\"#28c7fb\",\"#29c6fb\",\"#29c5fb\",\"#29c4fb\",\"#29c2fb\",\"#2ac1fb\",\"#2ac0fb\",\"#2bbffb\",\"#2bbdfc\",\"#2cbcfc\",\"#2dbbfc\",\"#2db9fc\",\"#2eb8fc\",\"#2fb7fc\",\"#2fb6fc\",\"#30b4fc\",\"#31b3fc\",\"#32b2fc\",\"#32b0fc\",\"#33affc\",\"#33aefc\",\"#34adfc\",\"#34abfc\",\"#34aafc\",\"#35a9fc\",\"#35a8fc\",\"#35a6fc\",\"#35a5fc\",\"#35a4fc\",\"#35a3fc\",\"#35a1fc\",\"#35a0fc\",\"#359ffc\",\"#359dfc\",\"#359cfc\",\"#359bfc\",\"#349afd\",\"#3498fd\",\"#3497fd\",\"#3396fd\",\"#3395fd\",\"#3293fd\",\"#3292fd\",\"#3191fd\",\"#3090fd\",\"#308ffd\",\"#2f8dfd\",\"#2f8cfd\",\"#2e8bfd\",\"#2e8afd\",\"#2d88fd\",\"#2d87fd\",\"#2c86fd\",\"#2c84fd\",\"#2c83fd\",\"#2c82fd\",\"#2b81fd\",\"#2b7ffd\",\"#2b7efd\",\"#2b7dfd\",\"#2b7bfd\",\"#2b7afd\",\"#2b79fd\",\"#2b77fd\",\"#2b76fd\",\"#2b75fd\",\"#2b73fd\",\"#2c72fd\",\"#2c71fd\",\"#2c6ffd\",\"#2c6efd\",\"#2d6cfd\",\"#2d6bfd\",\"#2d6afc\",\"#2e68fc\",\"#2e67fc\",\"#2e65fc\",\"#2e64fc\",\"#2f62fc\",\"#2f61fc\",\"#2f5ffc\",\"#2f5efc\",\"#2f5dfc\",\"#2f5bfc\",\"#2f5afc\",\"#2f58fb\",\"#2f57fb\",\"#2f55fb\",\"#2f53fb\",\"#2f52fb\",\"#2f50fb\",\"#2f4ffb\",\"#2f4dfb\",\"#2e4cfb\",\"#2e4afb\",\"#2e48fb\",\"#2e47fa\",\"#2d45fa\",\"#2d43fa\",\"#2d42fa\",\"#2d40fa\",\"#2c3efa\",\"#2c3dfa\",\"#2b3bf9\",\"#2b39f9\",\"#2a37f9\",\"#2a36f8\",\"#2934f8\",\"#2832f7\",\"#2831f7\",\"#272ff6\",\"#262ef5\",\"#252cf5\",\"#252af4\",\"#2429f3\",\"#2327f2\",\"#2226f1\",\"#2124f0\",\"#2023ef\",\"#1f22ee\",\"#1e20ed\",\"#1d1feb\",\"#1c1eea\",\"#1b1ce9\",\"#1a1be7\",\"#181ae6\",\"#1719e5\",\"#1618e3\",\"#1417e1\",\"#1316e0\",\"#1215de\",\"#1014dc\",\"#0f13db\",\"#0e12d9\",\"#0d11d7\",\"#0c10d5\",\"#0b0fd3\",\"#0a0ed1\",\"#090dd0\",\"#080dce\",\"#080ccc\",\"#070bca\",\"#070ac8\",\"#0709c6\",\"#0708c4\",\"#0707c2\",\"#0707bf\",\"#0806bd\",\"#0806bb\",\"#0905b9\",\"#0904b7\",\"#0a04b5\",\"#0a04b2\",\"#0b03b0\",\"#0c03ae\",\"#0d02ab\",\"#0e02a9\",\"#0e02a7\",\"#0f02a4\",\"#0f01a2\",\"#1001a0\",\"#10019d\",\"#10019b\",\"#100199\",\"#100197\",\"#100194\",\"#0f0192\",\"#0f0190\",\"#0f018e\",\"#0e018b\",\"#0e0189\",\"#0d0187\",\"#0d0185\",\"#0c0183\",\"#0b0181\",\"#0b017e\",\"#0a017c\",\"#09017a\",\"#090178\",\"#080276\",\"#070274\",\"#060272\",\"#060270\",\"#05026e\",\"#04026c\",\"#030269\",\"#030267\",\"#020265\",\"#010263\",\"#010261\",\"#00025f\",\"#00025d\",\"#00025b\",\"#000259\",\"#000257\",\"#000255\",\"#000154\",\"#000152\",\"#000150\",\"#00004e\"]},\"id\":\"11588\",\"type\":\"LinearColorMapper\"},{\"attributes\":{},\"id\":\"11604\",\"type\":\"BasicTickFormatter\"},{\"attributes\":{\"tools\":[{\"id\":\"11557\"},{\"id\":\"11575\"},{\"id\":\"11576\"},{\"id\":\"11577\"},{\"id\":\"11578\"},{\"id\":\"11579\"}]},\"id\":\"11581\",\"type\":\"Toolbar\"},{\"attributes\":{},\"id\":\"11610\",\"type\":\"NoOverlap\"},{\"attributes\":{\"callback\":null,\"renderers\":[{\"id\":\"11596\"}],\"tags\":[\"hv_created\"],\"tooltips\":[[\"index.hour\",\"@{index_full_stop_hour}\"],[\"index.weekday\",\"@{index_full_stop_weekday}\"],[\"volume\",\"@{volume}\"]]},\"id\":\"11557\",\"type\":\"HoverTool\"},{\"attributes\":{},\"id\":\"11602\",\"type\":\"AllLabels\"},{\"attributes\":{\"fill_alpha\":{\"value\":0.2},\"fill_color\":{\"field\":\"zvalues\",\"transform\":{\"id\":\"11588\"}},\"hatch_alpha\":{\"value\":0.2},\"height\":{\"field\":\"height\"},\"line_alpha\":{\"value\":0},\"line_color\":{\"value\":\"#1f77b4\"},\"width\":{\"field\":\"width\"},\"x\":{\"field\":\"index_full_stop_hour\"},\"y\":{\"field\":\"index_full_stop_weekday\"}},\"id\":\"11595\",\"type\":\"Rect\"},{\"attributes\":{\"source\":{\"id\":\"11589\"}},\"id\":\"11597\",\"type\":\"CDSView\"},{\"attributes\":{},\"id\":\"11576\",\"type\":\"PanTool\"},{\"attributes\":{\"coordinates\":null,\"data_source\":{\"id\":\"11589\"},\"glyph\":{\"id\":\"11592\"},\"group\":null,\"hover_glyph\":null,\"muted_glyph\":{\"id\":\"11595\"},\"nonselection_glyph\":{\"id\":\"11593\"},\"selection_glyph\":{\"id\":\"11594\"},\"view\":{\"id\":\"11597\"}},\"id\":\"11596\",\"type\":\"GlyphRenderer\"},{\"attributes\":{},\"id\":\"11598\",\"type\":\"BasicTicker\"},{\"attributes\":{\"axis\":{\"id\":\"11567\"},\"coordinates\":null,\"grid_line_color\":null,\"group\":null,\"ticker\":null},\"id\":\"11570\",\"type\":\"Grid\"},{\"attributes\":{},\"id\":\"11563\",\"type\":\"LinearScale\"},{\"attributes\":{\"fill_alpha\":{\"value\":0.1},\"fill_color\":{\"field\":\"zvalues\",\"transform\":{\"id\":\"11588\"}},\"hatch_alpha\":{\"value\":0.1},\"height\":{\"field\":\"height\"},\"line_alpha\":{\"value\":0},\"line_color\":{\"value\":\"#1f77b4\"},\"width\":{\"field\":\"width\"},\"x\":{\"field\":\"index_full_stop_hour\"},\"y\":{\"field\":\"index_full_stop_weekday\"}},\"id\":\"11593\",\"type\":\"Rect\"},{\"attributes\":{\"data\":{\"height\":{\"__ndarray__\":\"AAAAAAAA8D8AAAAAAADwPwAAAAAAAPA/AAAAAAAA8D8AAAAAAADwPwAAAAAAAPA/AAAAAAAA8D8AAAAAAADwPwAAAAAAAPA/AAAAAAAA8D8AAAAAAADwPwAAAAAAAPA/AAAAAAAA8D8AAAAAAADwPwAAAAAAAPA/AAAAAAAA8D8AAAAAAADwPwAAAAAAAPA/AAAAAAAA8D8AAAAAAADwPwAAAAAAAPA/AAAAAAAA8D8AAAAAAADwPwAAAAAAAPA/AAAAAAAA8D8AAAAAAADwPwAAAAAAAPA/AAAAAAAA8D8AAAAAAADwPwAAAAAAAPA/AAAAAAAA8D8AAAAAAADwPwAAAAAAAPA/AAAAAAAA8D8AAAAAAADwPw==\",\"dtype\":\"float64\",\"order\":\"little\",\"shape\":[35]},\"index_full_stop_hour\":[8,8,8,8,8,9,9,9,9,9,10,10,10,10,10,11,11,11,11,11,12,12,12,12,12,13,13,13,13,13,14,14,14,14,14],\"index_full_stop_weekday\":[0,1,2,3,4,0,1,2,3,4,0,1,2,3,4,0,1,2,3,4,0,1,2,3,4,0,1,2,3,4,0,1,2,3,4],\"volume\":[\"75920\",\"74378\",\"74825\",\"80537\",\"78525\",\"95958\",\"97370\",\"91873\",\"1.1208e+05\",\"1.0158e+05\",\"74923\",\"74283\",\"74983\",\"86712\",\"83229\",\"58818\",\"56862\",\"64232\",\"75927\",\"69881\",\"55549\",\"51732\",\"58738\",\"72635\",\"62498\",\"70917\",\"71044\",\"86906\",\"80192\",\"78615\",\"1.7619e+05\",\"1.7559e+05\",\"1.8415e+05\",\"1.8157e+05\",\"1.9195e+05\"],\"width\":{\"__ndarray__\":\"AAAAAAAA8D8AAAAAAADwPwAAAAAAAPA/AAAAAAAA8D8AAAAAAADwPwAAAAAAAPA/AAAAAAAA8D8AAAAAAADwPwAAAAAAAPA/AAAAAAAA8D8AAAAAAADwPwAAAAAAAPA/AAAAAAAA8D8AAAAAAADwPwAAAAAAAPA/AAAAAAAA8D8AAAAAAADwPwAAAAAAAPA/AAAAAAAA8D8AAAAAAADwPwAAAAAAAPA/AAAAAAAA8D8AAAAAAADwPwAAAAAAAPA/AAAAAAAA8D8AAAAAAADwPwAAAAAAAPA/AAAAAAAA8D8AAAAAAADwPwAAAAAAAPA/AAAAAAAA8D8AAAAAAADwPwAAAAAAAPA/AAAAAAAA8D8AAAAAAADwPw==\",\"dtype\":\"float64\",\"order\":\"little\",\"shape\":[35]},\"zvalues\":{\"__ndarray__\":\"5DiO4/iI8kA8G/WdnSjyQJlcQUyORPJAiMkVxJSp80DpoosuyivzQPqkT/pkbfdAmVxBTJ7F90CIyRXEFG72QBbE5AqyXPtAAAAAAAzN+ECUPumTrkryQIjJFcS0IvJAz0Z9Z3NO8kBt1Hc2eiv1QKOLLrrIUfRAP+mTPkm47EDaqO9stMPrQCyIyRUEXe9Av7NR32mJ8kB00UUXiQ/xQBdswRasH+tAo76zUX9C6UAhJlcQM67sQGQhC1mou/FAAAAAAECE7kBswRZsUVDxQK4gJldAWPFAVxCTK5g39UAhC1nI+pPzQJU1ZU1pMfNAd3d3d++BBUH1nY36Tm8FQc9GfWe7egZBetOb3hAqBkH6gr6gj24HQQ==\",\"dtype\":\"float64\",\"order\":\"little\",\"shape\":[35]}},\"selected\":{\"id\":\"11590\"},\"selection_policy\":{\"id\":\"11614\"}},\"id\":\"11589\",\"type\":\"ColumnDataSource\"},{\"attributes\":{},\"id\":\"11568\",\"type\":\"BasicTicker\"},{\"attributes\":{\"coordinates\":null,\"group\":null,\"text_color\":\"black\",\"text_font_size\":\"12pt\"},\"id\":\"11559\",\"type\":\"Title\"},{\"attributes\":{\"bar_line_color\":\"black\",\"color_mapper\":{\"id\":\"11588\"},\"coordinates\":null,\"group\":null,\"label_standoff\":8,\"location\":[0,0],\"major_label_policy\":{\"id\":\"11610\"},\"major_tick_line_color\":\"black\",\"ticker\":{\"id\":\"11598\"}},\"id\":\"11599\",\"type\":\"ColorBar\"},{\"attributes\":{},\"id\":\"11577\",\"type\":\"WheelZoomTool\"},{\"attributes\":{\"overlay\":{\"id\":\"11580\"}},\"id\":\"11578\",\"type\":\"BoxZoomTool\"},{\"attributes\":{},\"id\":\"11590\",\"type\":\"Selection\"},{\"attributes\":{\"margin\":[5,5,5,5],\"name\":\"HSpacer19530\",\"sizing_mode\":\"stretch_width\"},\"id\":\"11628\",\"type\":\"Spacer\"},{\"attributes\":{\"end\":4.5,\"reset_end\":4.5,\"reset_start\":-0.5,\"start\":-0.5,\"tags\":[[[\"index.weekday\",\"index.weekday\",null]]]},\"id\":\"11556\",\"type\":\"Range1d\"},{\"attributes\":{},\"id\":\"11565\",\"type\":\"LinearScale\"},{\"attributes\":{},\"id\":\"11579\",\"type\":\"ResetTool\"}],\"root_ids\":[\"11553\"]},\"title\":\"Bokeh Application\",\"version\":\"2.4.2\"}};\n",
       "    var render_items = [{\"docid\":\"d1c8ddb5-fa1c-4542-a6cb-783893c61c3a\",\"root_ids\":[\"11553\"],\"roots\":{\"11553\":\"cc72d935-93a3-40cd-9475-50f9ff61a130\"}}];\n",
       "    root.Bokeh.embed.embed_items_notebook(docs_json, render_items);\n",
       "  }\n",
       "  if (root.Bokeh !== undefined && root.Bokeh.Panel !== undefined) {\n",
       "    embed_document(root);\n",
       "  } else {\n",
       "    var attempts = 0;\n",
       "    var timer = setInterval(function(root) {\n",
       "      if (root.Bokeh !== undefined && root.Bokeh.Panel !== undefined) {\n",
       "        clearInterval(timer);\n",
       "        embed_document(root);\n",
       "      } else if (document.readyState == \"complete\") {\n",
       "        attempts++;\n",
       "        if (attempts > 200) {\n",
       "          clearInterval(timer);\n",
       "          console.log(\"Bokeh: ERROR: Unable to run BokehJS code because BokehJS library is missing\");\n",
       "        }\n",
       "      }\n",
       "    }, 25, root)\n",
       "  }\n",
       "})(window);</script>"
      ],
      "text/plain": [
       ":HeatMap   [index.hour,index.weekday]   (volume)"
      ]
     },
     "execution_count": 170,
     "metadata": {
      "application/vnd.holoviews_exec.v0+json": {
       "id": "11553"
      }
     },
     "output_type": "execute_result"
    }
   ],
   "source": [
    "# Use hvPlot to visualize the hourly trends across days of week in a heatmap\n",
    "sp500_vol.hvplot.heatmap(\n",
    "    x = \"index.hour\",\n",
    "    y = \"index.weekday\",\n",
    "    C = \"volume\",\n",
    "    ylabel = \"Days of the Week\",\n",
    "    xlabel = \"Volume Hours\",\n",
    "    width = 900,\n",
    "    height = 400\n",
    "    \n",
    ").aggregate(function = np.mean)"
   ]
  },
  {
   "cell_type": "markdown",
   "metadata": {},
   "source": [
    "**Question:** Based on the above, does any day-of-week effect that you observe concentrate in just a few hours of that day?\n",
    "\n",
    "**Answer:** As we can see from the darkness of the blue color looks like the last day of the week around 2pm is the highest level of trades in the S&P500"
   ]
  },
  {
   "cell_type": "markdown",
   "metadata": {},
   "source": [
    "## 5. Create a plot with hvPlot that shows the data grouped by the calendar week in the year (week of year)."
   ]
  },
  {
   "cell_type": "code",
   "execution_count": 171,
   "metadata": {},
   "outputs": [
    {
     "data": {},
     "metadata": {},
     "output_type": "display_data"
    },
    {
     "data": {
      "application/vnd.holoviews_exec.v0+json": "",
      "text/html": [
       "<div id='11685'>\n",
       "\n",
       "\n",
       "\n",
       "\n",
       "\n",
       "  <div class=\"bk-root\" id=\"d7267fa4-701d-484c-a342-76ec014ed75a\" data-root-id=\"11685\"></div>\n",
       "</div>\n",
       "<script type=\"application/javascript\">(function(root) {\n",
       "  function embed_document(root) {\n",
       "    var docs_json = {\"10a3b463-3cc8-41c1-9254-f40bbedef16c\":{\"defs\":[{\"extends\":null,\"module\":null,\"name\":\"ReactiveHTML1\",\"overrides\":[],\"properties\":[]},{\"extends\":null,\"module\":null,\"name\":\"FlexBox1\",\"overrides\":[],\"properties\":[{\"default\":\"flex-start\",\"kind\":null,\"name\":\"align_content\"},{\"default\":\"flex-start\",\"kind\":null,\"name\":\"align_items\"},{\"default\":\"row\",\"kind\":null,\"name\":\"flex_direction\"},{\"default\":\"wrap\",\"kind\":null,\"name\":\"flex_wrap\"},{\"default\":\"flex-start\",\"kind\":null,\"name\":\"justify_content\"}]},{\"extends\":null,\"module\":null,\"name\":\"TemplateActions1\",\"overrides\":[],\"properties\":[{\"default\":0,\"kind\":null,\"name\":\"open_modal\"},{\"default\":0,\"kind\":null,\"name\":\"close_modal\"}]},{\"extends\":null,\"module\":null,\"name\":\"MaterialTemplateActions1\",\"overrides\":[],\"properties\":[{\"default\":0,\"kind\":null,\"name\":\"open_modal\"},{\"default\":0,\"kind\":null,\"name\":\"close_modal\"}]}],\"roots\":{\"references\":[{\"attributes\":{\"coordinates\":null,\"data_source\":{\"id\":\"11720\"},\"glyph\":{\"id\":\"11723\"},\"group\":null,\"hover_glyph\":null,\"muted_glyph\":{\"id\":\"11725\"},\"nonselection_glyph\":{\"id\":\"11724\"},\"selection_glyph\":{\"id\":\"11728\"},\"view\":{\"id\":\"11727\"}},\"id\":\"11726\",\"type\":\"GlyphRenderer\"},{\"attributes\":{},\"id\":\"11731\",\"type\":\"AllLabels\"},{\"attributes\":{\"line_color\":\"#30a2da\",\"line_width\":2,\"x\":{\"field\":\"week\"},\"y\":{\"field\":\"volume\"}},\"id\":\"11723\",\"type\":\"Line\"},{\"attributes\":{},\"id\":\"11733\",\"type\":\"BasicTickFormatter\"},{\"attributes\":{\"tools\":[{\"id\":\"11689\"},{\"id\":\"11707\"},{\"id\":\"11708\"},{\"id\":\"11709\"},{\"id\":\"11710\"},{\"id\":\"11711\"}]},\"id\":\"11713\",\"type\":\"Toolbar\"},{\"attributes\":{\"callback\":null,\"renderers\":[{\"id\":\"11726\"}],\"tags\":[\"hv_created\"],\"tooltips\":[[\"week\",\"@{week}\"],[\"volume\",\"@{volume}\"]]},\"id\":\"11689\",\"type\":\"HoverTool\"},{\"attributes\":{},\"id\":\"11730\",\"type\":\"BasicTickFormatter\"},{\"attributes\":{\"source\":{\"id\":\"11720\"}},\"id\":\"11727\",\"type\":\"CDSView\"},{\"attributes\":{},\"id\":\"11707\",\"type\":\"SaveTool\"},{\"attributes\":{\"line_alpha\":0.1,\"line_color\":\"#30a2da\",\"line_width\":2,\"x\":{\"field\":\"week\"},\"y\":{\"field\":\"volume\"}},\"id\":\"11724\",\"type\":\"Line\"},{\"attributes\":{\"below\":[{\"id\":\"11699\"}],\"center\":[{\"id\":\"11702\"},{\"id\":\"11706\"}],\"height\":300,\"left\":[{\"id\":\"11703\"}],\"margin\":[5,5,5,5],\"min_border_bottom\":10,\"min_border_left\":10,\"min_border_right\":10,\"min_border_top\":10,\"renderers\":[{\"id\":\"11726\"}],\"sizing_mode\":\"fixed\",\"title\":{\"id\":\"11691\"},\"toolbar\":{\"id\":\"11713\"},\"width\":700,\"x_range\":{\"id\":\"11687\"},\"x_scale\":{\"id\":\"11695\"},\"y_range\":{\"id\":\"11688\"},\"y_scale\":{\"id\":\"11697\"}},\"id\":\"11690\",\"subtype\":\"Figure\",\"type\":\"Plot\"},{\"attributes\":{},\"id\":\"11708\",\"type\":\"PanTool\"},{\"attributes\":{},\"id\":\"11709\",\"type\":\"WheelZoomTool\"},{\"attributes\":{},\"id\":\"11734\",\"type\":\"AllLabels\"},{\"attributes\":{\"end\":380982.90714285715,\"reset_end\":380982.90714285715,\"reset_start\":4745.449999999993,\"start\":4745.449999999993,\"tags\":[[[\"volume\",\"volume\",null]]]},\"id\":\"11688\",\"type\":\"Range1d\"},{\"attributes\":{},\"id\":\"11721\",\"type\":\"Selection\"},{\"attributes\":{},\"id\":\"11697\",\"type\":\"LinearScale\"},{\"attributes\":{\"overlay\":{\"id\":\"11712\"}},\"id\":\"11710\",\"type\":\"BoxZoomTool\"},{\"attributes\":{\"coordinates\":null,\"group\":null,\"text_color\":\"black\",\"text_font_size\":\"12pt\"},\"id\":\"11691\",\"type\":\"Title\"},{\"attributes\":{\"margin\":[5,5,5,5],\"name\":\"HSpacer19727\",\"sizing_mode\":\"stretch_width\"},\"id\":\"11686\",\"type\":\"Spacer\"},{\"attributes\":{\"margin\":[5,5,5,5],\"name\":\"HSpacer19728\",\"sizing_mode\":\"stretch_width\"},\"id\":\"11755\",\"type\":\"Spacer\"},{\"attributes\":{\"end\":53.0,\"reset_end\":53.0,\"reset_start\":1.0,\"start\":1.0,\"tags\":[[[\"week\",\"week\",null]]]},\"id\":\"11687\",\"type\":\"Range1d\"},{\"attributes\":{},\"id\":\"11711\",\"type\":\"ResetTool\"},{\"attributes\":{\"bottom_units\":\"screen\",\"coordinates\":null,\"fill_alpha\":0.5,\"fill_color\":\"lightgrey\",\"group\":null,\"left_units\":\"screen\",\"level\":\"overlay\",\"line_alpha\":1.0,\"line_color\":\"black\",\"line_dash\":[4,4],\"line_width\":2,\"right_units\":\"screen\",\"syncable\":false,\"top_units\":\"screen\"},\"id\":\"11712\",\"type\":\"BoxAnnotation\"},{\"attributes\":{\"axis_label\":\"week\",\"coordinates\":null,\"formatter\":{\"id\":\"11730\"},\"group\":null,\"major_label_policy\":{\"id\":\"11731\"},\"ticker\":{\"id\":\"11700\"}},\"id\":\"11699\",\"type\":\"LinearAxis\"},{\"attributes\":{\"line_color\":\"#30a2da\",\"line_width\":2,\"x\":{\"field\":\"week\"},\"y\":{\"field\":\"volume\"}},\"id\":\"11728\",\"type\":\"Line\"},{\"attributes\":{\"axis\":{\"id\":\"11703\"},\"coordinates\":null,\"dimension\":1,\"grid_line_color\":null,\"group\":null,\"ticker\":null},\"id\":\"11706\",\"type\":\"Grid\"},{\"attributes\":{},\"id\":\"11695\",\"type\":\"LinearScale\"},{\"attributes\":{\"line_alpha\":0.2,\"line_color\":\"#30a2da\",\"line_width\":2,\"x\":{\"field\":\"week\"},\"y\":{\"field\":\"volume\"}},\"id\":\"11725\",\"type\":\"Line\"},{\"attributes\":{\"children\":[{\"id\":\"11686\"},{\"id\":\"11690\"},{\"id\":\"11755\"}],\"margin\":[0,0,0,0],\"name\":\"Row19723\",\"tags\":[\"embedded\"]},\"id\":\"11685\",\"type\":\"Row\"},{\"attributes\":{},\"id\":\"11700\",\"type\":\"BasicTicker\"},{\"attributes\":{},\"id\":\"11742\",\"type\":\"UnionRenderers\"},{\"attributes\":{\"data\":{\"volume\":{\"__ndarray__\":\"ZmZmZga980DjK77ii6npQG7btm17z+VA4yu+4suE9UBJkiRJUm3pQEmSJElSoOFAJUmSJPdWFUH5iq/4lqYRQYQ6qIM6WQ5BhDqog/KkA0EAAAAAepIGQeqgDurQ0f5A6qAO6vA2+kAAAAAAEJX7QDMzMzPD4fNAO6iDOpjK+0AlSZIkKVD1QG7btm2v+vhAsPiKr0hG9UDNzMzMvN0AQfmKr/iKH/xAhDqogzpG+UBJkiRJGkT0QLdt27Ytl/FAB3VQBzUE9EBJkiRJclXvQFh8xVd8K+xAO6iDOigv50DjK77iS3XoQJqZmZmZ0OVAoQ7qoG6B50D5iq/4imD3QJIkSZKwYPdAJUmSJAkj8kBmZmZmRiv0QL7iK75SJPJALL7iK5517UCw+Iqv2JruQHzFV3zlYe5AD+qgDgpH+EBCHdRB3dz1QGZmZmYWW/RAUAd1UKdO7UCPwvUoHB3pQPEVX/F1f+tAHdRBHTTx6EDjK77iKyDrQPYoXI/C8OpA27Zt2xZj5kA=\",\"dtype\":\"float64\",\"order\":\"little\",\"shape\":[49]},\"week\":[1,2,3,4,5,6,11,12,13,14,15,16,17,18,19,20,21,22,23,24,25,26,27,28,29,30,31,32,33,34,35,36,37,38,39,40,41,42,43,44,45,46,47,48,49,50,51,52,53]},\"selected\":{\"id\":\"11721\"},\"selection_policy\":{\"id\":\"11742\"}},\"id\":\"11720\",\"type\":\"ColumnDataSource\"},{\"attributes\":{\"axis\":{\"id\":\"11699\"},\"coordinates\":null,\"grid_line_color\":null,\"group\":null,\"ticker\":null},\"id\":\"11702\",\"type\":\"Grid\"},{\"attributes\":{},\"id\":\"11704\",\"type\":\"BasicTicker\"},{\"attributes\":{\"axis_label\":\"volume\",\"coordinates\":null,\"formatter\":{\"id\":\"11733\"},\"group\":null,\"major_label_policy\":{\"id\":\"11734\"},\"ticker\":{\"id\":\"11704\"}},\"id\":\"11703\",\"type\":\"LinearAxis\"}],\"root_ids\":[\"11685\"]},\"title\":\"Bokeh Application\",\"version\":\"2.4.2\"}};\n",
       "    var render_items = [{\"docid\":\"10a3b463-3cc8-41c1-9254-f40bbedef16c\",\"root_ids\":[\"11685\"],\"roots\":{\"11685\":\"d7267fa4-701d-484c-a342-76ec014ed75a\"}}];\n",
       "    root.Bokeh.embed.embed_items_notebook(docs_json, render_items);\n",
       "  }\n",
       "  if (root.Bokeh !== undefined && root.Bokeh.Panel !== undefined) {\n",
       "    embed_document(root);\n",
       "  } else {\n",
       "    var attempts = 0;\n",
       "    var timer = setInterval(function(root) {\n",
       "      if (root.Bokeh !== undefined && root.Bokeh.Panel !== undefined) {\n",
       "        clearInterval(timer);\n",
       "        embed_document(root);\n",
       "      } else if (document.readyState == \"complete\") {\n",
       "        attempts++;\n",
       "        if (attempts > 200) {\n",
       "          clearInterval(timer);\n",
       "          console.log(\"Bokeh: ERROR: Unable to run BokehJS code because BokehJS library is missing\");\n",
       "        }\n",
       "      }\n",
       "    }, 25, root)\n",
       "  }\n",
       "})(window);</script>"
      ],
      "text/plain": [
       ":Curve   [week]   (volume)"
      ]
     },
     "execution_count": 171,
     "metadata": {
      "application/vnd.holoviews_exec.v0+json": {
       "id": "11685"
      }
     },
     "output_type": "execute_result"
    }
   ],
   "source": [
    "# Group the data by the calendar week in the year (week of year). \n",
    "\n",
    "sp500_vol.groupby(sp500_vol.index.isocalendar().week).mean().hvplot()"
   ]
  },
  {
   "cell_type": "markdown",
   "metadata": {},
   "source": [
    "**Question:** Does share trading intensity tend to increase at any particular time of the calendar year?\n",
    "\n",
    "**Answer:** We can see that the 10th week of the year has a higher trading volume on the S&P500 (that would be mid-March)"
   ]
  },
  {
   "cell_type": "code",
   "execution_count": null,
   "metadata": {},
   "outputs": [],
   "source": []
  }
 ],
 "metadata": {
  "interpreter": {
   "hash": "4396f389b93e7269692bd3bea4c62813bbe379469bde939b058805f538feec11"
  },
  "kernelspec": {
   "display_name": "Python 3 (ipykernel)",
   "language": "python",
   "name": "python3"
  },
  "language_info": {
   "codemirror_mode": {
    "name": "ipython",
    "version": 3
   },
   "file_extension": ".py",
   "mimetype": "text/x-python",
   "name": "python",
   "nbconvert_exporter": "python",
   "pygments_lexer": "ipython3",
   "version": "3.7.11"
  }
 },
 "nbformat": 4,
 "nbformat_minor": 4
}
