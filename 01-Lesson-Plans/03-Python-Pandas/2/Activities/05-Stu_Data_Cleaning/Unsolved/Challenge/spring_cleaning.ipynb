{
 "cells": [
  {
   "cell_type": "markdown",
   "metadata": {},
   "source": [
    "# Spring Cleaning!"
   ]
  },
  {
   "cell_type": "markdown",
   "metadata": {},
   "source": [
    "Harold's stock data is a mess! Help him clean up his data before the auditors arrive!"
   ]
  },
  {
   "cell_type": "code",
   "execution_count": 1,
   "metadata": {},
   "outputs": [],
   "source": [
    "# Import Libraries\n",
    "import pandas as pd\n",
    "from pathlib import Path"
   ]
  },
  {
   "cell_type": "markdown",
   "metadata": {},
   "source": [
    "### Load CSV data into Pandas using `read_csv`"
   ]
  },
  {
   "cell_type": "code",
   "execution_count": 2,
   "metadata": {},
   "outputs": [],
   "source": [
    "csvpath = Path (\"/Users/ddevii/Rutgers/Rutgers_Personal_Repo/01-Lesson-Plans/03-Python-Pandas/2/Activities/05-Stu_Data_Cleaning/Resources/stock_data.csv\")\n",
    "stock_csvdata = pd.read_csv(csvpath)"
   ]
  },
  {
   "cell_type": "markdown",
   "metadata": {},
   "source": [
    "### Identify the number of rows and columns (shape) in the DataFrame."
   ]
  },
  {
   "cell_type": "code",
   "execution_count": 4,
   "metadata": {},
   "outputs": [
    {
     "data": {
      "text/plain": [
       "(504, 14)"
      ]
     },
     "execution_count": 4,
     "metadata": {},
     "output_type": "execute_result"
    }
   ],
   "source": [
    "stock_csvdata.shape"
   ]
  },
  {
   "cell_type": "markdown",
   "metadata": {},
   "source": [
    "### Generate a sample of the data to visually ensure data has been loaded in correctly."
   ]
  },
  {
   "cell_type": "code",
   "execution_count": 5,
   "metadata": {},
   "outputs": [
    {
     "data": {
      "text/html": [
       "<div>\n",
       "<style scoped>\n",
       "    .dataframe tbody tr th:only-of-type {\n",
       "        vertical-align: middle;\n",
       "    }\n",
       "\n",
       "    .dataframe tbody tr th {\n",
       "        vertical-align: top;\n",
       "    }\n",
       "\n",
       "    .dataframe thead th {\n",
       "        text-align: right;\n",
       "    }\n",
       "</style>\n",
       "<table border=\"1\" class=\"dataframe\">\n",
       "  <thead>\n",
       "    <tr style=\"text-align: right;\">\n",
       "      <th></th>\n",
       "      <th>symbol</th>\n",
       "      <th>name</th>\n",
       "      <th>sector</th>\n",
       "      <th>price</th>\n",
       "      <th>price_per_earnings</th>\n",
       "      <th>dividend_yield</th>\n",
       "      <th>earnings_per_share</th>\n",
       "      <th>52_week_low</th>\n",
       "      <th>52_week_high</th>\n",
       "      <th>market_cap</th>\n",
       "      <th>ebitda</th>\n",
       "      <th>price_per_sales</th>\n",
       "      <th>price_per_book</th>\n",
       "      <th>sec_filings</th>\n",
       "    </tr>\n",
       "  </thead>\n",
       "  <tbody>\n",
       "    <tr>\n",
       "      <th>49</th>\n",
       "      <td>AIV</td>\n",
       "      <td>Apartment Investment &amp; Management</td>\n",
       "      <td>Real Estate</td>\n",
       "      <td>38.21</td>\n",
       "      <td>15.60</td>\n",
       "      <td>3.876562</td>\n",
       "      <td>1.95</td>\n",
       "      <td>46.855</td>\n",
       "      <td>38.8500</td>\n",
       "      <td>6.156884e+09</td>\n",
       "      <td>8.748710e+08</td>\n",
       "      <td>6.187621</td>\n",
       "      <td>4.69</td>\n",
       "      <td>http://www.sec.gov/cgi-bin/browse-edgar?action...</td>\n",
       "    </tr>\n",
       "    <tr>\n",
       "      <th>427</th>\n",
       "      <td>SYY</td>\n",
       "      <td>Sysco Corp.</td>\n",
       "      <td>Consumer Staples</td>\n",
       "      <td>57</td>\n",
       "      <td>22.98</td>\n",
       "      <td>2.464487</td>\n",
       "      <td>2.08</td>\n",
       "      <td>64.270</td>\n",
       "      <td>48.8500</td>\n",
       "      <td>3.044532e+10</td>\n",
       "      <td>2.988725e+09</td>\n",
       "      <td>0.729553</td>\n",
       "      <td>13.40</td>\n",
       "      <td>http://www.sec.gov/cgi-bin/browse-edgar?action...</td>\n",
       "    </tr>\n",
       "    <tr>\n",
       "      <th>243</th>\n",
       "      <td>ILMN</td>\n",
       "      <td>Illumina Inc</td>\n",
       "      <td>Health Care</td>\n",
       "      <td>209.54</td>\n",
       "      <td>52.25</td>\n",
       "      <td>0.000000</td>\n",
       "      <td>4.92</td>\n",
       "      <td>248.970</td>\n",
       "      <td>158.0203</td>\n",
       "      <td>3.229520e+10</td>\n",
       "      <td>1.192000e+09</td>\n",
       "      <td>11.713953</td>\n",
       "      <td>10.89</td>\n",
       "      <td>http://www.sec.gov/cgi-bin/browse-edgar?action...</td>\n",
       "    </tr>\n",
       "    <tr>\n",
       "      <th>496</th>\n",
       "      <td>XRX</td>\n",
       "      <td>Xerox Corp.</td>\n",
       "      <td>Information Technology</td>\n",
       "      <td>29.8</td>\n",
       "      <td>8.87</td>\n",
       "      <td>3.207184</td>\n",
       "      <td>0.59</td>\n",
       "      <td>37.420</td>\n",
       "      <td>26.6400</td>\n",
       "      <td>7.938833e+09</td>\n",
       "      <td>1.191000e+09</td>\n",
       "      <td>0.787766</td>\n",
       "      <td>1.49</td>\n",
       "      <td>http://www.sec.gov/cgi-bin/browse-edgar?action...</td>\n",
       "    </tr>\n",
       "    <tr>\n",
       "      <th>206</th>\n",
       "      <td>IT</td>\n",
       "      <td>Gartner Inc</td>\n",
       "      <td>Information Technology</td>\n",
       "      <td>114.26</td>\n",
       "      <td>36.86</td>\n",
       "      <td>0.000000</td>\n",
       "      <td>2.31</td>\n",
       "      <td>142.160</td>\n",
       "      <td>97.9600</td>\n",
       "      <td>1.082831e+10</td>\n",
       "      <td>2.349350e+08</td>\n",
       "      <td>4.894499</td>\n",
       "      <td>13.47</td>\n",
       "      <td>http://www.sec.gov/cgi-bin/browse-edgar?action...</td>\n",
       "    </tr>\n",
       "    <tr>\n",
       "      <th>281</th>\n",
       "      <td>LLY</td>\n",
       "      <td>Lilly (Eli) &amp; Co.</td>\n",
       "      <td>Health Care</td>\n",
       "      <td>74.21</td>\n",
       "      <td>17.34</td>\n",
       "      <td>2.932742</td>\n",
       "      <td>-0.2</td>\n",
       "      <td>89.090</td>\n",
       "      <td>75.7100</td>\n",
       "      <td>8.447599e+10</td>\n",
       "      <td>3.459800e+09</td>\n",
       "      <td>3.754678</td>\n",
       "      <td>5.73</td>\n",
       "      <td>http://www.sec.gov/cgi-bin/browse-edgar?action...</td>\n",
       "    </tr>\n",
       "    <tr>\n",
       "      <th>346</th>\n",
       "      <td>OMC</td>\n",
       "      <td>Omnicom Group</td>\n",
       "      <td>Consumer Discretionary</td>\n",
       "      <td>75.91</td>\n",
       "      <td>15.27</td>\n",
       "      <td>3.183868</td>\n",
       "      <td>4.79</td>\n",
       "      <td>86.710</td>\n",
       "      <td>65.3200</td>\n",
       "      <td>1.737755e+10</td>\n",
       "      <td>2.366000e+09</td>\n",
       "      <td>1.532716</td>\n",
       "      <td>6.66</td>\n",
       "      <td>http://www.sec.gov/cgi-bin/browse-edgar?action...</td>\n",
       "    </tr>\n",
       "    <tr>\n",
       "      <th>55</th>\n",
       "      <td>AJG</td>\n",
       "      <td>Arthur J. Gallagher &amp; Co.</td>\n",
       "      <td>Financials</td>\n",
       "      <td>64.4</td>\n",
       "      <td>21.05</td>\n",
       "      <td>2.480714</td>\n",
       "      <td>2.54</td>\n",
       "      <td>70.550</td>\n",
       "      <td>53.6300</td>\n",
       "      <td>1.196849e+10</td>\n",
       "      <td>8.880000e+08</td>\n",
       "      <td>1.940022</td>\n",
       "      <td>2.92</td>\n",
       "      <td>http://www.sec.gov/cgi-bin/browse-edgar?action...</td>\n",
       "    </tr>\n",
       "    <tr>\n",
       "      <th>396</th>\n",
       "      <td>ROK</td>\n",
       "      <td>Rockwell Automation Inc.</td>\n",
       "      <td>Industrials</td>\n",
       "      <td>178.73</td>\n",
       "      <td>26.48</td>\n",
       "      <td>1.769255</td>\n",
       "      <td>6.35</td>\n",
       "      <td>210.720</td>\n",
       "      <td>147.6700</td>\n",
       "      <td>2.412322e+10</td>\n",
       "      <td>1.323200e+09</td>\n",
       "      <td>3.760594</td>\n",
       "      <td>10.94</td>\n",
       "      <td>http://www.sec.gov/cgi-bin/browse-edgar?action...</td>\n",
       "    </tr>\n",
       "    <tr>\n",
       "      <th>134</th>\n",
       "      <td>CMI</td>\n",
       "      <td>Cummins Inc.</td>\n",
       "      <td>Industrials</td>\n",
       "      <td>165.73</td>\n",
       "      <td>16.83</td>\n",
       "      <td>2.500868</td>\n",
       "      <td>8.23</td>\n",
       "      <td>194.180</td>\n",
       "      <td>143.8301</td>\n",
       "      <td>2.866923e+10</td>\n",
       "      <td>2.924000e+09</td>\n",
       "      <td>1.940617</td>\n",
       "      <td>3.89</td>\n",
       "      <td>http://www.sec.gov/cgi-bin/browse-edgar?action...</td>\n",
       "    </tr>\n",
       "  </tbody>\n",
       "</table>\n",
       "</div>"
      ],
      "text/plain": [
       "    symbol                               name                  sector   price  \\\n",
       "49     AIV  Apartment Investment & Management             Real Estate   38.21   \n",
       "427    SYY                        Sysco Corp.        Consumer Staples      57   \n",
       "243   ILMN                       Illumina Inc             Health Care  209.54   \n",
       "496    XRX                        Xerox Corp.  Information Technology    29.8   \n",
       "206     IT                        Gartner Inc  Information Technology  114.26   \n",
       "281    LLY                  Lilly (Eli) & Co.             Health Care   74.21   \n",
       "346    OMC                      Omnicom Group  Consumer Discretionary   75.91   \n",
       "55     AJG          Arthur J. Gallagher & Co.              Financials    64.4   \n",
       "396    ROK           Rockwell Automation Inc.             Industrials  178.73   \n",
       "134    CMI                       Cummins Inc.             Industrials  165.73   \n",
       "\n",
       "     price_per_earnings  dividend_yield earnings_per_share  52_week_low  \\\n",
       "49                15.60        3.876562               1.95       46.855   \n",
       "427               22.98        2.464487               2.08       64.270   \n",
       "243               52.25        0.000000               4.92      248.970   \n",
       "496                8.87        3.207184               0.59       37.420   \n",
       "206               36.86        0.000000               2.31      142.160   \n",
       "281               17.34        2.932742               -0.2       89.090   \n",
       "346               15.27        3.183868               4.79       86.710   \n",
       "55                21.05        2.480714               2.54       70.550   \n",
       "396               26.48        1.769255               6.35      210.720   \n",
       "134               16.83        2.500868               8.23      194.180   \n",
       "\n",
       "     52_week_high    market_cap        ebitda  price_per_sales  \\\n",
       "49        38.8500  6.156884e+09  8.748710e+08         6.187621   \n",
       "427       48.8500  3.044532e+10  2.988725e+09         0.729553   \n",
       "243      158.0203  3.229520e+10  1.192000e+09        11.713953   \n",
       "496       26.6400  7.938833e+09  1.191000e+09         0.787766   \n",
       "206       97.9600  1.082831e+10  2.349350e+08         4.894499   \n",
       "281       75.7100  8.447599e+10  3.459800e+09         3.754678   \n",
       "346       65.3200  1.737755e+10  2.366000e+09         1.532716   \n",
       "55        53.6300  1.196849e+10  8.880000e+08         1.940022   \n",
       "396      147.6700  2.412322e+10  1.323200e+09         3.760594   \n",
       "134      143.8301  2.866923e+10  2.924000e+09         1.940617   \n",
       "\n",
       "     price_per_book                                        sec_filings  \n",
       "49             4.69  http://www.sec.gov/cgi-bin/browse-edgar?action...  \n",
       "427           13.40  http://www.sec.gov/cgi-bin/browse-edgar?action...  \n",
       "243           10.89  http://www.sec.gov/cgi-bin/browse-edgar?action...  \n",
       "496            1.49  http://www.sec.gov/cgi-bin/browse-edgar?action...  \n",
       "206           13.47  http://www.sec.gov/cgi-bin/browse-edgar?action...  \n",
       "281            5.73  http://www.sec.gov/cgi-bin/browse-edgar?action...  \n",
       "346            6.66  http://www.sec.gov/cgi-bin/browse-edgar?action...  \n",
       "55             2.92  http://www.sec.gov/cgi-bin/browse-edgar?action...  \n",
       "396           10.94  http://www.sec.gov/cgi-bin/browse-edgar?action...  \n",
       "134            3.89  http://www.sec.gov/cgi-bin/browse-edgar?action...  "
      ]
     },
     "execution_count": 5,
     "metadata": {},
     "output_type": "execute_result"
    }
   ],
   "source": [
    "stock_csvdata.sample(10)"
   ]
  },
  {
   "cell_type": "markdown",
   "metadata": {},
   "source": [
    "### Identify the number of records in the DataFrame, and compare it with the number of rows in the original file."
   ]
  },
  {
   "cell_type": "code",
   "execution_count": 6,
   "metadata": {},
   "outputs": [
    {
     "data": {
      "text/plain": [
       "symbol                504\n",
       "name                  502\n",
       "sector                501\n",
       "price                 500\n",
       "price_per_earnings    497\n",
       "dividend_yield        499\n",
       "earnings_per_share    498\n",
       "52_week_low           500\n",
       "52_week_high          500\n",
       "market_cap            500\n",
       "ebitda                492\n",
       "price_per_sales       500\n",
       "price_per_book        492\n",
       "sec_filings           500\n",
       "dtype: int64"
      ]
     },
     "execution_count": 6,
     "metadata": {},
     "output_type": "execute_result"
    }
   ],
   "source": [
    "stock_csvdata.count()"
   ]
  },
  {
   "cell_type": "markdown",
   "metadata": {},
   "source": [
    "### Identify nulls records"
   ]
  },
  {
   "cell_type": "code",
   "execution_count": 8,
   "metadata": {},
   "outputs": [
    {
     "data": {
      "text/plain": [
       "symbol                 0\n",
       "name                   2\n",
       "sector                 3\n",
       "price                  4\n",
       "price_per_earnings     7\n",
       "dividend_yield         5\n",
       "earnings_per_share     6\n",
       "52_week_low            4\n",
       "52_week_high           4\n",
       "market_cap             4\n",
       "ebitda                12\n",
       "price_per_sales        4\n",
       "price_per_book        12\n",
       "sec_filings            4\n",
       "dtype: int64"
      ]
     },
     "execution_count": 8,
     "metadata": {},
     "output_type": "execute_result"
    }
   ],
   "source": [
    "stock_csvdata.isnull().sum()"
   ]
  },
  {
   "cell_type": "markdown",
   "metadata": {},
   "source": [
    "### Drop Null Records"
   ]
  },
  {
   "cell_type": "code",
   "execution_count": 9,
   "metadata": {},
   "outputs": [],
   "source": [
    "stock_csvdata=stock_csvdata.dropna()"
   ]
  },
  {
   "cell_type": "markdown",
   "metadata": {},
   "source": [
    "### Validate nulls have been dropped"
   ]
  },
  {
   "cell_type": "code",
   "execution_count": 10,
   "metadata": {},
   "outputs": [
    {
     "data": {
      "text/plain": [
       "symbol                0\n",
       "name                  0\n",
       "sector                0\n",
       "price                 0\n",
       "price_per_earnings    0\n",
       "dividend_yield        0\n",
       "earnings_per_share    0\n",
       "52_week_low           0\n",
       "52_week_high          0\n",
       "market_cap            0\n",
       "ebitda                0\n",
       "price_per_sales       0\n",
       "price_per_book        0\n",
       "sec_filings           0\n",
       "dtype: int64"
      ]
     },
     "execution_count": 10,
     "metadata": {},
     "output_type": "execute_result"
    }
   ],
   "source": [
    "stock_csvdata.isnull().sum()"
   ]
  },
  {
   "cell_type": "markdown",
   "metadata": {},
   "source": [
    "### Default null `ebitda` values to 0. Then, validate no records are null for ebitda."
   ]
  },
  {
   "cell_type": "code",
   "execution_count": null,
   "metadata": {},
   "outputs": [],
   "source": []
  },
  {
   "cell_type": "markdown",
   "metadata": {},
   "source": [
    "### Drop Duplicates"
   ]
  },
  {
   "cell_type": "code",
   "execution_count": 12,
   "metadata": {},
   "outputs": [],
   "source": [
    "stock_csvdata = stock_csvdata.drop_duplicates()"
   ]
  },
  {
   "cell_type": "markdown",
   "metadata": {},
   "source": [
    "### Sample `price` field"
   ]
  },
  {
   "cell_type": "code",
   "execution_count": 20,
   "metadata": {},
   "outputs": [
    {
     "data": {
      "text/plain": [
       "286     95.01\n",
       "380    142.68\n",
       "257    114.81\n",
       "137     92.16\n",
       "337    136.89\n",
       "290        24\n",
       "445     74.36\n",
       "353     61.86\n",
       "126     74.73\n",
       "158     91.92\n",
       "Name: price, dtype: object"
      ]
     },
     "execution_count": 20,
     "metadata": {},
     "output_type": "execute_result"
    }
   ],
   "source": [
    "stock_csvdata[\"price\"].sample(10)"
   ]
  },
  {
   "cell_type": "markdown",
   "metadata": {},
   "source": [
    "### Clean `price` Series by replacing `$`"
   ]
  },
  {
   "cell_type": "code",
   "execution_count": 21,
   "metadata": {},
   "outputs": [
    {
     "name": "stderr",
     "output_type": "stream",
     "text": [
      "/opt/anaconda3/envs/dev/lib/python3.7/site-packages/ipykernel_launcher.py:1: FutureWarning: The default value of regex will change from True to False in a future version. In addition, single character regular expressions will *not* be treated as literal strings when regex=True.\n",
      "  \"\"\"Entry point for launching an IPython kernel.\n"
     ]
    }
   ],
   "source": [
    "stock_csvdata[\"price\"] = stock_csvdata[\"price\"].str.replace(\"$\", \"\")"
   ]
  },
  {
   "cell_type": "markdown",
   "metadata": {},
   "source": [
    "### Confirm data type of `price`"
   ]
  },
  {
   "cell_type": "code",
   "execution_count": 24,
   "metadata": {},
   "outputs": [
    {
     "data": {
      "text/plain": [
       "0      222.89\n",
       "2       56.27\n",
       "3      108.48\n",
       "5      108.48\n",
       "6      185.16\n",
       "        ...  \n",
       "499     70.24\n",
       "500      76.3\n",
       "501    115.53\n",
       "502     50.71\n",
       "503     71.51\n",
       "Name: price, Length: 478, dtype: object"
      ]
     },
     "execution_count": 24,
     "metadata": {},
     "output_type": "execute_result"
    }
   ],
   "source": [
    "stock_csvdata[\"price\"]"
   ]
  },
  {
   "cell_type": "markdown",
   "metadata": {},
   "source": [
    "### Cast `price` Series as float and then validate using `dtype`"
   ]
  },
  {
   "cell_type": "code",
   "execution_count": 25,
   "metadata": {},
   "outputs": [],
   "source": [
    "stock_csvdata[\"price\"] = stock_csvdata[\"price\"].astype(\"float\")"
   ]
  },
  {
   "cell_type": "code",
   "execution_count": 28,
   "metadata": {},
   "outputs": [
    {
     "data": {
      "text/plain": [
       "symbol                 object\n",
       "name                   object\n",
       "sector                 object\n",
       "price                 float64\n",
       "price_per_earnings    float64\n",
       "dividend_yield        float64\n",
       "earnings_per_share     object\n",
       "52_week_low           float64\n",
       "52_week_high          float64\n",
       "market_cap            float64\n",
       "ebitda                float64\n",
       "price_per_sales       float64\n",
       "price_per_book        float64\n",
       "sec_filings            object\n",
       "dtype: object"
      ]
     },
     "execution_count": 28,
     "metadata": {},
     "output_type": "execute_result"
    }
   ],
   "source": [
    "stock_csvdata.dtypes"
   ]
  }
 ],
 "metadata": {
  "kernelspec": {
   "display_name": "Python 3",
   "language": "python",
   "name": "python3"
  },
  "language_info": {
   "codemirror_mode": {
    "name": "ipython",
    "version": 3
   },
   "file_extension": ".py",
   "mimetype": "text/x-python",
   "name": "python",
   "nbconvert_exporter": "python",
   "pygments_lexer": "ipython3",
   "version": "3.7.11"
  }
 },
 "nbformat": 4,
 "nbformat_minor": 2
}
