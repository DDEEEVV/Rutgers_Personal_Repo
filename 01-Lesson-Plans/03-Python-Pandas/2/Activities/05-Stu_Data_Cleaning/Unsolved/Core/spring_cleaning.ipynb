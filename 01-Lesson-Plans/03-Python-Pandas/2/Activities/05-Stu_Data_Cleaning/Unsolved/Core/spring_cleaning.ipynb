{
 "cells": [
  {
   "cell_type": "markdown",
   "metadata": {},
   "source": [
    "# Spring Cleaning!"
   ]
  },
  {
   "cell_type": "markdown",
   "metadata": {},
   "source": [
    "Harold's stock data is a mess! Help him clean up his data before the auditors arrive!"
   ]
  },
  {
   "cell_type": "code",
   "execution_count": 1,
   "metadata": {},
   "outputs": [],
   "source": [
    "# Import Libraries\n",
    "import pandas as pd\n",
    "from pathlib import Path"
   ]
  },
  {
   "cell_type": "markdown",
   "metadata": {},
   "source": [
    "### Load CSV data into Pandas using `read_csv`"
   ]
  },
  {
   "cell_type": "code",
   "execution_count": 3,
   "metadata": {},
   "outputs": [],
   "source": [
    "pathfile = Path(\"/Users/ddevii/Rutgers/Rutgers_Personal_Repo/01-Lesson-Plans/03-Python-Pandas/2/Activities/05-Stu_Data_Cleaning/Resources/stock_data.csv\")\n",
    "stock_csv = pd.read_csv(pathfile)"
   ]
  },
  {
   "cell_type": "markdown",
   "metadata": {},
   "source": [
    "### Identify the number of rows and columns (shape) in the DataFrame."
   ]
  },
  {
   "cell_type": "code",
   "execution_count": 5,
   "metadata": {},
   "outputs": [
    {
     "data": {
      "text/plain": [
       "(504, 14)"
      ]
     },
     "execution_count": 5,
     "metadata": {},
     "output_type": "execute_result"
    }
   ],
   "source": [
    "stock_csv.shape"
   ]
  },
  {
   "cell_type": "markdown",
   "metadata": {},
   "source": [
    "### Generate a sample of the data to visually ensure data has been loaded in correctly."
   ]
  },
  {
   "cell_type": "code",
   "execution_count": 6,
   "metadata": {},
   "outputs": [
    {
     "data": {
      "text/html": [
       "<div>\n",
       "<style scoped>\n",
       "    .dataframe tbody tr th:only-of-type {\n",
       "        vertical-align: middle;\n",
       "    }\n",
       "\n",
       "    .dataframe tbody tr th {\n",
       "        vertical-align: top;\n",
       "    }\n",
       "\n",
       "    .dataframe thead th {\n",
       "        text-align: right;\n",
       "    }\n",
       "</style>\n",
       "<table border=\"1\" class=\"dataframe\">\n",
       "  <thead>\n",
       "    <tr style=\"text-align: right;\">\n",
       "      <th></th>\n",
       "      <th>symbol</th>\n",
       "      <th>name</th>\n",
       "      <th>sector</th>\n",
       "      <th>price</th>\n",
       "      <th>price_per_earnings</th>\n",
       "      <th>dividend_yield</th>\n",
       "      <th>earnings_per_share</th>\n",
       "      <th>52_week_low</th>\n",
       "      <th>52_week_high</th>\n",
       "      <th>market_cap</th>\n",
       "      <th>ebitda</th>\n",
       "      <th>price_per_sales</th>\n",
       "      <th>price_per_book</th>\n",
       "      <th>sec_filings</th>\n",
       "    </tr>\n",
       "  </thead>\n",
       "  <tbody>\n",
       "    <tr>\n",
       "      <th>366</th>\n",
       "      <td>PNC</td>\n",
       "      <td>PNC Financial Services</td>\n",
       "      <td>Financials</td>\n",
       "      <td>149.38</td>\n",
       "      <td>17.55</td>\n",
       "      <td>1.935484</td>\n",
       "      <td>10.4</td>\n",
       "      <td>160.070</td>\n",
       "      <td>115.2500</td>\n",
       "      <td>7.331500e+10</td>\n",
       "      <td>0.000000e+00</td>\n",
       "      <td>4.046530</td>\n",
       "      <td>1.53</td>\n",
       "      <td>http://www.sec.gov/cgi-bin/browse-edgar?action...</td>\n",
       "    </tr>\n",
       "    <tr>\n",
       "      <th>325</th>\n",
       "      <td>NFLX</td>\n",
       "      <td>Netflix Inc.</td>\n",
       "      <td>Information Technology</td>\n",
       "      <td>250.1</td>\n",
       "      <td>200.08</td>\n",
       "      <td>0.000000</td>\n",
       "      <td>1.25</td>\n",
       "      <td>286.810</td>\n",
       "      <td>138.2600</td>\n",
       "      <td>1.148054e+11</td>\n",
       "      <td>8.090280e+08</td>\n",
       "      <td>9.861594</td>\n",
       "      <td>30.80</td>\n",
       "      <td>http://www.sec.gov/cgi-bin/browse-edgar?action...</td>\n",
       "    </tr>\n",
       "    <tr>\n",
       "      <th>56</th>\n",
       "      <td>AIZ</td>\n",
       "      <td>Assurant Inc</td>\n",
       "      <td>Financials</td>\n",
       "      <td>85.16</td>\n",
       "      <td>33.27</td>\n",
       "      <td>2.531359</td>\n",
       "      <td>9.08</td>\n",
       "      <td>106.985</td>\n",
       "      <td>85.9100</td>\n",
       "      <td>4.653994e+09</td>\n",
       "      <td>0.000000e+00</td>\n",
       "      <td>0.982187</td>\n",
       "      <td>1.12</td>\n",
       "      <td>http://www.sec.gov/cgi-bin/browse-edgar?action...</td>\n",
       "    </tr>\n",
       "    <tr>\n",
       "      <th>466</th>\n",
       "      <td>UNM</td>\n",
       "      <td>Unum Group</td>\n",
       "      <td>Financials</td>\n",
       "      <td>47.87</td>\n",
       "      <td>11.51</td>\n",
       "      <td>1.818901</td>\n",
       "      <td>4.38</td>\n",
       "      <td>58.730</td>\n",
       "      <td>43.5500</td>\n",
       "      <td>1.125643e+10</td>\n",
       "      <td>0.000000e+00</td>\n",
       "      <td>0.998492</td>\n",
       "      <td>1.19</td>\n",
       "      <td>http://www.sec.gov/cgi-bin/browse-edgar?action...</td>\n",
       "    </tr>\n",
       "    <tr>\n",
       "      <th>293</th>\n",
       "      <td>MAR</td>\n",
       "      <td>Marriott Int'l.</td>\n",
       "      <td>Consumer Discretionary</td>\n",
       "      <td>133.88</td>\n",
       "      <td>32.73</td>\n",
       "      <td>0.945288</td>\n",
       "      <td>2.67</td>\n",
       "      <td>149.210</td>\n",
       "      <td>85.3725</td>\n",
       "      <td>5.091013e+10</td>\n",
       "      <td>2.620000e+09</td>\n",
       "      <td>2.999725</td>\n",
       "      <td>11.02</td>\n",
       "      <td>http://www.sec.gov/cgi-bin/browse-edgar?action...</td>\n",
       "    </tr>\n",
       "    <tr>\n",
       "      <th>473</th>\n",
       "      <td>VZ</td>\n",
       "      <td>Verizon Communications</td>\n",
       "      <td>Telecommunication Services</td>\n",
       "      <td>49.04</td>\n",
       "      <td>13.08</td>\n",
       "      <td>4.626544</td>\n",
       "      <td>7.36</td>\n",
       "      <td>54.770</td>\n",
       "      <td>42.8000</td>\n",
       "      <td>2.080923e+11</td>\n",
       "      <td>4.574500e+10</td>\n",
       "      <td>1.645254</td>\n",
       "      <td>7.96</td>\n",
       "      <td>http://www.sec.gov/cgi-bin/browse-edgar?action...</td>\n",
       "    </tr>\n",
       "    <tr>\n",
       "      <th>395</th>\n",
       "      <td>RHI</td>\n",
       "      <td>Robert Half International</td>\n",
       "      <td>Industrials</td>\n",
       "      <td>52.26</td>\n",
       "      <td>20.18</td>\n",
       "      <td>1.707577</td>\n",
       "      <td>2.32</td>\n",
       "      <td>60.590</td>\n",
       "      <td>42.9200</td>\n",
       "      <td>7.047165e+09</td>\n",
       "      <td>5.651960e+08</td>\n",
       "      <td>1.333040</td>\n",
       "      <td>5.98</td>\n",
       "      <td>http://www.sec.gov/cgi-bin/browse-edgar?action...</td>\n",
       "    </tr>\n",
       "    <tr>\n",
       "      <th>410</th>\n",
       "      <td>SHW</td>\n",
       "      <td>Sherwin-Williams</td>\n",
       "      <td>Materials</td>\n",
       "      <td>387.65</td>\n",
       "      <td>26.75</td>\n",
       "      <td>0.842669</td>\n",
       "      <td>18.61</td>\n",
       "      <td>435.150</td>\n",
       "      <td>302.0101</td>\n",
       "      <td>3.773099e+10</td>\n",
       "      <td>2.160668e+09</td>\n",
       "      <td>2.527608</td>\n",
       "      <td>13.42</td>\n",
       "      <td>http://www.sec.gov/cgi-bin/browse-edgar?action...</td>\n",
       "    </tr>\n",
       "    <tr>\n",
       "      <th>317</th>\n",
       "      <td>MCO</td>\n",
       "      <td>Moody's Corp</td>\n",
       "      <td>Financials</td>\n",
       "      <td>152.14</td>\n",
       "      <td>26.55</td>\n",
       "      <td>1.114065</td>\n",
       "      <td>1.35</td>\n",
       "      <td>167.230</td>\n",
       "      <td>106.4800</td>\n",
       "      <td>3.018998e+10</td>\n",
       "      <td>1.238000e+09</td>\n",
       "      <td>9.932974</td>\n",
       "      <td>73.84</td>\n",
       "      <td>http://www.sec.gov/cgi-bin/browse-edgar?action...</td>\n",
       "    </tr>\n",
       "    <tr>\n",
       "      <th>312</th>\n",
       "      <td>MHK</td>\n",
       "      <td>Mohawk Industries</td>\n",
       "      <td>Consumer Discretionary</td>\n",
       "      <td>256.57</td>\n",
       "      <td>19.08</td>\n",
       "      <td>0.000000</td>\n",
       "      <td>12.48</td>\n",
       "      <td>286.850</td>\n",
       "      <td>209.9000</td>\n",
       "      <td>1.989736e+10</td>\n",
       "      <td>1.750393e+09</td>\n",
       "      <td>2.797782</td>\n",
       "      <td>2.88</td>\n",
       "      <td>http://www.sec.gov/cgi-bin/browse-edgar?action...</td>\n",
       "    </tr>\n",
       "  </tbody>\n",
       "</table>\n",
       "</div>"
      ],
      "text/plain": [
       "    symbol                       name                      sector   price  \\\n",
       "366    PNC     PNC Financial Services                  Financials  149.38   \n",
       "325   NFLX               Netflix Inc.      Information Technology   250.1   \n",
       "56     AIZ               Assurant Inc                  Financials   85.16   \n",
       "466    UNM                 Unum Group                  Financials   47.87   \n",
       "293    MAR            Marriott Int'l.      Consumer Discretionary  133.88   \n",
       "473     VZ     Verizon Communications  Telecommunication Services   49.04   \n",
       "395    RHI  Robert Half International                 Industrials   52.26   \n",
       "410    SHW           Sherwin-Williams                   Materials  387.65   \n",
       "317    MCO               Moody's Corp                  Financials  152.14   \n",
       "312    MHK          Mohawk Industries      Consumer Discretionary  256.57   \n",
       "\n",
       "     price_per_earnings  dividend_yield earnings_per_share  52_week_low  \\\n",
       "366               17.55        1.935484               10.4      160.070   \n",
       "325              200.08        0.000000               1.25      286.810   \n",
       "56                33.27        2.531359               9.08      106.985   \n",
       "466               11.51        1.818901               4.38       58.730   \n",
       "293               32.73        0.945288               2.67      149.210   \n",
       "473               13.08        4.626544               7.36       54.770   \n",
       "395               20.18        1.707577               2.32       60.590   \n",
       "410               26.75        0.842669              18.61      435.150   \n",
       "317               26.55        1.114065               1.35      167.230   \n",
       "312               19.08        0.000000              12.48      286.850   \n",
       "\n",
       "     52_week_high    market_cap        ebitda  price_per_sales  \\\n",
       "366      115.2500  7.331500e+10  0.000000e+00         4.046530   \n",
       "325      138.2600  1.148054e+11  8.090280e+08         9.861594   \n",
       "56        85.9100  4.653994e+09  0.000000e+00         0.982187   \n",
       "466       43.5500  1.125643e+10  0.000000e+00         0.998492   \n",
       "293       85.3725  5.091013e+10  2.620000e+09         2.999725   \n",
       "473       42.8000  2.080923e+11  4.574500e+10         1.645254   \n",
       "395       42.9200  7.047165e+09  5.651960e+08         1.333040   \n",
       "410      302.0101  3.773099e+10  2.160668e+09         2.527608   \n",
       "317      106.4800  3.018998e+10  1.238000e+09         9.932974   \n",
       "312      209.9000  1.989736e+10  1.750393e+09         2.797782   \n",
       "\n",
       "     price_per_book                                        sec_filings  \n",
       "366            1.53  http://www.sec.gov/cgi-bin/browse-edgar?action...  \n",
       "325           30.80  http://www.sec.gov/cgi-bin/browse-edgar?action...  \n",
       "56             1.12  http://www.sec.gov/cgi-bin/browse-edgar?action...  \n",
       "466            1.19  http://www.sec.gov/cgi-bin/browse-edgar?action...  \n",
       "293           11.02  http://www.sec.gov/cgi-bin/browse-edgar?action...  \n",
       "473            7.96  http://www.sec.gov/cgi-bin/browse-edgar?action...  \n",
       "395            5.98  http://www.sec.gov/cgi-bin/browse-edgar?action...  \n",
       "410           13.42  http://www.sec.gov/cgi-bin/browse-edgar?action...  \n",
       "317           73.84  http://www.sec.gov/cgi-bin/browse-edgar?action...  \n",
       "312            2.88  http://www.sec.gov/cgi-bin/browse-edgar?action...  "
      ]
     },
     "execution_count": 6,
     "metadata": {},
     "output_type": "execute_result"
    }
   ],
   "source": [
    "stock_csv.sample(10)"
   ]
  },
  {
   "cell_type": "markdown",
   "metadata": {},
   "source": [
    "### Identify the number of records in the DataFrame, and compare it with the number of rows in the original file."
   ]
  },
  {
   "cell_type": "code",
   "execution_count": 7,
   "metadata": {},
   "outputs": [
    {
     "data": {
      "text/plain": [
       "symbol                504\n",
       "name                  502\n",
       "sector                501\n",
       "price                 500\n",
       "price_per_earnings    497\n",
       "dividend_yield        499\n",
       "earnings_per_share    498\n",
       "52_week_low           500\n",
       "52_week_high          500\n",
       "market_cap            500\n",
       "ebitda                492\n",
       "price_per_sales       500\n",
       "price_per_book        492\n",
       "sec_filings           500\n",
       "dtype: int64"
      ]
     },
     "execution_count": 7,
     "metadata": {},
     "output_type": "execute_result"
    }
   ],
   "source": [
    "stock_csv.count()"
   ]
  },
  {
   "cell_type": "markdown",
   "metadata": {},
   "source": [
    "### Identify nulls records"
   ]
  },
  {
   "cell_type": "code",
   "execution_count": 10,
   "metadata": {},
   "outputs": [
    {
     "data": {
      "text/plain": [
       "symbol                 0\n",
       "name                   2\n",
       "sector                 3\n",
       "price                  4\n",
       "price_per_earnings     7\n",
       "dividend_yield         5\n",
       "earnings_per_share     6\n",
       "52_week_low            4\n",
       "52_week_high           4\n",
       "market_cap             4\n",
       "ebitda                12\n",
       "price_per_sales        4\n",
       "price_per_book        12\n",
       "sec_filings            4\n",
       "dtype: int64"
      ]
     },
     "execution_count": 10,
     "metadata": {},
     "output_type": "execute_result"
    }
   ],
   "source": [
    "stock_csv.isnull().sum()"
   ]
  },
  {
   "cell_type": "markdown",
   "metadata": {},
   "source": [
    "### Drop Null Records"
   ]
  },
  {
   "cell_type": "code",
   "execution_count": 13,
   "metadata": {},
   "outputs": [],
   "source": [
    "stock_csv = stock_csv.dropna()"
   ]
  },
  {
   "cell_type": "markdown",
   "metadata": {},
   "source": [
    "### Validate nulls have been dropped"
   ]
  },
  {
   "cell_type": "code",
   "execution_count": 15,
   "metadata": {},
   "outputs": [
    {
     "data": {
      "text/plain": [
       "symbol                0\n",
       "name                  0\n",
       "sector                0\n",
       "price                 0\n",
       "price_per_earnings    0\n",
       "dividend_yield        0\n",
       "earnings_per_share    0\n",
       "52_week_low           0\n",
       "52_week_high          0\n",
       "market_cap            0\n",
       "ebitda                0\n",
       "price_per_sales       0\n",
       "price_per_book        0\n",
       "sec_filings           0\n",
       "dtype: int64"
      ]
     },
     "execution_count": 15,
     "metadata": {},
     "output_type": "execute_result"
    }
   ],
   "source": [
    "stock_csv.isnull().sum()"
   ]
  },
  {
   "cell_type": "markdown",
   "metadata": {},
   "source": [
    "### Default null `ebitda` values to 0. Then, validate no records are null for ebitda."
   ]
  },
  {
   "cell_type": "code",
   "execution_count": null,
   "metadata": {},
   "outputs": [],
   "source": []
  },
  {
   "cell_type": "markdown",
   "metadata": {},
   "source": [
    "### Drop Duplicates"
   ]
  },
  {
   "cell_type": "code",
   "execution_count": 16,
   "metadata": {},
   "outputs": [],
   "source": [
    "stock_csv = stock_csv.drop_duplicates()"
   ]
  },
  {
   "cell_type": "code",
   "execution_count": 53,
   "metadata": {},
   "outputs": [
    {
     "data": {
      "text/plain": [
       "334      22.51\n",
       "350     111.95\n",
       "204      31.17\n",
       "451      34.56\n",
       "383      33.51\n",
       "        ...   \n",
       "38       91.55\n",
       "300     158.97\n",
       "43       82.68\n",
       "403     159.85\n",
       "140    $153.66\n",
       "Name: price, Length: 100, dtype: object"
      ]
     },
     "execution_count": 53,
     "metadata": {},
     "output_type": "execute_result"
    }
   ],
   "source": [
    "#sample \"price field\" :\n",
    "stock_csv[\"price\"].sample(100)"
   ]
  },
  {
   "cell_type": "code",
   "execution_count": 92,
   "metadata": {},
   "outputs": [
    {
     "name": "stderr",
     "output_type": "stream",
     "text": [
      "/opt/anaconda3/envs/dev/lib/python3.7/site-packages/ipykernel_launcher.py:2: FutureWarning: The default value of regex will change from True to False in a future version. In addition, single character regular expressions will *not* be treated as literal strings when regex=True.\n",
      "  \n"
     ]
    },
    {
     "data": {
      "text/plain": [
       "192     30.64\n",
       "468     86.77\n",
       "424     25.59\n",
       "297    160.62\n",
       "318     51.79\n",
       "        ...  \n",
       "409    103.36\n",
       "389    124.65\n",
       "24      37.14\n",
       "264    103.53\n",
       "166    116.54\n",
       "Name: price, Length: 100, dtype: object"
      ]
     },
     "execution_count": 92,
     "metadata": {},
     "output_type": "execute_result"
    }
   ],
   "source": [
    "#clean price series by replacing $\n",
    "stock_csv[\"price\"] = stock_csv[\"price\"].str.replace(\"$\", \"\")\n",
    "stock_csv[\"price\"].sample(100)"
   ]
  },
  {
   "cell_type": "code",
   "execution_count": 104,
   "metadata": {},
   "outputs": [
    {
     "data": {
      "text/plain": [
       "symbol                 object\n",
       "name                   object\n",
       "sector                 object\n",
       "price                 float64\n",
       "price_per_earnings    float64\n",
       "dividend_yield        float64\n",
       "earnings_per_share     object\n",
       "52_week_low           float64\n",
       "52_week_high          float64\n",
       "market_cap            float64\n",
       "ebitda                float64\n",
       "price_per_sales       float64\n",
       "price_per_book        float64\n",
       "sec_filings            object\n",
       "dtype: object"
      ]
     },
     "execution_count": 104,
     "metadata": {},
     "output_type": "execute_result"
    }
   ],
   "source": [
    "#Cast `price` Series as float and then validate using `dtype`\n",
    "\n",
    "stock_csv[\"price\"] = stock_csv[\"price\"].astype(\"float\")\n",
    "stock_csv.dtypes"
   ]
  },
  {
   "cell_type": "code",
   "execution_count": null,
   "metadata": {},
   "outputs": [],
   "source": []
  }
 ],
 "metadata": {
  "kernelspec": {
   "display_name": "Python 3",
   "language": "python",
   "name": "python3"
  },
  "language_info": {
   "codemirror_mode": {
    "name": "ipython",
    "version": 3
   },
   "file_extension": ".py",
   "mimetype": "text/x-python",
   "name": "python",
   "nbconvert_exporter": "python",
   "pygments_lexer": "ipython3",
   "version": "3.7.11"
  }
 },
 "nbformat": 4,
 "nbformat_minor": 2
}
