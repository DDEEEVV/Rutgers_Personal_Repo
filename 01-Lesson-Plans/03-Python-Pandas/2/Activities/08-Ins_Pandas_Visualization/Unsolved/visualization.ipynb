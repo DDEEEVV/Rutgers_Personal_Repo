{
 "cells": [
  {
   "cell_type": "markdown",
   "metadata": {},
   "source": [
    "### Instructor Demo: Pandas Visualizations\n",
    "\n",
    "This program reads annual gold price data from a CSV and uses line and bar charts to visualize the data."
   ]
  },
  {
   "cell_type": "code",
   "execution_count": 34,
   "metadata": {},
   "outputs": [],
   "source": [
    "# Import libraries and dependencies\n",
    "import pandas as pd\n",
    "from pathlib import Path\n",
    "%matplotlib inline"
   ]
  },
  {
   "cell_type": "code",
   "execution_count": 35,
   "metadata": {},
   "outputs": [
    {
     "data": {
      "text/html": [
       "<div>\n",
       "<style scoped>\n",
       "    .dataframe tbody tr th:only-of-type {\n",
       "        vertical-align: middle;\n",
       "    }\n",
       "\n",
       "    .dataframe tbody tr th {\n",
       "        vertical-align: top;\n",
       "    }\n",
       "\n",
       "    .dataframe thead th {\n",
       "        text-align: right;\n",
       "    }\n",
       "</style>\n",
       "<table border=\"1\" class=\"dataframe\">\n",
       "  <thead>\n",
       "    <tr style=\"text-align: right;\">\n",
       "      <th></th>\n",
       "      <th>Date</th>\n",
       "      <th>Price</th>\n",
       "    </tr>\n",
       "  </thead>\n",
       "  <tbody>\n",
       "    <tr>\n",
       "      <th>0</th>\n",
       "      <td>1950-12</td>\n",
       "      <td>34.720</td>\n",
       "    </tr>\n",
       "    <tr>\n",
       "      <th>1</th>\n",
       "      <td>1951-12</td>\n",
       "      <td>34.660</td>\n",
       "    </tr>\n",
       "    <tr>\n",
       "      <th>2</th>\n",
       "      <td>1952-12</td>\n",
       "      <td>34.790</td>\n",
       "    </tr>\n",
       "    <tr>\n",
       "      <th>3</th>\n",
       "      <td>1953-12</td>\n",
       "      <td>34.850</td>\n",
       "    </tr>\n",
       "    <tr>\n",
       "      <th>4</th>\n",
       "      <td>1954-12</td>\n",
       "      <td>35.040</td>\n",
       "    </tr>\n",
       "    <tr>\n",
       "      <th>...</th>\n",
       "      <td>...</td>\n",
       "      <td>...</td>\n",
       "    </tr>\n",
       "    <tr>\n",
       "      <th>64</th>\n",
       "      <td>2014-12</td>\n",
       "      <td>1200.440</td>\n",
       "    </tr>\n",
       "    <tr>\n",
       "      <th>65</th>\n",
       "      <td>2015-12</td>\n",
       "      <td>1068.317</td>\n",
       "    </tr>\n",
       "    <tr>\n",
       "      <th>66</th>\n",
       "      <td>2016-12</td>\n",
       "      <td>1152.165</td>\n",
       "    </tr>\n",
       "    <tr>\n",
       "      <th>67</th>\n",
       "      <td>2017-12</td>\n",
       "      <td>1265.674</td>\n",
       "    </tr>\n",
       "    <tr>\n",
       "      <th>68</th>\n",
       "      <td>2018-12</td>\n",
       "      <td>1249.887</td>\n",
       "    </tr>\n",
       "  </tbody>\n",
       "</table>\n",
       "<p>69 rows × 2 columns</p>\n",
       "</div>"
      ],
      "text/plain": [
       "       Date     Price\n",
       "0   1950-12    34.720\n",
       "1   1951-12    34.660\n",
       "2   1952-12    34.790\n",
       "3   1953-12    34.850\n",
       "4   1954-12    35.040\n",
       "..      ...       ...\n",
       "64  2014-12  1200.440\n",
       "65  2015-12  1068.317\n",
       "66  2016-12  1152.165\n",
       "67  2017-12  1265.674\n",
       "68  2018-12  1249.887\n",
       "\n",
       "[69 rows x 2 columns]"
      ]
     },
     "execution_count": 35,
     "metadata": {},
     "output_type": "execute_result"
    }
   ],
   "source": [
    "# Set the file path\n",
    "path_file = Path(\"/Users/ddevii/Rutgers/Rutgers_Personal_Repo/01-Lesson-Plans/03-Python-Pandas/2/Activities/08-Ins_Pandas_Visualization/Resources/annual_gold.csv\")\n",
    "# Read in the CSV as a DataFrame\n",
    "gold_csv = pd.read_csv(path_file)\n",
    "gold_csv.head(100)"
   ]
  },
  {
   "cell_type": "code",
   "execution_count": 36,
   "metadata": {},
   "outputs": [
    {
     "data": {
      "text/plain": [
       "<AxesSubplot:>"
      ]
     },
     "execution_count": 36,
     "metadata": {},
     "output_type": "execute_result"
    },
    {
     "data": {
      "image/png": "[encoded data removed]",
      "text/plain": [
       "<Figure size 432x288 with 1 Axes>"
      ]
     },
     "metadata": {
      "needs_background": "light"
     },
     "output_type": "display_data"
    }
   ],
   "source": [
    "#plotting the data:\n",
    "gold_csv.plot()"
   ]
  },
  {
   "cell_type": "code",
   "execution_count": 37,
   "metadata": {},
   "outputs": [
    {
     "data": {
      "text/html": [
       "<div>\n",
       "<style scoped>\n",
       "    .dataframe tbody tr th:only-of-type {\n",
       "        vertical-align: middle;\n",
       "    }\n",
       "\n",
       "    .dataframe tbody tr th {\n",
       "        vertical-align: top;\n",
       "    }\n",
       "\n",
       "    .dataframe thead th {\n",
       "        text-align: right;\n",
       "    }\n",
       "</style>\n",
       "<table border=\"1\" class=\"dataframe\">\n",
       "  <thead>\n",
       "    <tr style=\"text-align: right;\">\n",
       "      <th></th>\n",
       "      <th>Date</th>\n",
       "      <th>Price</th>\n",
       "    </tr>\n",
       "    <tr>\n",
       "      <th>Date</th>\n",
       "      <th></th>\n",
       "      <th></th>\n",
       "    </tr>\n",
       "  </thead>\n",
       "  <tbody>\n",
       "    <tr>\n",
       "      <th>1950-12-01</th>\n",
       "      <td>1950-12</td>\n",
       "      <td>34.720</td>\n",
       "    </tr>\n",
       "    <tr>\n",
       "      <th>1951-12-01</th>\n",
       "      <td>1951-12</td>\n",
       "      <td>34.660</td>\n",
       "    </tr>\n",
       "    <tr>\n",
       "      <th>1952-12-01</th>\n",
       "      <td>1952-12</td>\n",
       "      <td>34.790</td>\n",
       "    </tr>\n",
       "    <tr>\n",
       "      <th>1953-12-01</th>\n",
       "      <td>1953-12</td>\n",
       "      <td>34.850</td>\n",
       "    </tr>\n",
       "    <tr>\n",
       "      <th>1954-12-01</th>\n",
       "      <td>1954-12</td>\n",
       "      <td>35.040</td>\n",
       "    </tr>\n",
       "    <tr>\n",
       "      <th>...</th>\n",
       "      <td>...</td>\n",
       "      <td>...</td>\n",
       "    </tr>\n",
       "    <tr>\n",
       "      <th>2014-12-01</th>\n",
       "      <td>2014-12</td>\n",
       "      <td>1200.440</td>\n",
       "    </tr>\n",
       "    <tr>\n",
       "      <th>2015-12-01</th>\n",
       "      <td>2015-12</td>\n",
       "      <td>1068.317</td>\n",
       "    </tr>\n",
       "    <tr>\n",
       "      <th>2016-12-01</th>\n",
       "      <td>2016-12</td>\n",
       "      <td>1152.165</td>\n",
       "    </tr>\n",
       "    <tr>\n",
       "      <th>2017-12-01</th>\n",
       "      <td>2017-12</td>\n",
       "      <td>1265.674</td>\n",
       "    </tr>\n",
       "    <tr>\n",
       "      <th>2018-12-01</th>\n",
       "      <td>2018-12</td>\n",
       "      <td>1249.887</td>\n",
       "    </tr>\n",
       "  </tbody>\n",
       "</table>\n",
       "<p>69 rows × 2 columns</p>\n",
       "</div>"
      ],
      "text/plain": [
       "               Date     Price\n",
       "Date                         \n",
       "1950-12-01  1950-12    34.720\n",
       "1951-12-01  1951-12    34.660\n",
       "1952-12-01  1952-12    34.790\n",
       "1953-12-01  1953-12    34.850\n",
       "1954-12-01  1954-12    35.040\n",
       "...             ...       ...\n",
       "2014-12-01  2014-12  1200.440\n",
       "2015-12-01  2015-12  1068.317\n",
       "2016-12-01  2016-12  1152.165\n",
       "2017-12-01  2017-12  1265.674\n",
       "2018-12-01  2018-12  1249.887\n",
       "\n",
       "[69 rows x 2 columns]"
      ]
     },
     "execution_count": 37,
     "metadata": {},
     "output_type": "execute_result"
    }
   ],
   "source": [
    "# set the index to Date\n",
    "\n",
    "gold_csv.set_index(pd.to_datetime(gold_csv[\"Date\"], infer_datetime_format=True), inplace=True)\n",
    "gold_csv.head(100)"
   ]
  },
  {
   "cell_type": "code",
   "execution_count": 38,
   "metadata": {},
   "outputs": [
    {
     "data": {
      "text/plain": [
       "DatetimeIndex(['1950-12-01', '1951-12-01', '1952-12-01', '1953-12-01',\n",
       "               '1954-12-01', '1955-12-01', '1956-12-01', '1957-12-01',\n",
       "               '1958-12-01', '1959-12-01', '1960-12-01', '1961-12-01',\n",
       "               '1962-12-01', '1963-12-01', '1964-12-01', '1965-12-01',\n",
       "               '1966-12-01', '1967-12-01', '1968-12-01', '1969-12-01',\n",
       "               '1970-12-01', '1971-12-01', '1972-12-01', '1973-12-01',\n",
       "               '1974-12-01', '1975-12-01', '1976-12-01', '1977-12-01',\n",
       "               '1978-12-01', '1979-12-01', '1980-12-01', '1981-12-01',\n",
       "               '1982-12-01', '1983-12-01', '1984-12-01', '1985-12-01',\n",
       "               '1986-12-01', '1987-12-01', '1988-12-01', '1989-12-01',\n",
       "               '1990-12-01', '1991-12-01', '1992-12-01', '1993-12-01',\n",
       "               '1994-12-01', '1995-12-01', '1996-12-01', '1997-12-01',\n",
       "               '1998-12-01', '1999-12-01', '2000-12-01', '2001-12-01',\n",
       "               '2002-12-01', '2003-12-01', '2004-12-01', '2005-12-01',\n",
       "               '2006-12-01', '2007-12-01', '2008-12-01', '2009-12-01',\n",
       "               '2010-12-01', '2011-12-01', '2012-12-01', '2013-12-01',\n",
       "               '2014-12-01', '2015-12-01', '2016-12-01', '2017-12-01',\n",
       "               '2018-12-01'],\n",
       "              dtype='datetime64[ns]', name='Date', freq=None)"
      ]
     },
     "execution_count": 38,
     "metadata": {},
     "output_type": "execute_result"
    }
   ],
   "source": [
    "#check the index:\n",
    "gold_csv.index"
   ]
  },
  {
   "cell_type": "code",
   "execution_count": 39,
   "metadata": {},
   "outputs": [
    {
     "data": {
      "text/html": [
       "<div>\n",
       "<style scoped>\n",
       "    .dataframe tbody tr th:only-of-type {\n",
       "        vertical-align: middle;\n",
       "    }\n",
       "\n",
       "    .dataframe tbody tr th {\n",
       "        vertical-align: top;\n",
       "    }\n",
       "\n",
       "    .dataframe thead th {\n",
       "        text-align: right;\n",
       "    }\n",
       "</style>\n",
       "<table border=\"1\" class=\"dataframe\">\n",
       "  <thead>\n",
       "    <tr style=\"text-align: right;\">\n",
       "      <th></th>\n",
       "      <th>Price</th>\n",
       "    </tr>\n",
       "    <tr>\n",
       "      <th>Date</th>\n",
       "      <th></th>\n",
       "    </tr>\n",
       "  </thead>\n",
       "  <tbody>\n",
       "    <tr>\n",
       "      <th>1950-12-01</th>\n",
       "      <td>34.72</td>\n",
       "    </tr>\n",
       "    <tr>\n",
       "      <th>1951-12-01</th>\n",
       "      <td>34.66</td>\n",
       "    </tr>\n",
       "    <tr>\n",
       "      <th>1952-12-01</th>\n",
       "      <td>34.79</td>\n",
       "    </tr>\n",
       "    <tr>\n",
       "      <th>1953-12-01</th>\n",
       "      <td>34.85</td>\n",
       "    </tr>\n",
       "    <tr>\n",
       "      <th>1954-12-01</th>\n",
       "      <td>35.04</td>\n",
       "    </tr>\n",
       "  </tbody>\n",
       "</table>\n",
       "</div>"
      ],
      "text/plain": [
       "            Price\n",
       "Date             \n",
       "1950-12-01  34.72\n",
       "1951-12-01  34.66\n",
       "1952-12-01  34.79\n",
       "1953-12-01  34.85\n",
       "1954-12-01  35.04"
      ]
     },
     "execution_count": 39,
     "metadata": {},
     "output_type": "execute_result"
    }
   ],
   "source": [
    "#removing the column \"Date\" as the index is now date and we don't need to Dates in our DataFrame:\n",
    "gold_csv.drop(columns=[\"Date\"], inplace=True)\n",
    "gold_csv.head()"
   ]
  },
  {
   "cell_type": "code",
   "execution_count": 40,
   "metadata": {},
   "outputs": [
    {
     "data": {
      "text/plain": [
       "<AxesSubplot:xlabel='Date'>"
      ]
     },
     "execution_count": 40,
     "metadata": {},
     "output_type": "execute_result"
    },
    {
     "data": {
      "image/png": "[encoded data removed]",
      "text/plain": [
       "<Figure size 432x288 with 1 Axes>"
      ]
     },
     "metadata": {
      "needs_background": "light"
     },
     "output_type": "display_data"
    }
   ],
   "source": [
    "#ploting the DataFrame with the years instead of index numbers 0-70 in x axises \n",
    "gold_csv.plot()"
   ]
  }
 ],
 "metadata": {
  "kernelspec": {
   "display_name": "Python 3",
   "language": "python",
   "name": "python3"
  },
  "language_info": {
   "codemirror_mode": {
    "name": "ipython",
    "version": 3
   },
   "file_extension": ".py",
   "mimetype": "text/x-python",
   "name": "python",
   "nbconvert_exporter": "python",
   "pygments_lexer": "ipython3",
   "version": "3.7.11"
  }
 },
 "nbformat": 4,
 "nbformat_minor": 2
}
