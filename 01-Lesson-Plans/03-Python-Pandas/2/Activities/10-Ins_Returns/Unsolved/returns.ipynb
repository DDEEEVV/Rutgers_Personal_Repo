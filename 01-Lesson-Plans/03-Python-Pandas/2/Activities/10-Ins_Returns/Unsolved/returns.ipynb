{
 "cells": [
  {
   "cell_type": "markdown",
   "metadata": {},
   "source": [
    "### Instructor Demo: Returns\n",
    "\n",
    "This program reads daily stock data from a CSV, trims extraneous columns, converts date strings to datetime objects, sets the datetimes as the index, and calculates and plots returns for a specified date range.\n",
    "\n",
    "Equation: $r=\\frac{{p_{t}} - {p_{0}}}{p_{0}}$\n",
    "\n",
    "Where $r$ is return on investment, ${p_{t}}$ is the price at time $t$, and ${p_{0}}$ is the initial price"
   ]
  },
  {
   "cell_type": "code",
   "execution_count": 8,
   "metadata": {},
   "outputs": [],
   "source": [
    "import pandas as pd\n",
    "%matplotlib inline"
   ]
  },
  {
   "cell_type": "markdown",
   "metadata": {},
   "source": [
    "### Read CSV in as DataFrame"
   ]
  },
  {
   "cell_type": "code",
   "execution_count": 9,
   "metadata": {},
   "outputs": [
    {
     "data": {
      "text/html": [
       "<div>\n",
       "<style scoped>\n",
       "    .dataframe tbody tr th:only-of-type {\n",
       "        vertical-align: middle;\n",
       "    }\n",
       "\n",
       "    .dataframe tbody tr th {\n",
       "        vertical-align: top;\n",
       "    }\n",
       "\n",
       "    .dataframe thead th {\n",
       "        text-align: right;\n",
       "    }\n",
       "</style>\n",
       "<table border=\"1\" class=\"dataframe\">\n",
       "  <thead>\n",
       "    <tr style=\"text-align: right;\">\n",
       "      <th></th>\n",
       "      <th>Date</th>\n",
       "      <th>Open</th>\n",
       "      <th>High</th>\n",
       "      <th>Low</th>\n",
       "      <th>Close</th>\n",
       "      <th>Adj Close</th>\n",
       "      <th>Volume</th>\n",
       "    </tr>\n",
       "  </thead>\n",
       "  <tbody>\n",
       "    <tr>\n",
       "      <th>0</th>\n",
       "      <td>2014-05-02</td>\n",
       "      <td>1885.300049</td>\n",
       "      <td>1891.329956</td>\n",
       "      <td>1878.500000</td>\n",
       "      <td>1881.140015</td>\n",
       "      <td>1881.140015</td>\n",
       "      <td>3159560000</td>\n",
       "    </tr>\n",
       "    <tr>\n",
       "      <th>1</th>\n",
       "      <td>2014-05-05</td>\n",
       "      <td>1879.449951</td>\n",
       "      <td>1885.510010</td>\n",
       "      <td>1866.770020</td>\n",
       "      <td>1884.660034</td>\n",
       "      <td>1884.660034</td>\n",
       "      <td>2733730000</td>\n",
       "    </tr>\n",
       "    <tr>\n",
       "      <th>2</th>\n",
       "      <td>2014-05-06</td>\n",
       "      <td>1883.689941</td>\n",
       "      <td>1883.689941</td>\n",
       "      <td>1867.719971</td>\n",
       "      <td>1867.719971</td>\n",
       "      <td>1867.719971</td>\n",
       "      <td>3327260000</td>\n",
       "    </tr>\n",
       "    <tr>\n",
       "      <th>3</th>\n",
       "      <td>2014-05-07</td>\n",
       "      <td>1868.530029</td>\n",
       "      <td>1878.829956</td>\n",
       "      <td>1859.790039</td>\n",
       "      <td>1878.209961</td>\n",
       "      <td>1878.209961</td>\n",
       "      <td>3632950000</td>\n",
       "    </tr>\n",
       "    <tr>\n",
       "      <th>4</th>\n",
       "      <td>2014-05-08</td>\n",
       "      <td>1877.390015</td>\n",
       "      <td>1889.069946</td>\n",
       "      <td>1870.050049</td>\n",
       "      <td>1875.630005</td>\n",
       "      <td>1875.630005</td>\n",
       "      <td>3393420000</td>\n",
       "    </tr>\n",
       "  </tbody>\n",
       "</table>\n",
       "</div>"
      ],
      "text/plain": [
       "         Date         Open         High          Low        Close  \\\n",
       "0  2014-05-02  1885.300049  1891.329956  1878.500000  1881.140015   \n",
       "1  2014-05-05  1879.449951  1885.510010  1866.770020  1884.660034   \n",
       "2  2014-05-06  1883.689941  1883.689941  1867.719971  1867.719971   \n",
       "3  2014-05-07  1868.530029  1878.829956  1859.790039  1878.209961   \n",
       "4  2014-05-08  1877.390015  1889.069946  1870.050049  1875.630005   \n",
       "\n",
       "     Adj Close      Volume  \n",
       "0  1881.140015  3159560000  \n",
       "1  1884.660034  2733730000  \n",
       "2  1867.719971  3327260000  \n",
       "3  1878.209961  3632950000  \n",
       "4  1875.630005  3393420000  "
      ]
     },
     "execution_count": 9,
     "metadata": {},
     "output_type": "execute_result"
    }
   ],
   "source": [
    "# Read in the CSV as a DataFrame\n",
    "sp500_csv = pd.read_csv(\"/Users/ddevii/Rutgers/Rutgers_Personal_Repo/01-Lesson-Plans/03-Python-Pandas/2/Activities/10-Ins_Returns/Resources/sp500_stock_data.csv\")\n",
    "sp500_csv.head()"
   ]
  },
  {
   "cell_type": "code",
   "execution_count": 10,
   "metadata": {},
   "outputs": [
    {
     "data": {
      "text/html": [
       "<div>\n",
       "<style scoped>\n",
       "    .dataframe tbody tr th:only-of-type {\n",
       "        vertical-align: middle;\n",
       "    }\n",
       "\n",
       "    .dataframe tbody tr th {\n",
       "        vertical-align: top;\n",
       "    }\n",
       "\n",
       "    .dataframe thead th {\n",
       "        text-align: right;\n",
       "    }\n",
       "</style>\n",
       "<table border=\"1\" class=\"dataframe\">\n",
       "  <thead>\n",
       "    <tr style=\"text-align: right;\">\n",
       "      <th></th>\n",
       "      <th>Date</th>\n",
       "      <th>Open</th>\n",
       "      <th>High</th>\n",
       "      <th>Low</th>\n",
       "      <th>Close</th>\n",
       "      <th>Adj Close</th>\n",
       "      <th>Volume</th>\n",
       "    </tr>\n",
       "  </thead>\n",
       "  <tbody>\n",
       "    <tr>\n",
       "      <th>count</th>\n",
       "      <td>1258</td>\n",
       "      <td>1258.000000</td>\n",
       "      <td>1258.000000</td>\n",
       "      <td>1258.000000</td>\n",
       "      <td>1258.000000</td>\n",
       "      <td>1258.000000</td>\n",
       "      <td>1.258000e+03</td>\n",
       "    </tr>\n",
       "    <tr>\n",
       "      <th>unique</th>\n",
       "      <td>1258</td>\n",
       "      <td>NaN</td>\n",
       "      <td>NaN</td>\n",
       "      <td>NaN</td>\n",
       "      <td>NaN</td>\n",
       "      <td>NaN</td>\n",
       "      <td>NaN</td>\n",
       "    </tr>\n",
       "    <tr>\n",
       "      <th>top</th>\n",
       "      <td>2014-05-02</td>\n",
       "      <td>NaN</td>\n",
       "      <td>NaN</td>\n",
       "      <td>NaN</td>\n",
       "      <td>NaN</td>\n",
       "      <td>NaN</td>\n",
       "      <td>NaN</td>\n",
       "    </tr>\n",
       "    <tr>\n",
       "      <th>freq</th>\n",
       "      <td>1</td>\n",
       "      <td>NaN</td>\n",
       "      <td>NaN</td>\n",
       "      <td>NaN</td>\n",
       "      <td>NaN</td>\n",
       "      <td>NaN</td>\n",
       "      <td>NaN</td>\n",
       "    </tr>\n",
       "    <tr>\n",
       "      <th>mean</th>\n",
       "      <td>NaN</td>\n",
       "      <td>2316.801637</td>\n",
       "      <td>2326.829332</td>\n",
       "      <td>2305.725223</td>\n",
       "      <td>2317.082948</td>\n",
       "      <td>2317.082948</td>\n",
       "      <td>3.596083e+09</td>\n",
       "    </tr>\n",
       "    <tr>\n",
       "      <th>std</th>\n",
       "      <td>NaN</td>\n",
       "      <td>317.895587</td>\n",
       "      <td>318.579627</td>\n",
       "      <td>317.124199</td>\n",
       "      <td>317.705702</td>\n",
       "      <td>317.705702</td>\n",
       "      <td>6.939543e+08</td>\n",
       "    </tr>\n",
       "    <tr>\n",
       "      <th>min</th>\n",
       "      <td>NaN</td>\n",
       "      <td>1833.400024</td>\n",
       "      <td>1847.000000</td>\n",
       "      <td>1810.099976</td>\n",
       "      <td>1829.079956</td>\n",
       "      <td>1829.079956</td>\n",
       "      <td>1.349780e+09</td>\n",
       "    </tr>\n",
       "    <tr>\n",
       "      <th>25%</th>\n",
       "      <td>NaN</td>\n",
       "      <td>2057.875000</td>\n",
       "      <td>2067.634888</td>\n",
       "      <td>2044.870025</td>\n",
       "      <td>2058.322449</td>\n",
       "      <td>2058.322449</td>\n",
       "      <td>3.188478e+09</td>\n",
       "    </tr>\n",
       "    <tr>\n",
       "      <th>50%</th>\n",
       "      <td>NaN</td>\n",
       "      <td>2179.030029</td>\n",
       "      <td>2184.969971</td>\n",
       "      <td>2172.895019</td>\n",
       "      <td>2180.639893</td>\n",
       "      <td>2180.639893</td>\n",
       "      <td>3.504925e+09</td>\n",
       "    </tr>\n",
       "    <tr>\n",
       "      <th>75%</th>\n",
       "      <td>NaN</td>\n",
       "      <td>2636.292481</td>\n",
       "      <td>2652.804931</td>\n",
       "      <td>2612.815063</td>\n",
       "      <td>2636.575012</td>\n",
       "      <td>2636.575012</td>\n",
       "      <td>3.893518e+09</td>\n",
       "    </tr>\n",
       "    <tr>\n",
       "      <th>max</th>\n",
       "      <td>NaN</td>\n",
       "      <td>2952.330078</td>\n",
       "      <td>2954.129883</td>\n",
       "      <td>2939.350098</td>\n",
       "      <td>2945.830078</td>\n",
       "      <td>2945.830078</td>\n",
       "      <td>7.609010e+09</td>\n",
       "    </tr>\n",
       "  </tbody>\n",
       "</table>\n",
       "</div>"
      ],
      "text/plain": [
       "              Date         Open         High          Low        Close  \\\n",
       "count         1258  1258.000000  1258.000000  1258.000000  1258.000000   \n",
       "unique        1258          NaN          NaN          NaN          NaN   \n",
       "top     2014-05-02          NaN          NaN          NaN          NaN   \n",
       "freq             1          NaN          NaN          NaN          NaN   \n",
       "mean           NaN  2316.801637  2326.829332  2305.725223  2317.082948   \n",
       "std            NaN   317.895587   318.579627   317.124199   317.705702   \n",
       "min            NaN  1833.400024  1847.000000  1810.099976  1829.079956   \n",
       "25%            NaN  2057.875000  2067.634888  2044.870025  2058.322449   \n",
       "50%            NaN  2179.030029  2184.969971  2172.895019  2180.639893   \n",
       "75%            NaN  2636.292481  2652.804931  2612.815063  2636.575012   \n",
       "max            NaN  2952.330078  2954.129883  2939.350098  2945.830078   \n",
       "\n",
       "          Adj Close        Volume  \n",
       "count   1258.000000  1.258000e+03  \n",
       "unique          NaN           NaN  \n",
       "top             NaN           NaN  \n",
       "freq            NaN           NaN  \n",
       "mean    2317.082948  3.596083e+09  \n",
       "std      317.705702  6.939543e+08  \n",
       "min     1829.079956  1.349780e+09  \n",
       "25%     2058.322449  3.188478e+09  \n",
       "50%     2180.639893  3.504925e+09  \n",
       "75%     2636.575012  3.893518e+09  \n",
       "max     2945.830078  7.609010e+09  "
      ]
     },
     "execution_count": 10,
     "metadata": {},
     "output_type": "execute_result"
    }
   ],
   "source": [
    "# Use the 'describe()' function to View Summary Statistics:\n",
    "sp500_csv.describe(include=\"all\")"
   ]
  },
  {
   "cell_type": "code",
   "execution_count": 11,
   "metadata": {},
   "outputs": [
    {
     "data": {
      "text/html": [
       "<div>\n",
       "<style scoped>\n",
       "    .dataframe tbody tr th:only-of-type {\n",
       "        vertical-align: middle;\n",
       "    }\n",
       "\n",
       "    .dataframe tbody tr th {\n",
       "        vertical-align: top;\n",
       "    }\n",
       "\n",
       "    .dataframe thead th {\n",
       "        text-align: right;\n",
       "    }\n",
       "</style>\n",
       "<table border=\"1\" class=\"dataframe\">\n",
       "  <thead>\n",
       "    <tr style=\"text-align: right;\">\n",
       "      <th></th>\n",
       "      <th>Date</th>\n",
       "      <th>Adj Close</th>\n",
       "    </tr>\n",
       "  </thead>\n",
       "  <tbody>\n",
       "    <tr>\n",
       "      <th>0</th>\n",
       "      <td>2014-05-02</td>\n",
       "      <td>1881.140015</td>\n",
       "    </tr>\n",
       "    <tr>\n",
       "      <th>1</th>\n",
       "      <td>2014-05-05</td>\n",
       "      <td>1884.660034</td>\n",
       "    </tr>\n",
       "    <tr>\n",
       "      <th>2</th>\n",
       "      <td>2014-05-06</td>\n",
       "      <td>1867.719971</td>\n",
       "    </tr>\n",
       "    <tr>\n",
       "      <th>3</th>\n",
       "      <td>2014-05-07</td>\n",
       "      <td>1878.209961</td>\n",
       "    </tr>\n",
       "    <tr>\n",
       "      <th>4</th>\n",
       "      <td>2014-05-08</td>\n",
       "      <td>1875.630005</td>\n",
       "    </tr>\n",
       "  </tbody>\n",
       "</table>\n",
       "</div>"
      ],
      "text/plain": [
       "         Date    Adj Close\n",
       "0  2014-05-02  1881.140015\n",
       "1  2014-05-05  1884.660034\n",
       "2  2014-05-06  1867.719971\n",
       "3  2014-05-07  1878.209961\n",
       "4  2014-05-08  1875.630005"
      ]
     },
     "execution_count": 11,
     "metadata": {},
     "output_type": "execute_result"
    }
   ],
   "source": [
    "# Drop unnecessary columns - Dropping extra codes\n",
    "sp500_csv.drop(columns=['Open', 'High', 'Low', 'Close', 'Volume'], inplace=True)\n",
    "sp500_csv.head()"
   ]
  },
  {
   "cell_type": "code",
   "execution_count": 12,
   "metadata": {},
   "outputs": [
    {
     "data": {
      "text/html": [
       "<div>\n",
       "<style scoped>\n",
       "    .dataframe tbody tr th:only-of-type {\n",
       "        vertical-align: middle;\n",
       "    }\n",
       "\n",
       "    .dataframe tbody tr th {\n",
       "        vertical-align: top;\n",
       "    }\n",
       "\n",
       "    .dataframe thead th {\n",
       "        text-align: right;\n",
       "    }\n",
       "</style>\n",
       "<table border=\"1\" class=\"dataframe\">\n",
       "  <thead>\n",
       "    <tr style=\"text-align: right;\">\n",
       "      <th></th>\n",
       "      <th>Date</th>\n",
       "      <th>Adj Close</th>\n",
       "    </tr>\n",
       "    <tr>\n",
       "      <th>Date</th>\n",
       "      <th></th>\n",
       "      <th></th>\n",
       "    </tr>\n",
       "  </thead>\n",
       "  <tbody>\n",
       "    <tr>\n",
       "      <th>2014-05-02</th>\n",
       "      <td>2014-05-02</td>\n",
       "      <td>1881.140015</td>\n",
       "    </tr>\n",
       "    <tr>\n",
       "      <th>2014-05-05</th>\n",
       "      <td>2014-05-05</td>\n",
       "      <td>1884.660034</td>\n",
       "    </tr>\n",
       "    <tr>\n",
       "      <th>2014-05-06</th>\n",
       "      <td>2014-05-06</td>\n",
       "      <td>1867.719971</td>\n",
       "    </tr>\n",
       "    <tr>\n",
       "      <th>2014-05-07</th>\n",
       "      <td>2014-05-07</td>\n",
       "      <td>1878.209961</td>\n",
       "    </tr>\n",
       "    <tr>\n",
       "      <th>2014-05-08</th>\n",
       "      <td>2014-05-08</td>\n",
       "      <td>1875.630005</td>\n",
       "    </tr>\n",
       "  </tbody>\n",
       "</table>\n",
       "</div>"
      ],
      "text/plain": [
       "                  Date    Adj Close\n",
       "Date                               \n",
       "2014-05-02  2014-05-02  1881.140015\n",
       "2014-05-05  2014-05-05  1884.660034\n",
       "2014-05-06  2014-05-06  1867.719971\n",
       "2014-05-07  2014-05-07  1878.209961\n",
       "2014-05-08  2014-05-08  1875.630005"
      ]
     },
     "execution_count": 12,
     "metadata": {},
     "output_type": "execute_result"
    }
   ],
   "source": [
    "# Set the date as the index to the DataFrame\n",
    "sp500_csv.set_index(pd.to_datetime(sp500_csv['Date'], infer_datetime_format=True), inplace=True)\n",
    "sp500_csv.head()\n"
   ]
  },
  {
   "cell_type": "code",
   "execution_count": 13,
   "metadata": {},
   "outputs": [
    {
     "data": {
      "text/html": [
       "<div>\n",
       "<style scoped>\n",
       "    .dataframe tbody tr th:only-of-type {\n",
       "        vertical-align: middle;\n",
       "    }\n",
       "\n",
       "    .dataframe tbody tr th {\n",
       "        vertical-align: top;\n",
       "    }\n",
       "\n",
       "    .dataframe thead th {\n",
       "        text-align: right;\n",
       "    }\n",
       "</style>\n",
       "<table border=\"1\" class=\"dataframe\">\n",
       "  <thead>\n",
       "    <tr style=\"text-align: right;\">\n",
       "      <th></th>\n",
       "      <th>Adj Close</th>\n",
       "    </tr>\n",
       "    <tr>\n",
       "      <th>Date</th>\n",
       "      <th></th>\n",
       "    </tr>\n",
       "  </thead>\n",
       "  <tbody>\n",
       "    <tr>\n",
       "      <th>2014-05-02</th>\n",
       "      <td>1881.140015</td>\n",
       "    </tr>\n",
       "    <tr>\n",
       "      <th>2014-05-05</th>\n",
       "      <td>1884.660034</td>\n",
       "    </tr>\n",
       "    <tr>\n",
       "      <th>2014-05-06</th>\n",
       "      <td>1867.719971</td>\n",
       "    </tr>\n",
       "    <tr>\n",
       "      <th>2014-05-07</th>\n",
       "      <td>1878.209961</td>\n",
       "    </tr>\n",
       "    <tr>\n",
       "      <th>2014-05-08</th>\n",
       "      <td>1875.630005</td>\n",
       "    </tr>\n",
       "  </tbody>\n",
       "</table>\n",
       "</div>"
      ],
      "text/plain": [
       "              Adj Close\n",
       "Date                   \n",
       "2014-05-02  1881.140015\n",
       "2014-05-05  1884.660034\n",
       "2014-05-06  1867.719971\n",
       "2014-05-07  1878.209961\n",
       "2014-05-08  1875.630005"
      ]
     },
     "execution_count": 13,
     "metadata": {},
     "output_type": "execute_result"
    }
   ],
   "source": [
    "# Drop the extra date column\n",
    "sp500_csv.drop(columns=[\"Date\"], inplace=True)\n",
    "sp500_csv.head()"
   ]
  },
  {
   "cell_type": "code",
   "execution_count": 15,
   "metadata": {},
   "outputs": [
    {
     "data": {
      "text/plain": [
       "<AxesSubplot:xlabel='Date'>"
      ]
     },
     "execution_count": 15,
     "metadata": {},
     "output_type": "execute_result"
    },
    {
     "data": {
      "image/png": "[encoded data removed]",
      "text/plain": [
       "<Figure size 432x288 with 1 Axes>"
      ]
     },
     "metadata": {
      "needs_background": "light"
     },
     "output_type": "display_data"
    }
   ],
   "source": [
    "# Plot the daily closing stock price of the S&P 500 over the last 5 years\n",
    "sp500_csv.plot()"
   ]
  },
  {
   "cell_type": "code",
   "execution_count": 16,
   "metadata": {},
   "outputs": [
    {
     "data": {
      "text/plain": [
       "<bound method NDFrame.head of               Adj Close\n",
       "Date                   \n",
       "2014-05-02  1881.140015\n",
       "2014-05-05  1884.660034\n",
       "2014-05-06  1867.719971\n",
       "2014-05-07  1878.209961\n",
       "2014-05-08  1875.630005\n",
       "...                 ...\n",
       "2019-04-25  2926.169922\n",
       "2019-04-26  2939.879883\n",
       "2019-04-29  2943.030029\n",
       "2019-04-30  2945.830078\n",
       "2019-05-01  2923.729980\n",
       "\n",
       "[1258 rows x 1 columns]>"
      ]
     },
     "execution_count": 16,
     "metadata": {},
     "output_type": "execute_result"
    }
   ],
   "source": [
    "# Calculate the daily return using the 'shift()' function\n",
    "daily_return = (sp500_csv - sp500_csv.shift(1)) / sp500_csv.shift(1)\n",
    "sp500_csv.head"
   ]
  },
  {
   "cell_type": "code",
   "execution_count": 20,
   "metadata": {},
   "outputs": [
    {
     "data": {
      "text/html": [
       "<div>\n",
       "<style scoped>\n",
       "    .dataframe tbody tr th:only-of-type {\n",
       "        vertical-align: middle;\n",
       "    }\n",
       "\n",
       "    .dataframe tbody tr th {\n",
       "        vertical-align: top;\n",
       "    }\n",
       "\n",
       "    .dataframe thead th {\n",
       "        text-align: right;\n",
       "    }\n",
       "</style>\n",
       "<table border=\"1\" class=\"dataframe\">\n",
       "  <thead>\n",
       "    <tr style=\"text-align: right;\">\n",
       "      <th></th>\n",
       "      <th>Adj Close</th>\n",
       "    </tr>\n",
       "    <tr>\n",
       "      <th>Date</th>\n",
       "      <th></th>\n",
       "    </tr>\n",
       "  </thead>\n",
       "  <tbody>\n",
       "    <tr>\n",
       "      <th>2014-05-02</th>\n",
       "      <td>NaN</td>\n",
       "    </tr>\n",
       "    <tr>\n",
       "      <th>2014-05-05</th>\n",
       "      <td>0.187122</td>\n",
       "    </tr>\n",
       "    <tr>\n",
       "      <th>2014-05-06</th>\n",
       "      <td>-0.898839</td>\n",
       "    </tr>\n",
       "    <tr>\n",
       "      <th>2014-05-07</th>\n",
       "      <td>0.561647</td>\n",
       "    </tr>\n",
       "    <tr>\n",
       "      <th>2014-05-08</th>\n",
       "      <td>-0.137362</td>\n",
       "    </tr>\n",
       "  </tbody>\n",
       "</table>\n",
       "</div>"
      ],
      "text/plain": [
       "            Adj Close\n",
       "Date                 \n",
       "2014-05-02        NaN\n",
       "2014-05-05   0.187122\n",
       "2014-05-06  -0.898839\n",
       "2014-05-07   0.561647\n",
       "2014-05-08  -0.137362"
      ]
     },
     "execution_count": 20,
     "metadata": {},
     "output_type": "execute_result"
    }
   ],
   "source": [
    "# Calculate the daily return using the 'pct_change()' method % change method\n",
    "daily_returns = sp500_csv.pct_change() * 100\n",
    "daily_returns.head()"
   ]
  },
  {
   "cell_type": "code",
   "execution_count": 21,
   "metadata": {},
   "outputs": [
    {
     "data": {
      "text/plain": [
       "<AxesSubplot:xlabel='Date'>"
      ]
     },
     "execution_count": 21,
     "metadata": {},
     "output_type": "execute_result"
    },
    {
     "data": {
      "image/png": "[encoded data removed]",
      "text/plain": [
       "<Figure size 720x360 with 1 Axes>"
      ]
     },
     "metadata": {
      "needs_background": "light"
     },
     "output_type": "display_data"
    }
   ],
   "source": [
    "# Plot the daily returns of the sp500\n",
    "daily_returns.plot(figsize=(10,5))"
   ]
  },
  {
   "cell_type": "code",
   "execution_count": null,
   "metadata": {},
   "outputs": [],
   "source": []
  }
 ],
 "metadata": {
  "kernelspec": {
   "display_name": "Python 3",
   "language": "python",
   "name": "python3"
  },
  "language_info": {
   "codemirror_mode": {
    "name": "ipython",
    "version": 3
   },
   "file_extension": ".py",
   "mimetype": "text/x-python",
   "name": "python",
   "nbconvert_exporter": "python",
   "pygments_lexer": "ipython3",
   "version": "3.7.11"
  }
 },
 "nbformat": 4,
 "nbformat_minor": 2
}
