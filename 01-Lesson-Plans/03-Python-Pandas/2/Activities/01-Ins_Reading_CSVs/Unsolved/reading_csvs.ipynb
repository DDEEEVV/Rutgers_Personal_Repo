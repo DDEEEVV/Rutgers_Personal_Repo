{
 "cells": [
  {
   "cell_type": "code",
   "execution_count": 1,
   "metadata": {},
   "outputs": [],
   "source": [
    "import pandas as pd\n",
    "from pathlib import Path"
   ]
  },
  {
   "cell_type": "markdown",
   "metadata": {},
   "source": [
    "# Reading a CSV file as a Pandas DataFrame"
   ]
  },
  {
   "cell_type": "markdown",
   "metadata": {},
   "source": [
    "### Step 1: Create a path to the file"
   ]
  },
  {
   "cell_type": "code",
   "execution_count": 20,
   "metadata": {},
   "outputs": [],
   "source": [
    "csvpath = Path(\"../Resources/sales_no_header.csv\")"
   ]
  },
  {
   "cell_type": "markdown",
   "metadata": {},
   "source": [
    "### Step 2: Read the CSV into a DataFrame using Pandas"
   ]
  },
  {
   "cell_type": "code",
   "execution_count": 21,
   "metadata": {},
   "outputs": [
    {
     "data": {
      "text/plain": [
       "<bound method NDFrame.head of         Elwanda White         alyre2036@live.com        352 Lakeshore Mall  \\\n",
       "0      Lyndon Elliott     arrowy1873@outlook.com          1234 Avery Plaza   \n",
       "1      Daisey Sellers     toucan2024@outlook.com         469 Elwood Street   \n",
       "2        Issac Reeves       asarin1958@gmail.com          565 Phelps Field   \n",
       "3     Bradford Kinney     mibound1801@yandex.com  853 Mission Rock Freeway   \n",
       "4        Fermina Cobb    kingfisher2013@live.com          929 Prague Trail   \n",
       "..                ...                        ...                       ...   \n",
       "94         Basil Rios       holloo1814@yahoo.com         605 Sloat Terrace   \n",
       "95      Hipolito Rios  calefacient2049@gmail.com   1248 Fountain Boulevard   \n",
       "96  Clayton Robertson         coner2015@live.com         230 Paper Parkway   \n",
       "97      Tony Chandler     sexillion2061@live.com      118 Flood Plantation   \n",
       "98        Cuc Mcgowan   dispatched1820@gmail.com        87 Louisiana Grove   \n",
       "\n",
       "     9236  5327 0855 9720 7055   84.33  \n",
       "0    1330    3717 498777 19636  879.95  \n",
       "1    7631    3758 579477 35734  907.58  \n",
       "2   81168  4400 0380 4162 1622  545.88  \n",
       "3   41721    3712 263405 60178  517.49  \n",
       "4   16625  2351 7156 8193 8639  889.95  \n",
       "..    ...                  ...     ...  \n",
       "94   8108  5581 7245 8451 9384  937.14  \n",
       "95  37077  2333 0264 5343 2022  645.82  \n",
       "96  57242  2414 3939 6501 2607  128.73  \n",
       "97  70135  5581 8059 1883 1841  820.00  \n",
       "98  70959  2678 4140 5531 3894  764.69  \n",
       "\n",
       "[99 rows x 6 columns]>"
      ]
     },
     "execution_count": 21,
     "metadata": {},
     "output_type": "execute_result"
    }
   ],
   "source": [
    "sales_data_frame = pd.read_csv(csvpath)\n",
    "sales_data_frame.head\n",
    "#shows a preview of first 5 elements in the data\n",
    "#very important to inspect data before working with them"
   ]
  },
  {
   "cell_type": "markdown",
   "metadata": {},
   "source": [
    "- - -"
   ]
  },
  {
   "cell_type": "markdown",
   "metadata": {},
   "source": [
    "# Reading a CSV with no Header"
   ]
  },
  {
   "cell_type": "code",
   "execution_count": 22,
   "metadata": {},
   "outputs": [
    {
     "data": {
      "text/plain": [
       "<bound method NDFrame.head of                     0                          1                         2  \\\n",
       "0       Elwanda White         alyre2036@live.com        352 Lakeshore Mall   \n",
       "1      Lyndon Elliott     arrowy1873@outlook.com          1234 Avery Plaza   \n",
       "2      Daisey Sellers     toucan2024@outlook.com         469 Elwood Street   \n",
       "3        Issac Reeves       asarin1958@gmail.com          565 Phelps Field   \n",
       "4     Bradford Kinney     mibound1801@yandex.com  853 Mission Rock Freeway   \n",
       "..                ...                        ...                       ...   \n",
       "95         Basil Rios       holloo1814@yahoo.com         605 Sloat Terrace   \n",
       "96      Hipolito Rios  calefacient2049@gmail.com   1248 Fountain Boulevard   \n",
       "97  Clayton Robertson         coner2015@live.com         230 Paper Parkway   \n",
       "98      Tony Chandler     sexillion2061@live.com      118 Flood Plantation   \n",
       "99        Cuc Mcgowan   dispatched1820@gmail.com        87 Louisiana Grove   \n",
       "\n",
       "        3                    4       5  \n",
       "0    9236  5327 0855 9720 7055   84.33  \n",
       "1    1330    3717 498777 19636  879.95  \n",
       "2    7631    3758 579477 35734  907.58  \n",
       "3   81168  4400 0380 4162 1622  545.88  \n",
       "4   41721    3712 263405 60178  517.49  \n",
       "..    ...                  ...     ...  \n",
       "95   8108  5581 7245 8451 9384  937.14  \n",
       "96  37077  2333 0264 5343 2022  645.82  \n",
       "97  57242  2414 3939 6501 2607  128.73  \n",
       "98  70135  5581 8059 1883 1841  820.00  \n",
       "99  70959  2678 4140 5531 3894  764.69  \n",
       "\n",
       "[100 rows x 6 columns]>"
      ]
     },
     "execution_count": 22,
     "metadata": {},
     "output_type": "execute_result"
    }
   ],
   "source": [
    "# Without a header in the CSV, Pandas will use the first row as the header\n",
    "sales_data_frame = pd.read_csv(csvpath, header=None)\n",
    "sales_data_frame.head"
   ]
  },
  {
   "cell_type": "code",
   "execution_count": 23,
   "metadata": {},
   "outputs": [
    {
     "data": {
      "text/html": [
       "<div>\n",
       "<style scoped>\n",
       "    .dataframe tbody tr th:only-of-type {\n",
       "        vertical-align: middle;\n",
       "    }\n",
       "\n",
       "    .dataframe tbody tr th {\n",
       "        vertical-align: top;\n",
       "    }\n",
       "\n",
       "    .dataframe thead th {\n",
       "        text-align: right;\n",
       "    }\n",
       "</style>\n",
       "<table border=\"1\" class=\"dataframe\">\n",
       "  <thead>\n",
       "    <tr style=\"text-align: right;\">\n",
       "      <th></th>\n",
       "      <th>0</th>\n",
       "      <th>1</th>\n",
       "      <th>2</th>\n",
       "      <th>3</th>\n",
       "      <th>4</th>\n",
       "      <th>5</th>\n",
       "    </tr>\n",
       "  </thead>\n",
       "  <tbody>\n",
       "    <tr>\n",
       "      <th>0</th>\n",
       "      <td>Elwanda White</td>\n",
       "      <td>alyre2036@live.com</td>\n",
       "      <td>352 Lakeshore Mall</td>\n",
       "      <td>9236</td>\n",
       "      <td>5327 0855 9720 7055</td>\n",
       "      <td>84.33</td>\n",
       "    </tr>\n",
       "    <tr>\n",
       "      <th>1</th>\n",
       "      <td>Lyndon Elliott</td>\n",
       "      <td>arrowy1873@outlook.com</td>\n",
       "      <td>1234 Avery Plaza</td>\n",
       "      <td>1330</td>\n",
       "      <td>3717 498777 19636</td>\n",
       "      <td>879.95</td>\n",
       "    </tr>\n",
       "    <tr>\n",
       "      <th>2</th>\n",
       "      <td>Daisey Sellers</td>\n",
       "      <td>toucan2024@outlook.com</td>\n",
       "      <td>469 Elwood Street</td>\n",
       "      <td>7631</td>\n",
       "      <td>3758 579477 35734</td>\n",
       "      <td>907.58</td>\n",
       "    </tr>\n",
       "    <tr>\n",
       "      <th>3</th>\n",
       "      <td>Issac Reeves</td>\n",
       "      <td>asarin1958@gmail.com</td>\n",
       "      <td>565 Phelps Field</td>\n",
       "      <td>81168</td>\n",
       "      <td>4400 0380 4162 1622</td>\n",
       "      <td>545.88</td>\n",
       "    </tr>\n",
       "    <tr>\n",
       "      <th>4</th>\n",
       "      <td>Bradford Kinney</td>\n",
       "      <td>mibound1801@yandex.com</td>\n",
       "      <td>853 Mission Rock Freeway</td>\n",
       "      <td>41721</td>\n",
       "      <td>3712 263405 60178</td>\n",
       "      <td>517.49</td>\n",
       "    </tr>\n",
       "  </tbody>\n",
       "</table>\n",
       "</div>"
      ],
      "text/plain": [
       "                 0                       1                         2      3  \\\n",
       "0    Elwanda White      alyre2036@live.com        352 Lakeshore Mall   9236   \n",
       "1   Lyndon Elliott  arrowy1873@outlook.com          1234 Avery Plaza   1330   \n",
       "2   Daisey Sellers  toucan2024@outlook.com         469 Elwood Street   7631   \n",
       "3     Issac Reeves    asarin1958@gmail.com          565 Phelps Field  81168   \n",
       "4  Bradford Kinney  mibound1801@yandex.com  853 Mission Rock Freeway  41721   \n",
       "\n",
       "                     4       5  \n",
       "0  5327 0855 9720 7055   84.33  \n",
       "1    3717 498777 19636  879.95  \n",
       "2    3758 579477 35734  907.58  \n",
       "3  4400 0380 4162 1622  545.88  \n",
       "4    3712 263405 60178  517.49  "
      ]
     },
     "execution_count": 23,
     "metadata": {},
     "output_type": "execute_result"
    }
   ],
   "source": [
    "# Read the file without a header\n",
    "sales_data = pd.read_csv(csvpath, header=None)\n",
    "sales_data.head()"
   ]
  },
  {
   "cell_type": "code",
   "execution_count": 24,
   "metadata": {},
   "outputs": [
    {
     "data": {
      "text/html": [
       "<div>\n",
       "<style scoped>\n",
       "    .dataframe tbody tr th:only-of-type {\n",
       "        vertical-align: middle;\n",
       "    }\n",
       "\n",
       "    .dataframe tbody tr th {\n",
       "        vertical-align: top;\n",
       "    }\n",
       "\n",
       "    .dataframe thead th {\n",
       "        text-align: right;\n",
       "    }\n",
       "</style>\n",
       "<table border=\"1\" class=\"dataframe\">\n",
       "  <thead>\n",
       "    <tr style=\"text-align: right;\">\n",
       "      <th></th>\n",
       "      <th>Full Name</th>\n",
       "      <th>Email</th>\n",
       "      <th>Address</th>\n",
       "      <th>Zip Code</th>\n",
       "      <th>Credit Card Number</th>\n",
       "      <th>Sale Price</th>\n",
       "    </tr>\n",
       "  </thead>\n",
       "  <tbody>\n",
       "    <tr>\n",
       "      <th>0</th>\n",
       "      <td>Elwanda White</td>\n",
       "      <td>alyre2036@live.com</td>\n",
       "      <td>352 Lakeshore Mall</td>\n",
       "      <td>9236</td>\n",
       "      <td>5327 0855 9720 7055</td>\n",
       "      <td>84.33</td>\n",
       "    </tr>\n",
       "    <tr>\n",
       "      <th>1</th>\n",
       "      <td>Lyndon Elliott</td>\n",
       "      <td>arrowy1873@outlook.com</td>\n",
       "      <td>1234 Avery Plaza</td>\n",
       "      <td>1330</td>\n",
       "      <td>3717 498777 19636</td>\n",
       "      <td>879.95</td>\n",
       "    </tr>\n",
       "    <tr>\n",
       "      <th>2</th>\n",
       "      <td>Daisey Sellers</td>\n",
       "      <td>toucan2024@outlook.com</td>\n",
       "      <td>469 Elwood Street</td>\n",
       "      <td>7631</td>\n",
       "      <td>3758 579477 35734</td>\n",
       "      <td>907.58</td>\n",
       "    </tr>\n",
       "    <tr>\n",
       "      <th>3</th>\n",
       "      <td>Issac Reeves</td>\n",
       "      <td>asarin1958@gmail.com</td>\n",
       "      <td>565 Phelps Field</td>\n",
       "      <td>81168</td>\n",
       "      <td>4400 0380 4162 1622</td>\n",
       "      <td>545.88</td>\n",
       "    </tr>\n",
       "    <tr>\n",
       "      <th>4</th>\n",
       "      <td>Bradford Kinney</td>\n",
       "      <td>mibound1801@yandex.com</td>\n",
       "      <td>853 Mission Rock Freeway</td>\n",
       "      <td>41721</td>\n",
       "      <td>3712 263405 60178</td>\n",
       "      <td>517.49</td>\n",
       "    </tr>\n",
       "  </tbody>\n",
       "</table>\n",
       "</div>"
      ],
      "text/plain": [
       "         Full Name                   Email                   Address  \\\n",
       "0    Elwanda White      alyre2036@live.com        352 Lakeshore Mall   \n",
       "1   Lyndon Elliott  arrowy1873@outlook.com          1234 Avery Plaza   \n",
       "2   Daisey Sellers  toucan2024@outlook.com         469 Elwood Street   \n",
       "3     Issac Reeves    asarin1958@gmail.com          565 Phelps Field   \n",
       "4  Bradford Kinney  mibound1801@yandex.com  853 Mission Rock Freeway   \n",
       "\n",
       "   Zip Code   Credit Card Number  Sale Price  \n",
       "0      9236  5327 0855 9720 7055       84.33  \n",
       "1      1330    3717 498777 19636      879.95  \n",
       "2      7631    3758 579477 35734      907.58  \n",
       "3     81168  4400 0380 4162 1622      545.88  \n",
       "4     41721    3712 263405 60178      517.49  "
      ]
     },
     "execution_count": 24,
     "metadata": {},
     "output_type": "execute_result"
    }
   ],
   "source": [
    "# Rewrite the column names\n",
    "columns = [\"Full Name\", \"Email\", \"Address\", \"Zip Code\", \"Credit Card Number\", \"Sale Price\"]\n",
    "sales_data_frame.columns = columns\n",
    "sales_data_frame.head()"
   ]
  },
  {
   "cell_type": "code",
   "execution_count": 25,
   "metadata": {},
   "outputs": [
    {
     "data": {
      "text/html": [
       "<div>\n",
       "<style scoped>\n",
       "    .dataframe tbody tr th:only-of-type {\n",
       "        vertical-align: middle;\n",
       "    }\n",
       "\n",
       "    .dataframe tbody tr th {\n",
       "        vertical-align: top;\n",
       "    }\n",
       "\n",
       "    .dataframe thead th {\n",
       "        text-align: right;\n",
       "    }\n",
       "</style>\n",
       "<table border=\"1\" class=\"dataframe\">\n",
       "  <thead>\n",
       "    <tr style=\"text-align: right;\">\n",
       "      <th></th>\n",
       "      <th>Zip Code</th>\n",
       "      <th>Sale Price</th>\n",
       "    </tr>\n",
       "  </thead>\n",
       "  <tbody>\n",
       "    <tr>\n",
       "      <th>count</th>\n",
       "      <td>100.000000</td>\n",
       "      <td>100.000000</td>\n",
       "    </tr>\n",
       "    <tr>\n",
       "      <th>mean</th>\n",
       "      <td>40952.160000</td>\n",
       "      <td>533.007200</td>\n",
       "    </tr>\n",
       "    <tr>\n",
       "      <th>std</th>\n",
       "      <td>30207.118496</td>\n",
       "      <td>275.531072</td>\n",
       "    </tr>\n",
       "    <tr>\n",
       "      <th>min</th>\n",
       "      <td>555.000000</td>\n",
       "      <td>29.720000</td>\n",
       "    </tr>\n",
       "    <tr>\n",
       "      <th>25%</th>\n",
       "      <td>11109.750000</td>\n",
       "      <td>328.507500</td>\n",
       "    </tr>\n",
       "    <tr>\n",
       "      <th>50%</th>\n",
       "      <td>40033.500000</td>\n",
       "      <td>536.110000</td>\n",
       "    </tr>\n",
       "    <tr>\n",
       "      <th>75%</th>\n",
       "      <td>65834.750000</td>\n",
       "      <td>767.885000</td>\n",
       "    </tr>\n",
       "    <tr>\n",
       "      <th>max</th>\n",
       "      <td>99877.000000</td>\n",
       "      <td>998.760000</td>\n",
       "    </tr>\n",
       "  </tbody>\n",
       "</table>\n",
       "</div>"
      ],
      "text/plain": [
       "           Zip Code  Sale Price\n",
       "count    100.000000  100.000000\n",
       "mean   40952.160000  533.007200\n",
       "std    30207.118496  275.531072\n",
       "min      555.000000   29.720000\n",
       "25%    11109.750000  328.507500\n",
       "50%    40033.500000  536.110000\n",
       "75%    65834.750000  767.885000\n",
       "max    99877.000000  998.760000"
      ]
     },
     "execution_count": 25,
     "metadata": {},
     "output_type": "execute_result"
    }
   ],
   "source": [
    "# Generate summary statistics\n",
    "sales_data_frame.describe()"
   ]
  },
  {
   "cell_type": "code",
   "execution_count": null,
   "metadata": {},
   "outputs": [],
   "source": []
  }
 ],
 "metadata": {
  "interpreter": {
   "hash": "4396f389b93e7269692bd3bea4c62813bbe379469bde939b058805f538feec11"
  },
  "kernelspec": {
   "display_name": "dev",
   "language": "python",
   "name": "python3"
  },
  "language_info": {
   "codemirror_mode": {
    "name": "ipython",
    "version": 3
   },
   "file_extension": ".py",
   "mimetype": "text/x-python",
   "name": "python",
   "nbconvert_exporter": "python",
   "pygments_lexer": "ipython3",
   "version": "3.7.11"
  }
 },
 "nbformat": 4,
 "nbformat_minor": 2
}
