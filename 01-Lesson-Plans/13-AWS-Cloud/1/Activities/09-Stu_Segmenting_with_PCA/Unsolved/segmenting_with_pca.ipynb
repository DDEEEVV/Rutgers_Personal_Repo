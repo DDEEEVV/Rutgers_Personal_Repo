{
 "cells": [
  {
   "cell_type": "markdown",
   "metadata": {},
   "source": [
    "# Segmenting Customers Data with PCA\n",
    "\n",
    "One of the world's biggest banks launched a machine learning competition in Kaggle, an online community of data scientists and machine learning practitioners. They want to improve their marketing campaigns by identifying the optimal number of customer segments for their clients. They offer a reward of $5,000 that gained your interest, so you decided to put your unsupervised learning skills into practice to participate in the competition.\n",
    "\n",
    "The bank provided a dataset that consists of customer data that includes ten different features. The data columns were anonymized using generic names to protect customers' privacy, and data values were already normalized.\n",
    "\n",
    "The PCA technique for dimensional reduction has just come to your attention. At this point, you have already segmented the data based on all of the factors, but are wondering if PCA would alter the segmentation results.\n",
    "\n",
    "Using the starter code and the customer data provided, reduce the factors to only two dimensions using PCA, determine the optimal value for k using the PCA DataFrame, and then segment the data by using the K-Means algorithm and the optimal value for k. Once these steps are complete, segment the preprocessed customer DataFrame by using the K-means algorithm and that same value for k, and then compare the segmentation results."
   ]
  },
  {
   "cell_type": "code",
   "execution_count": 40,
   "metadata": {},
   "outputs": [],
   "source": [
    "# Import the modules\n",
    "import pandas as pd\n",
    "import hvplot.pandas\n",
    "from pathlib import Path\n",
    "from sklearn.cluster import KMeans"
   ]
  },
  {
   "cell_type": "markdown",
   "metadata": {},
   "source": [
    "## Read in the CSV file and prepare the Pandas DataFrame"
   ]
  },
  {
   "cell_type": "code",
   "execution_count": 41,
   "metadata": {},
   "outputs": [
    {
     "data": {
      "text/html": [
       "<div>\n",
       "<style scoped>\n",
       "    .dataframe tbody tr th:only-of-type {\n",
       "        vertical-align: middle;\n",
       "    }\n",
       "\n",
       "    .dataframe tbody tr th {\n",
       "        vertical-align: top;\n",
       "    }\n",
       "\n",
       "    .dataframe thead th {\n",
       "        text-align: right;\n",
       "    }\n",
       "</style>\n",
       "<table border=\"1\" class=\"dataframe\">\n",
       "  <thead>\n",
       "    <tr style=\"text-align: right;\">\n",
       "      <th></th>\n",
       "      <th>feature_1</th>\n",
       "      <th>feature_2</th>\n",
       "      <th>feature_3</th>\n",
       "      <th>feature_4</th>\n",
       "      <th>feature_5</th>\n",
       "      <th>feature_6</th>\n",
       "      <th>feature_7</th>\n",
       "      <th>feature_8</th>\n",
       "      <th>feature_9</th>\n",
       "      <th>feature_10</th>\n",
       "    </tr>\n",
       "  </thead>\n",
       "  <tbody>\n",
       "    <tr>\n",
       "      <th>0</th>\n",
       "      <td>1.148534</td>\n",
       "      <td>4.606077</td>\n",
       "      <td>2.699069</td>\n",
       "      <td>-2.661824</td>\n",
       "      <td>1.526433</td>\n",
       "      <td>1.236671</td>\n",
       "      <td>0.211421</td>\n",
       "      <td>1.482896</td>\n",
       "      <td>-4.445627</td>\n",
       "      <td>-1.936831</td>\n",
       "    </tr>\n",
       "    <tr>\n",
       "      <th>1</th>\n",
       "      <td>-1.149410</td>\n",
       "      <td>-1.650549</td>\n",
       "      <td>2.530167</td>\n",
       "      <td>-3.227088</td>\n",
       "      <td>0.572138</td>\n",
       "      <td>4.162600</td>\n",
       "      <td>-0.291679</td>\n",
       "      <td>-1.237575</td>\n",
       "      <td>3.604765</td>\n",
       "      <td>-1.635689</td>\n",
       "    </tr>\n",
       "    <tr>\n",
       "      <th>2</th>\n",
       "      <td>0.332427</td>\n",
       "      <td>-0.887985</td>\n",
       "      <td>-0.309216</td>\n",
       "      <td>0.399891</td>\n",
       "      <td>0.828492</td>\n",
       "      <td>3.641945</td>\n",
       "      <td>-0.916946</td>\n",
       "      <td>-1.978024</td>\n",
       "      <td>1.056772</td>\n",
       "      <td>-1.882747</td>\n",
       "    </tr>\n",
       "    <tr>\n",
       "      <th>3</th>\n",
       "      <td>2.245599</td>\n",
       "      <td>3.826309</td>\n",
       "      <td>0.264039</td>\n",
       "      <td>0.095471</td>\n",
       "      <td>1.984380</td>\n",
       "      <td>0.373991</td>\n",
       "      <td>-0.280279</td>\n",
       "      <td>1.602786</td>\n",
       "      <td>-5.993331</td>\n",
       "      <td>-2.258925</td>\n",
       "    </tr>\n",
       "    <tr>\n",
       "      <th>4</th>\n",
       "      <td>0.705503</td>\n",
       "      <td>-1.312329</td>\n",
       "      <td>0.895406</td>\n",
       "      <td>-0.405408</td>\n",
       "      <td>1.116187</td>\n",
       "      <td>3.699562</td>\n",
       "      <td>-1.427985</td>\n",
       "      <td>-1.494409</td>\n",
       "      <td>1.156908</td>\n",
       "      <td>-1.434964</td>\n",
       "    </tr>\n",
       "  </tbody>\n",
       "</table>\n",
       "</div>"
      ],
      "text/plain": [
       "   feature_1  feature_2  feature_3  feature_4  feature_5  feature_6  \\\n",
       "0   1.148534   4.606077   2.699069  -2.661824   1.526433   1.236671   \n",
       "1  -1.149410  -1.650549   2.530167  -3.227088   0.572138   4.162600   \n",
       "2   0.332427  -0.887985  -0.309216   0.399891   0.828492   3.641945   \n",
       "3   2.245599   3.826309   0.264039   0.095471   1.984380   0.373991   \n",
       "4   0.705503  -1.312329   0.895406  -0.405408   1.116187   3.699562   \n",
       "\n",
       "   feature_7  feature_8  feature_9  feature_10  \n",
       "0   0.211421   1.482896  -4.445627   -1.936831  \n",
       "1  -0.291679  -1.237575   3.604765   -1.635689  \n",
       "2  -0.916946  -1.978024   1.056772   -1.882747  \n",
       "3  -0.280279   1.602786  -5.993331   -2.258925  \n",
       "4  -1.427985  -1.494409   1.156908   -1.434964  "
      ]
     },
     "execution_count": 41,
     "metadata": {},
     "output_type": "execute_result"
    }
   ],
   "source": [
    "# Read the csv file into a pandas DataFrame\n",
    "customers_transformed_df = pd.read_csv(\n",
    "    Path(\"../Resources/customers.csv\")\n",
    ")\n",
    "\n",
    "# Review the DataFrame\n",
    "customers_transformed_df.head()"
   ]
  },
  {
   "cell_type": "markdown",
   "metadata": {},
   "source": [
    "## Part 1: Use PCA to reduce the dimensionality of the transformed customers DataFrame to 2 principal components"
   ]
  },
  {
   "cell_type": "markdown",
   "metadata": {},
   "source": [
    "### Step 1: Import the PCA module from SKLearn"
   ]
  },
  {
   "cell_type": "code",
   "execution_count": 42,
   "metadata": {},
   "outputs": [],
   "source": [
    "# Import the PCA module\n",
    "from sklearn.decomposition import PCA"
   ]
  },
  {
   "cell_type": "markdown",
   "metadata": {},
   "source": [
    "### Step 2: Instantiate the instace of the PCA model declaring the number of principal components as 2"
   ]
  },
  {
   "cell_type": "code",
   "execution_count": 43,
   "metadata": {},
   "outputs": [],
   "source": [
    "# Instantiate the PCA instance and declare the number of PCA variables\n",
    "\n",
    "pca= PCA(n_components=2)"
   ]
  },
  {
   "cell_type": "markdown",
   "metadata": {},
   "source": [
    "### Step 3: Using the `fit_transform` function from PCA, fit the PCA model to the `customers_transformed_df` DataFrame. Review the first 5 rows of list data."
   ]
  },
  {
   "cell_type": "code",
   "execution_count": 44,
   "metadata": {},
   "outputs": [
    {
     "data": {
      "text/plain": [
       "array([[-4.72382358, -0.60489964],\n",
       "       [ 5.85571568, -1.98331135],\n",
       "       [ 2.43063042, -3.15456594],\n",
       "       [-6.96050326, -1.35772617],\n",
       "       [ 2.47746793, -3.29412896]])"
      ]
     },
     "execution_count": 44,
     "metadata": {},
     "output_type": "execute_result"
    }
   ],
   "source": [
    "# Fit the PCA model on the transformed customers DataFrame\n",
    "customers_pca = pca.fit_transform(customers_transformed_df)\n",
    "\n",
    "# Review the first 5 rows of the array of list data\n",
    "customers_pca[:5]"
   ]
  },
  {
   "cell_type": "markdown",
   "metadata": {},
   "source": [
    "### Step 4: Using the `explained_variance_ratio_` function from PCA, calculate the percentage of the total variance that is captured by the two PCA variables.  "
   ]
  },
  {
   "cell_type": "code",
   "execution_count": 45,
   "metadata": {},
   "outputs": [
    {
     "data": {
      "text/plain": [
       "array([0.55083554, 0.30256389])"
      ]
     },
     "execution_count": 45,
     "metadata": {},
     "output_type": "execute_result"
    }
   ],
   "source": [
    "# Calculate the PCA explained variance ratio\n",
    "\n",
    "pca.explained_variance_ratio_"
   ]
  },
  {
   "cell_type": "markdown",
   "metadata": {},
   "source": [
    "**Question:** What is the explained variance ratio captured by the two PCA variables?\n",
    "    \n",
    "**Answer:** The first component explains 55% of the data and the second one explains 30%"
   ]
  },
  {
   "cell_type": "markdown",
   "metadata": {},
   "source": [
    "### Step 5: Using the `customer_pca` data, create a Pandas DataFrame called `customers_pca_df`. The columns of the DataFrame should be called \"PCA1\" and \"PCA2\"."
   ]
  },
  {
   "cell_type": "code",
   "execution_count": 46,
   "metadata": {},
   "outputs": [
    {
     "data": {
      "text/html": [
       "<div>\n",
       "<style scoped>\n",
       "    .dataframe tbody tr th:only-of-type {\n",
       "        vertical-align: middle;\n",
       "    }\n",
       "\n",
       "    .dataframe tbody tr th {\n",
       "        vertical-align: top;\n",
       "    }\n",
       "\n",
       "    .dataframe thead th {\n",
       "        text-align: right;\n",
       "    }\n",
       "</style>\n",
       "<table border=\"1\" class=\"dataframe\">\n",
       "  <thead>\n",
       "    <tr style=\"text-align: right;\">\n",
       "      <th></th>\n",
       "      <th>PCA1</th>\n",
       "      <th>PCA2</th>\n",
       "    </tr>\n",
       "  </thead>\n",
       "  <tbody>\n",
       "    <tr>\n",
       "      <th>0</th>\n",
       "      <td>-4.723824</td>\n",
       "      <td>-0.604900</td>\n",
       "    </tr>\n",
       "    <tr>\n",
       "      <th>1</th>\n",
       "      <td>5.855716</td>\n",
       "      <td>-1.983311</td>\n",
       "    </tr>\n",
       "    <tr>\n",
       "      <th>2</th>\n",
       "      <td>2.430630</td>\n",
       "      <td>-3.154566</td>\n",
       "    </tr>\n",
       "    <tr>\n",
       "      <th>3</th>\n",
       "      <td>-6.960503</td>\n",
       "      <td>-1.357726</td>\n",
       "    </tr>\n",
       "    <tr>\n",
       "      <th>4</th>\n",
       "      <td>2.477468</td>\n",
       "      <td>-3.294129</td>\n",
       "    </tr>\n",
       "    <tr>\n",
       "      <th>...</th>\n",
       "      <td>...</td>\n",
       "      <td>...</td>\n",
       "    </tr>\n",
       "    <tr>\n",
       "      <th>995</th>\n",
       "      <td>-5.043771</td>\n",
       "      <td>0.359059</td>\n",
       "    </tr>\n",
       "    <tr>\n",
       "      <th>996</th>\n",
       "      <td>7.543447</td>\n",
       "      <td>-4.106911</td>\n",
       "    </tr>\n",
       "    <tr>\n",
       "      <th>997</th>\n",
       "      <td>-3.465547</td>\n",
       "      <td>0.338280</td>\n",
       "    </tr>\n",
       "    <tr>\n",
       "      <th>998</th>\n",
       "      <td>10.652567</td>\n",
       "      <td>-1.156630</td>\n",
       "    </tr>\n",
       "    <tr>\n",
       "      <th>999</th>\n",
       "      <td>13.965548</td>\n",
       "      <td>-2.920961</td>\n",
       "    </tr>\n",
       "  </tbody>\n",
       "</table>\n",
       "<p>1000 rows × 2 columns</p>\n",
       "</div>"
      ],
      "text/plain": [
       "          PCA1      PCA2\n",
       "0    -4.723824 -0.604900\n",
       "1     5.855716 -1.983311\n",
       "2     2.430630 -3.154566\n",
       "3    -6.960503 -1.357726\n",
       "4     2.477468 -3.294129\n",
       "..         ...       ...\n",
       "995  -5.043771  0.359059\n",
       "996   7.543447 -4.106911\n",
       "997  -3.465547  0.338280\n",
       "998  10.652567 -1.156630\n",
       "999  13.965548 -2.920961\n",
       "\n",
       "[1000 rows x 2 columns]"
      ]
     },
     "execution_count": 46,
     "metadata": {},
     "output_type": "execute_result"
    }
   ],
   "source": [
    "# Create the PCA DataFrame\n",
    "customers_pca_df = pd.DataFrame(\n",
    "    customers_pca,\n",
    "    columns = [\"PCA1\", \"PCA2\"]\n",
    ")\n",
    "\n",
    "# Review the PCA DataFrame\n",
    "customers_pca_df"
   ]
  },
  {
   "cell_type": "markdown",
   "metadata": {},
   "source": [
    "## Part 2: Using the `customers_pca_df` Dataframe, utilize the elbow method to determine the optimal value of k."
   ]
  },
  {
   "cell_type": "code",
   "execution_count": 47,
   "metadata": {},
   "outputs": [],
   "source": [
    "# Create a a list to store inertia values and the values of k\n",
    "inertia = []\n",
    "k = list(range(1, 11))"
   ]
  },
  {
   "cell_type": "code",
   "execution_count": 48,
   "metadata": {},
   "outputs": [],
   "source": [
    "# Create a for-loop where each value of k is evaluated by using the K-means algorithm\n",
    "# Fit the model by using the service_ratings DataFrame\n",
    "# Append the value of the computed inertia from the `inertia_` attribute of the KMeans model instance\n",
    "for i in k:\n",
    "    k_model = KMeans(n_clusters=i, random_state=1)\n",
    "    k_model.fit(customers_pca_df)\n",
    "    inertia.append(k_model.inertia_)"
   ]
  },
  {
   "cell_type": "code",
   "execution_count": 49,
   "metadata": {},
   "outputs": [
    {
     "data": {
      "text/html": [
       "<div>\n",
       "<style scoped>\n",
       "    .dataframe tbody tr th:only-of-type {\n",
       "        vertical-align: middle;\n",
       "    }\n",
       "\n",
       "    .dataframe tbody tr th {\n",
       "        vertical-align: top;\n",
       "    }\n",
       "\n",
       "    .dataframe thead th {\n",
       "        text-align: right;\n",
       "    }\n",
       "</style>\n",
       "<table border=\"1\" class=\"dataframe\">\n",
       "  <thead>\n",
       "    <tr style=\"text-align: right;\">\n",
       "      <th></th>\n",
       "      <th>k</th>\n",
       "      <th>inertia</th>\n",
       "    </tr>\n",
       "  </thead>\n",
       "  <tbody>\n",
       "    <tr>\n",
       "      <th>0</th>\n",
       "      <td>1</td>\n",
       "      <td>49585.714978</td>\n",
       "    </tr>\n",
       "    <tr>\n",
       "      <th>1</th>\n",
       "      <td>2</td>\n",
       "      <td>23750.955470</td>\n",
       "    </tr>\n",
       "    <tr>\n",
       "      <th>2</th>\n",
       "      <td>3</td>\n",
       "      <td>8773.172935</td>\n",
       "    </tr>\n",
       "    <tr>\n",
       "      <th>3</th>\n",
       "      <td>4</td>\n",
       "      <td>6840.237425</td>\n",
       "    </tr>\n",
       "    <tr>\n",
       "      <th>4</th>\n",
       "      <td>5</td>\n",
       "      <td>5378.897735</td>\n",
       "    </tr>\n",
       "  </tbody>\n",
       "</table>\n",
       "</div>"
      ],
      "text/plain": [
       "   k       inertia\n",
       "0  1  49585.714978\n",
       "1  2  23750.955470\n",
       "2  3   8773.172935\n",
       "3  4   6840.237425\n",
       "4  5   5378.897735"
      ]
     },
     "execution_count": 49,
     "metadata": {},
     "output_type": "execute_result"
    }
   ],
   "source": [
    "# Define a DataFrame to hold the values for k and the corresponding inertia\n",
    "elbow_data = {\n",
    "    \"k\":k,\n",
    "    \"inertia\": inertia\n",
    "}\n",
    "\n",
    "# Create the DataFrame from the elbow data\n",
    "df_elbow = pd.DataFrame(elbow_data)\n",
    "\n",
    "# Review the DataFrame\n",
    "df_elbow.head()"
   ]
  },
  {
   "cell_type": "code",
   "execution_count": 50,
   "metadata": {},
   "outputs": [
    {
     "data": {},
     "metadata": {},
     "output_type": "display_data"
    },
    {
     "data": {
      "application/vnd.holoviews_exec.v0+json": "",
      "text/html": [
       "<div id='1856'>\n",
       "\n",
       "\n",
       "\n",
       "\n",
       "\n",
       "  <div class=\"bk-root\" id=\"8b5b0fbb-17ca-43a7-b8d6-5b2b19b5eb3e\" data-root-id=\"1856\"></div>\n",
       "</div>\n",
       "<script type=\"application/javascript\">(function(root) {\n",
       "  function embed_document(root) {\n",
       "    var docs_json = {\"ee360254-e93f-4baa-a26d-ef63b7e6db35\":{\"defs\":[{\"extends\":null,\"module\":null,\"name\":\"ReactiveHTML1\",\"overrides\":[],\"properties\":[]},{\"extends\":null,\"module\":null,\"name\":\"FlexBox1\",\"overrides\":[],\"properties\":[{\"default\":\"flex-start\",\"kind\":null,\"name\":\"align_content\"},{\"default\":\"flex-start\",\"kind\":null,\"name\":\"align_items\"},{\"default\":\"row\",\"kind\":null,\"name\":\"flex_direction\"},{\"default\":\"wrap\",\"kind\":null,\"name\":\"flex_wrap\"},{\"default\":\"flex-start\",\"kind\":null,\"name\":\"justify_content\"}]},{\"extends\":null,\"module\":null,\"name\":\"GridStack1\",\"overrides\":[],\"properties\":[{\"default\":\"warn\",\"kind\":null,\"name\":\"mode\"},{\"default\":null,\"kind\":null,\"name\":\"ncols\"},{\"default\":null,\"kind\":null,\"name\":\"nrows\"},{\"default\":true,\"kind\":null,\"name\":\"allow_resize\"},{\"default\":true,\"kind\":null,\"name\":\"allow_drag\"},{\"default\":[],\"kind\":null,\"name\":\"state\"}]},{\"extends\":null,\"module\":null,\"name\":\"click1\",\"overrides\":[],\"properties\":[{\"default\":\"\",\"kind\":null,\"name\":\"terminal_output\"},{\"default\":\"\",\"kind\":null,\"name\":\"debug_name\"},{\"default\":0,\"kind\":null,\"name\":\"clears\"}]},{\"extends\":null,\"module\":null,\"name\":\"TemplateActions1\",\"overrides\":[],\"properties\":[{\"default\":0,\"kind\":null,\"name\":\"open_modal\"},{\"default\":0,\"kind\":null,\"name\":\"close_modal\"}]},{\"extends\":null,\"module\":null,\"name\":\"MaterialTemplateActions1\",\"overrides\":[],\"properties\":[{\"default\":0,\"kind\":null,\"name\":\"open_modal\"},{\"default\":0,\"kind\":null,\"name\":\"close_modal\"}]}],\"roots\":{\"references\":[{\"attributes\":{\"overlay\":{\"id\":\"1883\"}},\"id\":\"1881\",\"type\":\"BoxZoomTool\"},{\"attributes\":{},\"id\":\"1868\",\"type\":\"LinearScale\"},{\"attributes\":{},\"id\":\"1866\",\"type\":\"LinearScale\"},{\"attributes\":{\"end\":54263.51982685657,\"reset_end\":54263.51982685657,\"reset_start\":-1870.1383538110645,\"start\":-1870.1383538110645,\"tags\":[[[\"inertia\",\"inertia\",null]]]},\"id\":\"1859\",\"type\":\"Range1d\"},{\"attributes\":{},\"id\":\"1882\",\"type\":\"ResetTool\"},{\"attributes\":{},\"id\":\"1913\",\"type\":\"UnionRenderers\"},{\"attributes\":{\"axis\":{\"id\":\"1874\"},\"coordinates\":null,\"dimension\":1,\"grid_line_color\":null,\"group\":null,\"ticker\":null},\"id\":\"1877\",\"type\":\"Grid\"},{\"attributes\":{\"bottom_units\":\"screen\",\"coordinates\":null,\"fill_alpha\":0.5,\"fill_color\":\"lightgrey\",\"group\":null,\"left_units\":\"screen\",\"level\":\"overlay\",\"line_alpha\":1.0,\"line_color\":\"black\",\"line_dash\":[4,4],\"line_width\":2,\"right_units\":\"screen\",\"syncable\":false,\"top_units\":\"screen\"},\"id\":\"1883\",\"type\":\"BoxAnnotation\"},{\"attributes\":{\"axis_label\":\"k\",\"coordinates\":null,\"formatter\":{\"id\":\"1901\"},\"group\":null,\"major_label_policy\":{\"id\":\"1902\"},\"ticker\":{\"id\":\"1871\"}},\"id\":\"1870\",\"type\":\"LinearAxis\"},{\"attributes\":{\"coordinates\":null,\"group\":null,\"text\":\"Elbow\",\"text_color\":\"black\",\"text_font_size\":\"12pt\"},\"id\":\"1862\",\"type\":\"Title\"},{\"attributes\":{\"data\":{\"inertia\":{\"__ndarray__\":\"9oUa4TY26EC3vmwmvTHXQHpduSKWIsFAVCzoxzy4ukBekvPR5QK1QAQSG5bOy7FAoIhwwDu3rkDW0fWFAOeqQCdloITwAKhAIf7GPlXvpUA=\",\"dtype\":\"float64\",\"order\":\"little\",\"shape\":[10]},\"k\":[1,2,3,4,5,6,7,8,9,10]},\"selected\":{\"id\":\"1892\"},\"selection_policy\":{\"id\":\"1913\"}},\"id\":\"1891\",\"type\":\"ColumnDataSource\"},{\"attributes\":{},\"id\":\"1871\",\"type\":\"BasicTicker\"},{\"attributes\":{\"axis\":{\"id\":\"1870\"},\"coordinates\":null,\"grid_line_color\":null,\"group\":null,\"ticker\":null},\"id\":\"1873\",\"type\":\"Grid\"},{\"attributes\":{\"line_color\":\"#30a2da\",\"line_width\":2,\"x\":{\"field\":\"k\"},\"y\":{\"field\":\"inertia\"}},\"id\":\"1894\",\"type\":\"Line\"},{\"attributes\":{\"margin\":[5,5,5,5],\"name\":\"HSpacer02882\",\"sizing_mode\":\"stretch_width\"},\"id\":\"1857\",\"type\":\"Spacer\"},{\"attributes\":{\"source\":{\"id\":\"1891\"}},\"id\":\"1898\",\"type\":\"CDSView\"},{\"attributes\":{},\"id\":\"1875\",\"type\":\"BasicTicker\"},{\"attributes\":{\"axis_label\":\"inertia\",\"coordinates\":null,\"formatter\":{\"id\":\"1904\"},\"group\":null,\"major_label_policy\":{\"id\":\"1905\"},\"ticker\":{\"id\":\"1875\"}},\"id\":\"1874\",\"type\":\"LinearAxis\"},{\"attributes\":{\"children\":[{\"id\":\"1857\"},{\"id\":\"1861\"},{\"id\":\"1926\"}],\"margin\":[0,0,0,0],\"name\":\"Row02878\",\"tags\":[\"embedded\"]},\"id\":\"1856\",\"type\":\"Row\"},{\"attributes\":{},\"id\":\"1901\",\"type\":\"BasicTickFormatter\"},{\"attributes\":{\"line_alpha\":0.2,\"line_color\":\"#30a2da\",\"line_width\":2,\"x\":{\"field\":\"k\"},\"y\":{\"field\":\"inertia\"}},\"id\":\"1896\",\"type\":\"Line\"},{\"attributes\":{},\"id\":\"1905\",\"type\":\"AllLabels\"},{\"attributes\":{\"coordinates\":null,\"data_source\":{\"id\":\"1891\"},\"glyph\":{\"id\":\"1894\"},\"group\":null,\"hover_glyph\":null,\"muted_glyph\":{\"id\":\"1896\"},\"nonselection_glyph\":{\"id\":\"1895\"},\"selection_glyph\":{\"id\":\"1899\"},\"view\":{\"id\":\"1898\"}},\"id\":\"1897\",\"type\":\"GlyphRenderer\"},{\"attributes\":{},\"id\":\"1902\",\"type\":\"AllLabels\"},{\"attributes\":{},\"id\":\"1904\",\"type\":\"BasicTickFormatter\"},{\"attributes\":{},\"id\":\"1892\",\"type\":\"Selection\"},{\"attributes\":{\"line_color\":\"#30a2da\",\"line_width\":2,\"x\":{\"field\":\"k\"},\"y\":{\"field\":\"inertia\"}},\"id\":\"1899\",\"type\":\"Line\"},{\"attributes\":{\"line_alpha\":0.1,\"line_color\":\"#30a2da\",\"line_width\":2,\"x\":{\"field\":\"k\"},\"y\":{\"field\":\"inertia\"}},\"id\":\"1895\",\"type\":\"Line\"},{\"attributes\":{},\"id\":\"1878\",\"type\":\"SaveTool\"},{\"attributes\":{\"end\":10.0,\"reset_end\":10.0,\"reset_start\":1.0,\"start\":1.0,\"tags\":[[[\"k\",\"k\",null]]]},\"id\":\"1858\",\"type\":\"Range1d\"},{\"attributes\":{\"callback\":null,\"renderers\":[{\"id\":\"1897\"}],\"tags\":[\"hv_created\"],\"tooltips\":[[\"k\",\"@{k}\"],[\"inertia\",\"@{inertia}\"]]},\"id\":\"1860\",\"type\":\"HoverTool\"},{\"attributes\":{\"margin\":[5,5,5,5],\"name\":\"HSpacer02883\",\"sizing_mode\":\"stretch_width\"},\"id\":\"1926\",\"type\":\"Spacer\"},{\"attributes\":{},\"id\":\"1879\",\"type\":\"PanTool\"},{\"attributes\":{\"below\":[{\"id\":\"1870\"}],\"center\":[{\"id\":\"1873\"},{\"id\":\"1877\"}],\"height\":300,\"left\":[{\"id\":\"1874\"}],\"margin\":[5,5,5,5],\"min_border_bottom\":10,\"min_border_left\":10,\"min_border_right\":10,\"min_border_top\":10,\"renderers\":[{\"id\":\"1897\"}],\"sizing_mode\":\"fixed\",\"title\":{\"id\":\"1862\"},\"toolbar\":{\"id\":\"1884\"},\"width\":700,\"x_range\":{\"id\":\"1858\"},\"x_scale\":{\"id\":\"1866\"},\"y_range\":{\"id\":\"1859\"},\"y_scale\":{\"id\":\"1868\"}},\"id\":\"1861\",\"subtype\":\"Figure\",\"type\":\"Plot\"},{\"attributes\":{},\"id\":\"1880\",\"type\":\"WheelZoomTool\"},{\"attributes\":{\"tools\":[{\"id\":\"1860\"},{\"id\":\"1878\"},{\"id\":\"1879\"},{\"id\":\"1880\"},{\"id\":\"1881\"},{\"id\":\"1882\"}]},\"id\":\"1884\",\"type\":\"Toolbar\"}],\"root_ids\":[\"1856\"]},\"title\":\"Bokeh Application\",\"version\":\"2.4.2\"}};\n",
       "    var render_items = [{\"docid\":\"ee360254-e93f-4baa-a26d-ef63b7e6db35\",\"root_ids\":[\"1856\"],\"roots\":{\"1856\":\"8b5b0fbb-17ca-43a7-b8d6-5b2b19b5eb3e\"}}];\n",
       "    root.Bokeh.embed.embed_items_notebook(docs_json, render_items);\n",
       "  }\n",
       "  if (root.Bokeh !== undefined && root.Bokeh.Panel !== undefined) {\n",
       "    embed_document(root);\n",
       "  } else {\n",
       "    var attempts = 0;\n",
       "    var timer = setInterval(function(root) {\n",
       "      if (root.Bokeh !== undefined && root.Bokeh.Panel !== undefined) {\n",
       "        clearInterval(timer);\n",
       "        embed_document(root);\n",
       "      } else if (document.readyState == \"complete\") {\n",
       "        attempts++;\n",
       "        if (attempts > 200) {\n",
       "          clearInterval(timer);\n",
       "          console.log(\"Bokeh: ERROR: Unable to run BokehJS code because BokehJS library is missing\");\n",
       "        }\n",
       "      }\n",
       "    }, 25, root)\n",
       "  }\n",
       "})(window);</script>"
      ],
      "text/plain": [
       ":Curve   [k]   (inertia)"
      ]
     },
     "execution_count": 50,
     "metadata": {
      "application/vnd.holoviews_exec.v0+json": {
       "id": "1856"
      }
     },
     "output_type": "execute_result"
    }
   ],
   "source": [
    "# Plot the DataFrame\n",
    "df_elbow.hvplot.line(\n",
    "    x=\"k\",\n",
    "    y=\"inertia\",\n",
    "    title = \"Elbow\"\n",
    ")"
   ]
  },
  {
   "cell_type": "markdown",
   "metadata": {},
   "source": [
    "## Part 3: Segment the `customers_pca_df` DataFrame using the K-means algorithm."
   ]
  },
  {
   "cell_type": "code",
   "execution_count": 51,
   "metadata": {},
   "outputs": [
    {
     "data": {
      "text/html": [
       "<div>\n",
       "<style scoped>\n",
       "    .dataframe tbody tr th:only-of-type {\n",
       "        vertical-align: middle;\n",
       "    }\n",
       "\n",
       "    .dataframe tbody tr th {\n",
       "        vertical-align: top;\n",
       "    }\n",
       "\n",
       "    .dataframe thead th {\n",
       "        text-align: right;\n",
       "    }\n",
       "</style>\n",
       "<table border=\"1\" class=\"dataframe\">\n",
       "  <thead>\n",
       "    <tr style=\"text-align: right;\">\n",
       "      <th></th>\n",
       "      <th>PCA1</th>\n",
       "      <th>PCA2</th>\n",
       "      <th>Customer_Segments</th>\n",
       "    </tr>\n",
       "  </thead>\n",
       "  <tbody>\n",
       "    <tr>\n",
       "      <th>0</th>\n",
       "      <td>-4.723824</td>\n",
       "      <td>-0.604900</td>\n",
       "      <td>1</td>\n",
       "    </tr>\n",
       "    <tr>\n",
       "      <th>1</th>\n",
       "      <td>5.855716</td>\n",
       "      <td>-1.983311</td>\n",
       "      <td>0</td>\n",
       "    </tr>\n",
       "    <tr>\n",
       "      <th>2</th>\n",
       "      <td>2.430630</td>\n",
       "      <td>-3.154566</td>\n",
       "      <td>0</td>\n",
       "    </tr>\n",
       "    <tr>\n",
       "      <th>3</th>\n",
       "      <td>-6.960503</td>\n",
       "      <td>-1.357726</td>\n",
       "      <td>1</td>\n",
       "    </tr>\n",
       "    <tr>\n",
       "      <th>4</th>\n",
       "      <td>2.477468</td>\n",
       "      <td>-3.294129</td>\n",
       "      <td>0</td>\n",
       "    </tr>\n",
       "    <tr>\n",
       "      <th>...</th>\n",
       "      <td>...</td>\n",
       "      <td>...</td>\n",
       "      <td>...</td>\n",
       "    </tr>\n",
       "    <tr>\n",
       "      <th>995</th>\n",
       "      <td>-5.043771</td>\n",
       "      <td>0.359059</td>\n",
       "      <td>1</td>\n",
       "    </tr>\n",
       "    <tr>\n",
       "      <th>996</th>\n",
       "      <td>7.543447</td>\n",
       "      <td>-4.106911</td>\n",
       "      <td>0</td>\n",
       "    </tr>\n",
       "    <tr>\n",
       "      <th>997</th>\n",
       "      <td>-3.465547</td>\n",
       "      <td>0.338280</td>\n",
       "      <td>1</td>\n",
       "    </tr>\n",
       "    <tr>\n",
       "      <th>998</th>\n",
       "      <td>10.652567</td>\n",
       "      <td>-1.156630</td>\n",
       "      <td>0</td>\n",
       "    </tr>\n",
       "    <tr>\n",
       "      <th>999</th>\n",
       "      <td>13.965548</td>\n",
       "      <td>-2.920961</td>\n",
       "      <td>0</td>\n",
       "    </tr>\n",
       "  </tbody>\n",
       "</table>\n",
       "<p>1000 rows × 3 columns</p>\n",
       "</div>"
      ],
      "text/plain": [
       "          PCA1      PCA2  Customer_Segments\n",
       "0    -4.723824 -0.604900                  1\n",
       "1     5.855716 -1.983311                  0\n",
       "2     2.430630 -3.154566                  0\n",
       "3    -6.960503 -1.357726                  1\n",
       "4     2.477468 -3.294129                  0\n",
       "..         ...       ...                ...\n",
       "995  -5.043771  0.359059                  1\n",
       "996   7.543447 -4.106911                  0\n",
       "997  -3.465547  0.338280                  1\n",
       "998  10.652567 -1.156630                  0\n",
       "999  13.965548 -2.920961                  0\n",
       "\n",
       "[1000 rows x 3 columns]"
      ]
     },
     "execution_count": 51,
     "metadata": {},
     "output_type": "execute_result"
    }
   ],
   "source": [
    "# Define the model Kmeans model by using the optimal value of k for the number of clusters.\n",
    "model = KMeans(n_clusters=3, random_state=0)\n",
    "\n",
    "# Fit the model\n",
    "model.fit(customers_pca_df)\n",
    "\n",
    "# Make predictions\n",
    "k_3 = model.predict(customers_pca_df)\n",
    "\n",
    "# Create a copy of the customers_pca_df DataFrame\n",
    "customers_pca_predictions = customers_pca_df.copy()\n",
    "\n",
    "# Add a class column with the labels\n",
    "customers_pca_predictions[\"Customer_Segments\"] = k_3\n",
    "customers_pca_predictions"
   ]
  },
  {
   "cell_type": "code",
   "execution_count": 59,
   "metadata": {},
   "outputs": [
    {
     "data": {},
     "metadata": {},
     "output_type": "display_data"
    },
    {
     "data": {
      "application/vnd.holoviews_exec.v0+json": "",
      "text/html": [
       "<div id='2408'>\n",
       "\n",
       "\n",
       "\n",
       "\n",
       "\n",
       "  <div class=\"bk-root\" id=\"dd53830f-9204-4bdf-be6b-8d2034700efc\" data-root-id=\"2408\"></div>\n",
       "</div>\n",
       "<script type=\"application/javascript\">(function(root) {\n",
       "  function embed_document(root) {\n",
       "    var docs_json = {\"d1cefc40-1b88-4f9d-b6b9-ecb302579b47\":{\"defs\":[{\"extends\":null,\"module\":null,\"name\":\"ReactiveHTML1\",\"overrides\":[],\"properties\":[]},{\"extends\":null,\"module\":null,\"name\":\"FlexBox1\",\"overrides\":[],\"properties\":[{\"default\":\"flex-start\",\"kind\":null,\"name\":\"align_content\"},{\"default\":\"flex-start\",\"kind\":null,\"name\":\"align_items\"},{\"default\":\"row\",\"kind\":null,\"name\":\"flex_direction\"},{\"default\":\"wrap\",\"kind\":null,\"name\":\"flex_wrap\"},{\"default\":\"flex-start\",\"kind\":null,\"name\":\"justify_content\"}]},{\"extends\":null,\"module\":null,\"name\":\"GridStack1\",\"overrides\":[],\"properties\":[{\"default\":\"warn\",\"kind\":null,\"name\":\"mode\"},{\"default\":null,\"kind\":null,\"name\":\"ncols\"},{\"default\":null,\"kind\":null,\"name\":\"nrows\"},{\"default\":true,\"kind\":null,\"name\":\"allow_resize\"},{\"default\":true,\"kind\":null,\"name\":\"allow_drag\"},{\"default\":[],\"kind\":null,\"name\":\"state\"}]},{\"extends\":null,\"module\":null,\"name\":\"click1\",\"overrides\":[],\"properties\":[{\"default\":\"\",\"kind\":null,\"name\":\"terminal_output\"},{\"default\":\"\",\"kind\":null,\"name\":\"debug_name\"},{\"default\":0,\"kind\":null,\"name\":\"clears\"}]},{\"extends\":null,\"module\":null,\"name\":\"TemplateActions1\",\"overrides\":[],\"properties\":[{\"default\":0,\"kind\":null,\"name\":\"open_modal\"},{\"default\":0,\"kind\":null,\"name\":\"close_modal\"}]},{\"extends\":null,\"module\":null,\"name\":\"MaterialTemplateActions1\",\"overrides\":[],\"properties\":[{\"default\":0,\"kind\":null,\"name\":\"open_modal\"},{\"default\":0,\"kind\":null,\"name\":\"close_modal\"}]}],\"roots\":{\"references\":[{\"attributes\":{\"click_policy\":\"mute\",\"coordinates\":null,\"group\":null,\"items\":[{\"id\":\"2470\"},{\"id\":\"2492\"},{\"id\":\"2516\"}],\"location\":[0,0],\"title\":\"Customer_Segments\"},\"id\":\"2469\",\"type\":\"Legend\"},{\"attributes\":{\"source\":{\"id\":\"2451\"}},\"id\":\"2458\",\"type\":\"CDSView\"},{\"attributes\":{\"source\":{\"id\":\"2472\"}},\"id\":\"2479\",\"type\":\"CDSView\"},{\"attributes\":{\"fill_alpha\":{\"value\":0.2},\"fill_color\":{\"value\":\"#e5ae38\"},\"hatch_alpha\":{\"value\":0.2},\"hatch_color\":{\"value\":\"#e5ae38\"},\"line_alpha\":{\"value\":0.2},\"line_color\":{\"value\":\"#e5ae38\"},\"size\":{\"value\":5.477225575051661},\"x\":{\"field\":\"PCA1\"},\"y\":{\"field\":\"PCA2\"}},\"id\":\"2499\",\"type\":\"Scatter\"},{\"attributes\":{},\"id\":\"2432\",\"type\":\"SaveTool\"},{\"attributes\":{},\"id\":\"2452\",\"type\":\"Selection\"},{\"attributes\":{\"coordinates\":null,\"data_source\":{\"id\":\"2494\"},\"glyph\":{\"id\":\"2497\"},\"group\":null,\"hover_glyph\":null,\"muted_glyph\":{\"id\":\"2499\"},\"nonselection_glyph\":{\"id\":\"2498\"},\"selection_glyph\":{\"id\":\"2517\"},\"view\":{\"id\":\"2501\"}},\"id\":\"2500\",\"type\":\"GlyphRenderer\"},{\"attributes\":{\"children\":[{\"id\":\"2409\"},{\"id\":\"2415\"},{\"id\":\"2644\"}],\"margin\":[0,0,0,0],\"name\":\"Row03895\",\"tags\":[\"embedded\"]},\"id\":\"2408\",\"type\":\"Row\"},{\"attributes\":{\"fill_alpha\":{\"value\":0.2},\"fill_color\":{\"value\":\"#fc4f30\"},\"hatch_alpha\":{\"value\":0.2},\"hatch_color\":{\"value\":\"#fc4f30\"},\"line_alpha\":{\"value\":0.2},\"line_color\":{\"value\":\"#fc4f30\"},\"size\":{\"value\":5.477225575051661},\"x\":{\"field\":\"PCA1\"},\"y\":{\"field\":\"PCA2\"}},\"id\":\"2477\",\"type\":\"Scatter\"},{\"attributes\":{},\"id\":\"2433\",\"type\":\"PanTool\"},{\"attributes\":{\"margin\":[5,5,5,5],\"name\":\"HSpacer03900\",\"sizing_mode\":\"stretch_width\"},\"id\":\"2644\",\"type\":\"Spacer\"},{\"attributes\":{\"fill_color\":{\"value\":\"#fc4f30\"},\"hatch_color\":{\"value\":\"#fc4f30\"},\"line_color\":{\"value\":\"#fc4f30\"},\"size\":{\"value\":5.477225575051661},\"x\":{\"field\":\"PCA1\"},\"y\":{\"field\":\"PCA2\"}},\"id\":\"2475\",\"type\":\"Scatter\"},{\"attributes\":{},\"id\":\"2434\",\"type\":\"WheelZoomTool\"},{\"attributes\":{},\"id\":\"2489\",\"type\":\"UnionRenderers\"},{\"attributes\":{},\"id\":\"2513\",\"type\":\"UnionRenderers\"},{\"attributes\":{},\"id\":\"2420\",\"type\":\"LinearScale\"},{\"attributes\":{\"tools\":[{\"id\":\"2412\"},{\"id\":\"2432\"},{\"id\":\"2433\"},{\"id\":\"2434\"},{\"id\":\"2435\"},{\"id\":\"2436\"}]},\"id\":\"2438\",\"type\":\"Toolbar\"},{\"attributes\":{\"coordinates\":null,\"data_source\":{\"id\":\"2472\"},\"glyph\":{\"id\":\"2475\"},\"group\":null,\"hover_glyph\":null,\"muted_glyph\":{\"id\":\"2477\"},\"nonselection_glyph\":{\"id\":\"2476\"},\"selection_glyph\":{\"id\":\"2493\"},\"view\":{\"id\":\"2479\"}},\"id\":\"2478\",\"type\":\"GlyphRenderer\"},{\"attributes\":{\"margin\":[5,5,5,5],\"name\":\"HSpacer03899\",\"sizing_mode\":\"stretch_width\"},\"id\":\"2409\",\"type\":\"Spacer\"},{\"attributes\":{\"source\":{\"id\":\"2494\"}},\"id\":\"2501\",\"type\":\"CDSView\"},{\"attributes\":{\"overlay\":{\"id\":\"2437\"}},\"id\":\"2435\",\"type\":\"BoxZoomTool\"},{\"attributes\":{},\"id\":\"2446\",\"type\":\"BasicTickFormatter\"},{\"attributes\":{},\"id\":\"2449\",\"type\":\"BasicTickFormatter\"},{\"attributes\":{\"label\":{\"value\":\"2\"},\"renderers\":[{\"id\":\"2500\"}]},\"id\":\"2516\",\"type\":\"LegendItem\"},{\"attributes\":{},\"id\":\"2422\",\"type\":\"LinearScale\"},{\"attributes\":{\"coordinates\":null,\"data_source\":{\"id\":\"2451\"},\"glyph\":{\"id\":\"2454\"},\"group\":null,\"hover_glyph\":null,\"muted_glyph\":{\"id\":\"2456\"},\"nonselection_glyph\":{\"id\":\"2455\"},\"selection_glyph\":{\"id\":\"2471\"},\"view\":{\"id\":\"2458\"}},\"id\":\"2457\",\"type\":\"GlyphRenderer\"},{\"attributes\":{\"label\":{\"value\":\"0\"},\"renderers\":[{\"id\":\"2457\"}]},\"id\":\"2470\",\"type\":\"LegendItem\"},{\"attributes\":{\"angle\":{\"value\":0.0},\"fill_alpha\":{\"value\":1.0},\"fill_color\":{\"value\":\"#e5ae38\"},\"hatch_alpha\":{\"value\":1.0},\"hatch_color\":{\"value\":\"#e5ae38\"},\"hatch_scale\":{\"value\":12.0},\"hatch_weight\":{\"value\":1.0},\"line_alpha\":{\"value\":1.0},\"line_cap\":{\"value\":\"butt\"},\"line_color\":{\"value\":\"#e5ae38\"},\"line_dash\":{\"value\":[]},\"line_dash_offset\":{\"value\":0},\"line_join\":{\"value\":\"bevel\"},\"line_width\":{\"value\":1},\"marker\":{\"value\":\"circle\"},\"size\":{\"value\":5.477225575051661},\"x\":{\"field\":\"PCA1\"},\"y\":{\"field\":\"PCA2\"}},\"id\":\"2517\",\"type\":\"Scatter\"},{\"attributes\":{},\"id\":\"2473\",\"type\":\"Selection\"},{\"attributes\":{},\"id\":\"2436\",\"type\":\"ResetTool\"},{\"attributes\":{},\"id\":\"2495\",\"type\":\"Selection\"},{\"attributes\":{\"fill_alpha\":{\"value\":0.1},\"fill_color\":{\"value\":\"#e5ae38\"},\"hatch_alpha\":{\"value\":0.1},\"hatch_color\":{\"value\":\"#e5ae38\"},\"line_alpha\":{\"value\":0.1},\"line_color\":{\"value\":\"#e5ae38\"},\"size\":{\"value\":5.477225575051661},\"x\":{\"field\":\"PCA1\"},\"y\":{\"field\":\"PCA2\"}},\"id\":\"2498\",\"type\":\"Scatter\"},{\"attributes\":{},\"id\":\"2425\",\"type\":\"BasicTicker\"},{\"attributes\":{\"coordinates\":null,\"group\":null,\"text_color\":\"black\",\"text_font_size\":\"12pt\"},\"id\":\"2416\",\"type\":\"Title\"},{\"attributes\":{\"fill_alpha\":{\"value\":0.1},\"fill_color\":{\"value\":\"#fc4f30\"},\"hatch_alpha\":{\"value\":0.1},\"hatch_color\":{\"value\":\"#fc4f30\"},\"line_alpha\":{\"value\":0.1},\"line_color\":{\"value\":\"#fc4f30\"},\"size\":{\"value\":5.477225575051661},\"x\":{\"field\":\"PCA1\"},\"y\":{\"field\":\"PCA2\"}},\"id\":\"2476\",\"type\":\"Scatter\"},{\"attributes\":{\"bottom_units\":\"screen\",\"coordinates\":null,\"fill_alpha\":0.5,\"fill_color\":\"lightgrey\",\"group\":null,\"left_units\":\"screen\",\"level\":\"overlay\",\"line_alpha\":1.0,\"line_color\":\"black\",\"line_dash\":[4,4],\"line_width\":2,\"right_units\":\"screen\",\"syncable\":false,\"top_units\":\"screen\"},\"id\":\"2437\",\"type\":\"BoxAnnotation\"},{\"attributes\":{\"axis\":{\"id\":\"2428\"},\"coordinates\":null,\"dimension\":1,\"grid_line_color\":null,\"group\":null,\"ticker\":null},\"id\":\"2431\",\"type\":\"Grid\"},{\"attributes\":{\"axis_label\":\"PCA1\",\"coordinates\":null,\"formatter\":{\"id\":\"2446\"},\"group\":null,\"major_label_policy\":{\"id\":\"2447\"},\"ticker\":{\"id\":\"2425\"}},\"id\":\"2424\",\"type\":\"LinearAxis\"},{\"attributes\":{\"label\":{\"value\":\"1\"},\"renderers\":[{\"id\":\"2478\"}]},\"id\":\"2492\",\"type\":\"LegendItem\"},{\"attributes\":{\"angle\":{\"value\":0.0},\"fill_alpha\":{\"value\":1.0},\"fill_color\":{\"value\":\"#fc4f30\"},\"hatch_alpha\":{\"value\":1.0},\"hatch_color\":{\"value\":\"#fc4f30\"},\"hatch_scale\":{\"value\":12.0},\"hatch_weight\":{\"value\":1.0},\"line_alpha\":{\"value\":1.0},\"line_cap\":{\"value\":\"butt\"},\"line_color\":{\"value\":\"#fc4f30\"},\"line_dash\":{\"value\":[]},\"line_dash_offset\":{\"value\":0},\"line_join\":{\"value\":\"bevel\"},\"line_width\":{\"value\":1},\"marker\":{\"value\":\"circle\"},\"size\":{\"value\":5.477225575051661},\"x\":{\"field\":\"PCA1\"},\"y\":{\"field\":\"PCA2\"}},\"id\":\"2493\",\"type\":\"Scatter\"},{\"attributes\":{\"end\":17.87442837663146,\"reset_end\":17.87442837663146,\"reset_start\":-9.739914418975093,\"start\":-9.739914418975093,\"tags\":[[[\"PCA2\",\"PCA2\",null]]]},\"id\":\"2411\",\"type\":\"Range1d\"},{\"attributes\":{\"axis\":{\"id\":\"2424\"},\"coordinates\":null,\"grid_line_color\":null,\"group\":null,\"ticker\":null},\"id\":\"2427\",\"type\":\"Grid\"},{\"attributes\":{\"data\":{\"Customer_Segments\":[2,2,2,2,2,2,2,2,2,2,2,2,2,2,2,2,2,2,2,2,2,2,2,2,2,2,2,2,2,2,2,2,2,2,2,2,2,2,2,2,2,2,2,2,2,2,2,2,2,2,2,2,2,2,2,2,2,2,2,2,2,2,2,2,2,2,2,2,2,2,2,2,2,2,2,2,2,2,2,2,2,2,2,2,2,2,2,2,2,2,2,2,2,2,2,2,2,2,2,2,2,2,2,2,2,2,2,2,2,2,2,2,2,2,2,2,2,2,2,2,2,2,2,2,2,2,2,2,2,2,2,2,2,2,2,2,2,2,2,2,2,2,2,2,2,2,2,2,2,2,2,2,2,2,2,2,2,2,2,2,2,2,2,2,2,2,2,2,2,2,2,2,2,2,2,2,2,2,2,2,2,2,2,2,2,2,2,2,2,2,2,2,2,2,2,2,2],\"PCA1\":{\"__ndarray__\":\"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\",\"dtype\":\"float64\",\"order\":\"little\",\"shape\":[197]},\"PCA2\":{\"__ndarray__\":\"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\",\"dtype\":\"float64\",\"order\":\"little\",\"shape\":[197]}},\"selected\":{\"id\":\"2495\"},\"selection_policy\":{\"id\":\"2513\"}},\"id\":\"2494\",\"type\":\"ColumnDataSource\"},{\"attributes\":{},\"id\":\"2466\",\"type\":\"UnionRenderers\"},{\"attributes\":{\"data\":{\"Customer_Segments\":[0,0,0,0,0,0,0,0,0,0,0,0,0,0,0,0,0,0,0,0,0,0,0,0,0,0,0,0,0,0,0,0,0,0,0,0,0,0,0,0,0,0,0,0,0,0,0,0,0,0,0,0,0,0,0,0,0,0,0,0,0,0,0,0,0,0,0,0,0,0,0,0,0,0,0,0,0,0,0,0,0,0,0,0,0,0,0,0,0,0,0,0,0,0,0,0,0,0,0,0,0,0,0,0,0,0,0,0,0,0,0,0,0,0,0,0,0,0,0,0,0,0,0,0,0,0,0,0,0,0,0,0,0,0,0,0,0,0,0,0,0,0,0,0,0,0,0,0,0,0,0,0,0,0,0,0,0,0,0,0,0,0,0,0,0,0,0,0,0,0,0,0,0,0,0,0,0,0,0,0,0,0,0,0,0,0,0,0,0,0,0,0,0,0,0,0,0,0,0,0,0,0,0,0,0,0,0,0,0,0,0,0,0,0,0,0,0,0,0,0,0,0,0,0,0,0,0,0,0,0,0,0,0,0,0,0,0,0,0,0,0,0,0,0,0,0,0,0,0,0,0,0,0,0,0,0,0,0,0,0,0,0,0,0,0,0,0,0,0,0,0,0,0,0,0,0,0,0,0,0,0,0,0,0,0,0,0,0,0,0,0,0,0,0],\"PCA1\":{\"__ndarray__\":\"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\",\"dtype\":\"float64\",\"order\":\"little\",\"shape\":[294]},\"PCA2\":{\"__ndarray__\":\"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\",\"dtype\":\"float64\",\"order\":\"little\",\"shape\":[294]}},\"selected\":{\"id\":\"2452\"},\"selection_policy\":{\"id\":\"2466\"}},\"id\":\"2451\",\"type\":\"ColumnDataSource\"},{\"attributes\":{\"callback\":null,\"renderers\":[{\"id\":\"2457\"},{\"id\":\"2478\"},{\"id\":\"2500\"}],\"tags\":[\"hv_created\"],\"tooltips\":[[\"Customer_Segments\",\"@{Customer_Segments}\"],[\"PCA1\",\"@{PCA1}\"],[\"PCA2\",\"@{PCA2}\"]]},\"id\":\"2412\",\"type\":\"HoverTool\"},{\"attributes\":{},\"id\":\"2429\",\"type\":\"BasicTicker\"},{\"attributes\":{},\"id\":\"2447\",\"type\":\"AllLabels\"},{\"attributes\":{\"axis_label\":\"PCA2\",\"coordinates\":null,\"formatter\":{\"id\":\"2449\"},\"group\":null,\"major_label_policy\":{\"id\":\"2450\"},\"ticker\":{\"id\":\"2429\"}},\"id\":\"2428\",\"type\":\"LinearAxis\"},{\"attributes\":{\"angle\":{\"value\":0.0},\"fill_alpha\":{\"value\":1.0},\"fill_color\":{\"value\":\"#30a2da\"},\"hatch_alpha\":{\"value\":1.0},\"hatch_color\":{\"value\":\"#30a2da\"},\"hatch_scale\":{\"value\":12.0},\"hatch_weight\":{\"value\":1.0},\"line_alpha\":{\"value\":1.0},\"line_cap\":{\"value\":\"butt\"},\"line_color\":{\"value\":\"#30a2da\"},\"line_dash\":{\"value\":[]},\"line_dash_offset\":{\"value\":0},\"line_join\":{\"value\":\"bevel\"},\"line_width\":{\"value\":1},\"marker\":{\"value\":\"circle\"},\"size\":{\"value\":5.477225575051661},\"x\":{\"field\":\"PCA1\"},\"y\":{\"field\":\"PCA2\"}},\"id\":\"2471\",\"type\":\"Scatter\"},{\"attributes\":{\"fill_alpha\":{\"value\":0.2},\"fill_color\":{\"value\":\"#30a2da\"},\"hatch_alpha\":{\"value\":0.2},\"hatch_color\":{\"value\":\"#30a2da\"},\"line_alpha\":{\"value\":0.2},\"line_color\":{\"value\":\"#30a2da\"},\"size\":{\"value\":5.477225575051661},\"x\":{\"field\":\"PCA1\"},\"y\":{\"field\":\"PCA2\"}},\"id\":\"2456\",\"type\":\"Scatter\"},{\"attributes\":{},\"id\":\"2450\",\"type\":\"AllLabels\"},{\"attributes\":{\"end\":16.086605552352967,\"reset_end\":16.086605552352967,\"reset_start\":-13.081378392319548,\"start\":-13.081378392319548,\"tags\":[[[\"PCA1\",\"PCA1\",null]]]},\"id\":\"2410\",\"type\":\"Range1d\"},{\"attributes\":{\"below\":[{\"id\":\"2424\"}],\"center\":[{\"id\":\"2427\"},{\"id\":\"2431\"}],\"height\":300,\"left\":[{\"id\":\"2428\"}],\"margin\":[5,5,5,5],\"min_border_bottom\":10,\"min_border_left\":10,\"min_border_right\":10,\"min_border_top\":10,\"renderers\":[{\"id\":\"2457\"},{\"id\":\"2478\"},{\"id\":\"2500\"}],\"right\":[{\"id\":\"2469\"}],\"sizing_mode\":\"fixed\",\"title\":{\"id\":\"2416\"},\"toolbar\":{\"id\":\"2438\"},\"width\":700,\"x_range\":{\"id\":\"2410\"},\"x_scale\":{\"id\":\"2420\"},\"y_range\":{\"id\":\"2411\"},\"y_scale\":{\"id\":\"2422\"}},\"id\":\"2415\",\"subtype\":\"Figure\",\"type\":\"Plot\"},{\"attributes\":{\"fill_alpha\":{\"value\":0.1},\"fill_color\":{\"value\":\"#30a2da\"},\"hatch_alpha\":{\"value\":0.1},\"hatch_color\":{\"value\":\"#30a2da\"},\"line_alpha\":{\"value\":0.1},\"line_color\":{\"value\":\"#30a2da\"},\"size\":{\"value\":5.477225575051661},\"x\":{\"field\":\"PCA1\"},\"y\":{\"field\":\"PCA2\"}},\"id\":\"2455\",\"type\":\"Scatter\"},{\"attributes\":{\"fill_color\":{\"value\":\"#e5ae38\"},\"hatch_color\":{\"value\":\"#e5ae38\"},\"line_color\":{\"value\":\"#e5ae38\"},\"size\":{\"value\":5.477225575051661},\"x\":{\"field\":\"PCA1\"},\"y\":{\"field\":\"PCA2\"}},\"id\":\"2497\",\"type\":\"Scatter\"},{\"attributes\":{\"data\":{\"Customer_Segments\":[1,1,1,1,1,1,1,1,1,1,1,1,1,1,1,1,1,1,1,1,1,1,1,1,1,1,1,1,1,1,1,1,1,1,1,1,1,1,1,1,1,1,1,1,1,1,1,1,1,1,1,1,1,1,1,1,1,1,1,1,1,1,1,1,1,1,1,1,1,1,1,1,1,1,1,1,1,1,1,1,1,1,1,1,1,1,1,1,1,1,1,1,1,1,1,1,1,1,1,1,1,1,1,1,1,1,1,1,1,1,1,1,1,1,1,1,1,1,1,1,1,1,1,1,1,1,1,1,1,1,1,1,1,1,1,1,1,1,1,1,1,1,1,1,1,1,1,1,1,1,1,1,1,1,1,1,1,1,1,1,1,1,1,1,1,1,1,1,1,1,1,1,1,1,1,1,1,1,1,1,1,1,1,1,1,1,1,1,1,1,1,1,1,1,1,1,1,1,1,1,1,1,1,1,1,1,1,1,1,1,1,1,1,1,1,1,1,1,1,1,1,1,1,1,1,1,1,1,1,1,1,1,1,1,1,1,1,1,1,1,1,1,1,1,1,1,1,1,1,1,1,1,1,1,1,1,1,1,1,1,1,1,1,1,1,1,1,1,1,1,1,1,1,1,1,1,1,1,1,1,1,1,1,1,1,1,1,1,1,1,1,1,1,1,1,1,1,1,1,1,1,1,1,1,1,1,1,1,1,1,1,1,1,1,1,1,1,1,1,1,1,1,1,1,1,1,1,1,1,1,1,1,1,1,1,1,1,1,1,1,1,1,1,1,1,1,1,1,1,1,1,1,1,1,1,1,1,1,1,1,1,1,1,1,1,1,1,1,1,1,1,1,1,1,1,1,1,1,1,1,1,1,1,1,1,1,1,1,1,1,1,1,1,1,1,1,1,1,1,1,1,1,1,1,1,1,1,1,1,1,1,1,1,1,1,1,1,1,1,1,1,1,1,1,1,1,1,1,1,1,1,1,1,1,1,1,1,1,1,1,1,1,1,1,1,1,1,1,1,1,1,1,1,1,1,1,1,1,1,1,1,1,1,1,1,1,1,1,1,1,1,1,1,1,1,1,1,1,1,1,1,1,1,1,1,1,1,1,1,1,1,1,1,1,1,1,1,1,1,1,1,1,1,1,1,1,1,1,1],\"PCA1\":{\"__ndarray__\":\"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\",\"dtype\":\"float64\",\"order\":\"little\",\"shape\":[509]},\"PCA2\":{\"__ndarray__\":\"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\",\"dtype\":\"float64\",\"order\":\"little\",\"shape\":[509]}},\"selected\":{\"id\":\"2473\"},\"selection_policy\":{\"id\":\"2489\"}},\"id\":\"2472\",\"type\":\"ColumnDataSource\"},{\"attributes\":{\"fill_color\":{\"value\":\"#30a2da\"},\"hatch_color\":{\"value\":\"#30a2da\"},\"line_color\":{\"value\":\"#30a2da\"},\"size\":{\"value\":5.477225575051661},\"x\":{\"field\":\"PCA1\"},\"y\":{\"field\":\"PCA2\"}},\"id\":\"2454\",\"type\":\"Scatter\"}],\"root_ids\":[\"2408\"]},\"title\":\"Bokeh Application\",\"version\":\"2.4.2\"}};\n",
       "    var render_items = [{\"docid\":\"d1cefc40-1b88-4f9d-b6b9-ecb302579b47\",\"root_ids\":[\"2408\"],\"roots\":{\"2408\":\"dd53830f-9204-4bdf-be6b-8d2034700efc\"}}];\n",
       "    root.Bokeh.embed.embed_items_notebook(docs_json, render_items);\n",
       "  }\n",
       "  if (root.Bokeh !== undefined && root.Bokeh.Panel !== undefined) {\n",
       "    embed_document(root);\n",
       "  } else {\n",
       "    var attempts = 0;\n",
       "    var timer = setInterval(function(root) {\n",
       "      if (root.Bokeh !== undefined && root.Bokeh.Panel !== undefined) {\n",
       "        clearInterval(timer);\n",
       "        embed_document(root);\n",
       "      } else if (document.readyState == \"complete\") {\n",
       "        attempts++;\n",
       "        if (attempts > 200) {\n",
       "          clearInterval(timer);\n",
       "          console.log(\"Bokeh: ERROR: Unable to run BokehJS code because BokehJS library is missing\");\n",
       "        }\n",
       "      }\n",
       "    }, 25, root)\n",
       "  }\n",
       "})(window);</script>"
      ],
      "text/plain": [
       ":NdOverlay   [Customer_Segments]\n",
       "   :Scatter   [PCA1]   (PCA2)"
      ]
     },
     "execution_count": 59,
     "metadata": {
      "application/vnd.holoviews_exec.v0+json": {
       "id": "2408"
      }
     },
     "output_type": "execute_result"
    }
   ],
   "source": [
    "# Plot the clusters\n",
    "customers_pca_predictions.hvplot.scatter(\n",
    "    x = \"PCA1\",\n",
    "    y = \"PCA2\",\n",
    "    by = \"Customer_Segments\"\n",
    ")"
   ]
  },
  {
   "cell_type": "markdown",
   "metadata": {},
   "source": [
    "## Part 4: Segment the `customers_transformed_df` DataFrame with all factors using the K-means algorithm"
   ]
  },
  {
   "cell_type": "code",
   "execution_count": 60,
   "metadata": {},
   "outputs": [
    {
     "data": {
      "text/html": [
       "<div>\n",
       "<style scoped>\n",
       "    .dataframe tbody tr th:only-of-type {\n",
       "        vertical-align: middle;\n",
       "    }\n",
       "\n",
       "    .dataframe tbody tr th {\n",
       "        vertical-align: top;\n",
       "    }\n",
       "\n",
       "    .dataframe thead th {\n",
       "        text-align: right;\n",
       "    }\n",
       "</style>\n",
       "<table border=\"1\" class=\"dataframe\">\n",
       "  <thead>\n",
       "    <tr style=\"text-align: right;\">\n",
       "      <th></th>\n",
       "      <th>feature_1</th>\n",
       "      <th>feature_2</th>\n",
       "      <th>feature_3</th>\n",
       "      <th>feature_4</th>\n",
       "      <th>feature_5</th>\n",
       "      <th>feature_6</th>\n",
       "      <th>feature_7</th>\n",
       "      <th>feature_8</th>\n",
       "      <th>feature_9</th>\n",
       "      <th>feature_10</th>\n",
       "      <th>customer_segments</th>\n",
       "    </tr>\n",
       "  </thead>\n",
       "  <tbody>\n",
       "    <tr>\n",
       "      <th>0</th>\n",
       "      <td>1.148534</td>\n",
       "      <td>4.606077</td>\n",
       "      <td>2.699069</td>\n",
       "      <td>-2.661824</td>\n",
       "      <td>1.526433</td>\n",
       "      <td>1.236671</td>\n",
       "      <td>0.211421</td>\n",
       "      <td>1.482896</td>\n",
       "      <td>-4.445627</td>\n",
       "      <td>-1.936831</td>\n",
       "      <td>1</td>\n",
       "    </tr>\n",
       "    <tr>\n",
       "      <th>1</th>\n",
       "      <td>-1.149410</td>\n",
       "      <td>-1.650549</td>\n",
       "      <td>2.530167</td>\n",
       "      <td>-3.227088</td>\n",
       "      <td>0.572138</td>\n",
       "      <td>4.162600</td>\n",
       "      <td>-0.291679</td>\n",
       "      <td>-1.237575</td>\n",
       "      <td>3.604765</td>\n",
       "      <td>-1.635689</td>\n",
       "      <td>0</td>\n",
       "    </tr>\n",
       "    <tr>\n",
       "      <th>2</th>\n",
       "      <td>0.332427</td>\n",
       "      <td>-0.887985</td>\n",
       "      <td>-0.309216</td>\n",
       "      <td>0.399891</td>\n",
       "      <td>0.828492</td>\n",
       "      <td>3.641945</td>\n",
       "      <td>-0.916946</td>\n",
       "      <td>-1.978024</td>\n",
       "      <td>1.056772</td>\n",
       "      <td>-1.882747</td>\n",
       "      <td>0</td>\n",
       "    </tr>\n",
       "    <tr>\n",
       "      <th>3</th>\n",
       "      <td>2.245599</td>\n",
       "      <td>3.826309</td>\n",
       "      <td>0.264039</td>\n",
       "      <td>0.095471</td>\n",
       "      <td>1.984380</td>\n",
       "      <td>0.373991</td>\n",
       "      <td>-0.280279</td>\n",
       "      <td>1.602786</td>\n",
       "      <td>-5.993331</td>\n",
       "      <td>-2.258925</td>\n",
       "      <td>1</td>\n",
       "    </tr>\n",
       "    <tr>\n",
       "      <th>4</th>\n",
       "      <td>0.705503</td>\n",
       "      <td>-1.312329</td>\n",
       "      <td>0.895406</td>\n",
       "      <td>-0.405408</td>\n",
       "      <td>1.116187</td>\n",
       "      <td>3.699562</td>\n",
       "      <td>-1.427985</td>\n",
       "      <td>-1.494409</td>\n",
       "      <td>1.156908</td>\n",
       "      <td>-1.434964</td>\n",
       "      <td>0</td>\n",
       "    </tr>\n",
       "    <tr>\n",
       "      <th>...</th>\n",
       "      <td>...</td>\n",
       "      <td>...</td>\n",
       "      <td>...</td>\n",
       "      <td>...</td>\n",
       "      <td>...</td>\n",
       "      <td>...</td>\n",
       "      <td>...</td>\n",
       "      <td>...</td>\n",
       "      <td>...</td>\n",
       "      <td>...</td>\n",
       "      <td>...</td>\n",
       "    </tr>\n",
       "    <tr>\n",
       "      <th>995</th>\n",
       "      <td>1.923516</td>\n",
       "      <td>2.387442</td>\n",
       "      <td>1.746617</td>\n",
       "      <td>-0.850014</td>\n",
       "      <td>1.333114</td>\n",
       "      <td>-0.522750</td>\n",
       "      <td>-0.699195</td>\n",
       "      <td>1.876106</td>\n",
       "      <td>-4.063120</td>\n",
       "      <td>-0.244857</td>\n",
       "      <td>1</td>\n",
       "    </tr>\n",
       "    <tr>\n",
       "      <th>996</th>\n",
       "      <td>-0.760810</td>\n",
       "      <td>-2.490720</td>\n",
       "      <td>1.530053</td>\n",
       "      <td>-1.501746</td>\n",
       "      <td>0.423792</td>\n",
       "      <td>5.947200</td>\n",
       "      <td>-1.271437</td>\n",
       "      <td>-3.398691</td>\n",
       "      <td>4.745373</td>\n",
       "      <td>-1.616856</td>\n",
       "      <td>0</td>\n",
       "    </tr>\n",
       "    <tr>\n",
       "      <th>997</th>\n",
       "      <td>1.259010</td>\n",
       "      <td>2.469579</td>\n",
       "      <td>2.766727</td>\n",
       "      <td>-2.218555</td>\n",
       "      <td>1.203872</td>\n",
       "      <td>0.255983</td>\n",
       "      <td>-0.411843</td>\n",
       "      <td>1.691254</td>\n",
       "      <td>-3.021626</td>\n",
       "      <td>-0.452561</td>\n",
       "      <td>1</td>\n",
       "    </tr>\n",
       "    <tr>\n",
       "      <th>998</th>\n",
       "      <td>-3.063652</td>\n",
       "      <td>-2.770077</td>\n",
       "      <td>2.086373</td>\n",
       "      <td>-3.500722</td>\n",
       "      <td>-0.767900</td>\n",
       "      <td>5.048482</td>\n",
       "      <td>0.444592</td>\n",
       "      <td>-3.050005</td>\n",
       "      <td>7.259299</td>\n",
       "      <td>-1.254483</td>\n",
       "      <td>0</td>\n",
       "    </tr>\n",
       "    <tr>\n",
       "      <th>999</th>\n",
       "      <td>-3.370452</td>\n",
       "      <td>-4.027235</td>\n",
       "      <td>5.097022</td>\n",
       "      <td>-6.491598</td>\n",
       "      <td>-0.148749</td>\n",
       "      <td>7.455842</td>\n",
       "      <td>-0.223963</td>\n",
       "      <td>-3.133751</td>\n",
       "      <td>9.424171</td>\n",
       "      <td>-1.646406</td>\n",
       "      <td>0</td>\n",
       "    </tr>\n",
       "  </tbody>\n",
       "</table>\n",
       "<p>1000 rows × 11 columns</p>\n",
       "</div>"
      ],
      "text/plain": [
       "     feature_1  feature_2  feature_3  feature_4  feature_5  feature_6  \\\n",
       "0     1.148534   4.606077   2.699069  -2.661824   1.526433   1.236671   \n",
       "1    -1.149410  -1.650549   2.530167  -3.227088   0.572138   4.162600   \n",
       "2     0.332427  -0.887985  -0.309216   0.399891   0.828492   3.641945   \n",
       "3     2.245599   3.826309   0.264039   0.095471   1.984380   0.373991   \n",
       "4     0.705503  -1.312329   0.895406  -0.405408   1.116187   3.699562   \n",
       "..         ...        ...        ...        ...        ...        ...   \n",
       "995   1.923516   2.387442   1.746617  -0.850014   1.333114  -0.522750   \n",
       "996  -0.760810  -2.490720   1.530053  -1.501746   0.423792   5.947200   \n",
       "997   1.259010   2.469579   2.766727  -2.218555   1.203872   0.255983   \n",
       "998  -3.063652  -2.770077   2.086373  -3.500722  -0.767900   5.048482   \n",
       "999  -3.370452  -4.027235   5.097022  -6.491598  -0.148749   7.455842   \n",
       "\n",
       "     feature_7  feature_8  feature_9  feature_10  customer_segments  \n",
       "0     0.211421   1.482896  -4.445627   -1.936831                  1  \n",
       "1    -0.291679  -1.237575   3.604765   -1.635689                  0  \n",
       "2    -0.916946  -1.978024   1.056772   -1.882747                  0  \n",
       "3    -0.280279   1.602786  -5.993331   -2.258925                  1  \n",
       "4    -1.427985  -1.494409   1.156908   -1.434964                  0  \n",
       "..         ...        ...        ...         ...                ...  \n",
       "995  -0.699195   1.876106  -4.063120   -0.244857                  1  \n",
       "996  -1.271437  -3.398691   4.745373   -1.616856                  0  \n",
       "997  -0.411843   1.691254  -3.021626   -0.452561                  1  \n",
       "998   0.444592  -3.050005   7.259299   -1.254483                  0  \n",
       "999  -0.223963  -3.133751   9.424171   -1.646406                  0  \n",
       "\n",
       "[1000 rows x 11 columns]"
      ]
     },
     "execution_count": 60,
     "metadata": {},
     "output_type": "execute_result"
    }
   ],
   "source": [
    "# Define the model Kmeans model by using k=3 clusters\n",
    "model = KMeans(n_clusters=3, random_state=0)\n",
    "\n",
    "# Fit the model\n",
    "model.fit(customers_transformed_df)\n",
    "\n",
    "# Make predictions\n",
    "k_3 = model.predict(customers_transformed_df)\n",
    "\n",
    "# Create a copy of the customers_transformed_df DataFrame\n",
    "customers_transformed_predictions = customers_transformed_df.copy()\n",
    "\n",
    "# Add a class column with the labels\n",
    "customers_transformed_predictions[\"customer_segments\"] = k_3\n",
    "customers_transformed_predictions"
   ]
  },
  {
   "cell_type": "code",
   "execution_count": 68,
   "metadata": {},
   "outputs": [
    {
     "data": {},
     "metadata": {},
     "output_type": "display_data"
    },
    {
     "data": {
      "application/vnd.holoviews_exec.v0+json": "",
      "text/html": [
       "<div id='4872'>\n",
       "\n",
       "\n",
       "\n",
       "\n",
       "\n",
       "  <div class=\"bk-root\" id=\"702f8eb3-6f21-49cd-b2bf-46d3390a94bc\" data-root-id=\"4872\"></div>\n",
       "</div>\n",
       "<script type=\"application/javascript\">(function(root) {\n",
       "  function embed_document(root) {\n",
       "    var docs_json = {\"31eb6adb-8990-4b93-b423-42d4e61a16ab\":{\"defs\":[{\"extends\":null,\"module\":null,\"name\":\"ReactiveHTML1\",\"overrides\":[],\"properties\":[]},{\"extends\":null,\"module\":null,\"name\":\"FlexBox1\",\"overrides\":[],\"properties\":[{\"default\":\"flex-start\",\"kind\":null,\"name\":\"align_content\"},{\"default\":\"flex-start\",\"kind\":null,\"name\":\"align_items\"},{\"default\":\"row\",\"kind\":null,\"name\":\"flex_direction\"},{\"default\":\"wrap\",\"kind\":null,\"name\":\"flex_wrap\"},{\"default\":\"flex-start\",\"kind\":null,\"name\":\"justify_content\"}]},{\"extends\":null,\"module\":null,\"name\":\"GridStack1\",\"overrides\":[],\"properties\":[{\"default\":\"warn\",\"kind\":null,\"name\":\"mode\"},{\"default\":null,\"kind\":null,\"name\":\"ncols\"},{\"default\":null,\"kind\":null,\"name\":\"nrows\"},{\"default\":true,\"kind\":null,\"name\":\"allow_resize\"},{\"default\":true,\"kind\":null,\"name\":\"allow_drag\"},{\"default\":[],\"kind\":null,\"name\":\"state\"}]},{\"extends\":null,\"module\":null,\"name\":\"click1\",\"overrides\":[],\"properties\":[{\"default\":\"\",\"kind\":null,\"name\":\"terminal_output\"},{\"default\":\"\",\"kind\":null,\"name\":\"debug_name\"},{\"default\":0,\"kind\":null,\"name\":\"clears\"}]},{\"extends\":null,\"module\":null,\"name\":\"TemplateActions1\",\"overrides\":[],\"properties\":[{\"default\":0,\"kind\":null,\"name\":\"open_modal\"},{\"default\":0,\"kind\":null,\"name\":\"close_modal\"}]},{\"extends\":null,\"module\":null,\"name\":\"MaterialTemplateActions1\",\"overrides\":[],\"properties\":[{\"default\":0,\"kind\":null,\"name\":\"open_modal\"},{\"default\":0,\"kind\":null,\"name\":\"close_modal\"}]}],\"roots\":{\"references\":[{\"attributes\":{},\"id\":\"4898\",\"type\":\"WheelZoomTool\"},{\"attributes\":{\"fill_color\":{\"value\":\"#e5ae38\"},\"hatch_color\":{\"value\":\"#e5ae38\"},\"line_color\":{\"value\":\"#e5ae38\"},\"size\":{\"value\":5.477225575051661},\"x\":{\"field\":\"feature_6\"},\"y\":{\"field\":\"feature_1\"}},\"id\":\"4961\",\"type\":\"Scatter\"},{\"attributes\":{},\"id\":\"4884\",\"type\":\"LinearScale\"},{\"attributes\":{\"overlay\":{\"id\":\"4901\"}},\"id\":\"4899\",\"type\":\"BoxZoomTool\"},{\"attributes\":{\"label\":{\"value\":\"2\"},\"renderers\":[{\"id\":\"4964\"}]},\"id\":\"4980\",\"type\":\"LegendItem\"},{\"attributes\":{\"click_policy\":\"mute\",\"coordinates\":null,\"group\":null,\"items\":[{\"id\":\"4934\"},{\"id\":\"4956\"},{\"id\":\"4980\"}],\"location\":[0,0],\"title\":\"customer_segments\"},\"id\":\"4933\",\"type\":\"Legend\"},{\"attributes\":{\"margin\":[5,5,5,5],\"name\":\"HSpacer08827\",\"sizing_mode\":\"stretch_width\"},\"id\":\"4873\",\"type\":\"Spacer\"},{\"attributes\":{\"fill_alpha\":{\"value\":0.1},\"fill_color\":{\"value\":\"#fc4f30\"},\"hatch_alpha\":{\"value\":0.1},\"hatch_color\":{\"value\":\"#fc4f30\"},\"line_alpha\":{\"value\":0.1},\"line_color\":{\"value\":\"#fc4f30\"},\"size\":{\"value\":5.477225575051661},\"x\":{\"field\":\"feature_6\"},\"y\":{\"field\":\"feature_1\"}},\"id\":\"4940\",\"type\":\"Scatter\"},{\"attributes\":{},\"id\":\"4886\",\"type\":\"LinearScale\"},{\"attributes\":{\"fill_alpha\":{\"value\":0.2},\"fill_color\":{\"value\":\"#fc4f30\"},\"hatch_alpha\":{\"value\":0.2},\"hatch_color\":{\"value\":\"#fc4f30\"},\"line_alpha\":{\"value\":0.2},\"line_color\":{\"value\":\"#fc4f30\"},\"size\":{\"value\":5.477225575051661},\"x\":{\"field\":\"feature_6\"},\"y\":{\"field\":\"feature_1\"}},\"id\":\"4941\",\"type\":\"Scatter\"},{\"attributes\":{\"fill_alpha\":{\"value\":0.2},\"fill_color\":{\"value\":\"#e5ae38\"},\"hatch_alpha\":{\"value\":0.2},\"hatch_color\":{\"value\":\"#e5ae38\"},\"line_alpha\":{\"value\":0.2},\"line_color\":{\"value\":\"#e5ae38\"},\"size\":{\"value\":5.477225575051661},\"x\":{\"field\":\"feature_6\"},\"y\":{\"field\":\"feature_1\"}},\"id\":\"4963\",\"type\":\"Scatter\"},{\"attributes\":{\"coordinates\":null,\"data_source\":{\"id\":\"4958\"},\"glyph\":{\"id\":\"4961\"},\"group\":null,\"hover_glyph\":null,\"muted_glyph\":{\"id\":\"4963\"},\"nonselection_glyph\":{\"id\":\"4962\"},\"selection_glyph\":{\"id\":\"4981\"},\"view\":{\"id\":\"4965\"}},\"id\":\"4964\",\"type\":\"GlyphRenderer\"},{\"attributes\":{\"source\":{\"id\":\"4936\"}},\"id\":\"4943\",\"type\":\"CDSView\"},{\"attributes\":{},\"id\":\"4900\",\"type\":\"ResetTool\"},{\"attributes\":{\"children\":[{\"id\":\"4873\"},{\"id\":\"4879\"},{\"id\":\"5108\"}],\"margin\":[0,0,0,0],\"name\":\"Row08823\",\"tags\":[\"embedded\"]},\"id\":\"4872\",\"type\":\"Row\"},{\"attributes\":{},\"id\":\"4953\",\"type\":\"UnionRenderers\"},{\"attributes\":{\"source\":{\"id\":\"4958\"}},\"id\":\"4965\",\"type\":\"CDSView\"},{\"attributes\":{},\"id\":\"4889\",\"type\":\"BasicTicker\"},{\"attributes\":{\"coordinates\":null,\"group\":null,\"text_color\":\"black\",\"text_font_size\":\"12pt\"},\"id\":\"4880\",\"type\":\"Title\"},{\"attributes\":{},\"id\":\"4910\",\"type\":\"BasicTickFormatter\"},{\"attributes\":{\"bottom_units\":\"screen\",\"coordinates\":null,\"fill_alpha\":0.5,\"fill_color\":\"lightgrey\",\"group\":null,\"left_units\":\"screen\",\"level\":\"overlay\",\"line_alpha\":1.0,\"line_color\":\"black\",\"line_dash\":[4,4],\"line_width\":2,\"right_units\":\"screen\",\"syncable\":false,\"top_units\":\"screen\"},\"id\":\"4901\",\"type\":\"BoxAnnotation\"},{\"attributes\":{\"coordinates\":null,\"data_source\":{\"id\":\"4936\"},\"glyph\":{\"id\":\"4939\"},\"group\":null,\"hover_glyph\":null,\"muted_glyph\":{\"id\":\"4941\"},\"nonselection_glyph\":{\"id\":\"4940\"},\"selection_glyph\":{\"id\":\"4957\"},\"view\":{\"id\":\"4943\"}},\"id\":\"4942\",\"type\":\"GlyphRenderer\"},{\"attributes\":{\"data\":{\"customer_segments\":[2,2,2,2,2,2,2,2,2,2,2,2,2,2,2,2,2,2,2,2,2,2,2,2,2,2,2,2,2,2,2,2,2,2,2,2,2,2,2,2,2,2,2,2,2,2,2,2,2,2,2,2,2,2,2,2,2,2,2,2,2,2,2,2,2,2,2,2,2,2,2,2,2,2,2,2,2,2,2,2,2,2,2,2,2,2,2,2,2,2,2,2,2,2,2,2,2,2,2,2,2,2,2,2,2,2,2,2,2,2,2,2,2,2,2,2,2,2,2,2,2,2,2,2,2,2,2,2,2,2,2,2,2,2,2,2,2,2,2,2,2,2,2,2,2,2,2,2,2,2,2,2,2,2,2,2,2,2,2,2,2,2,2,2,2,2,2,2,2,2,2,2,2,2,2,2,2,2,2,2,2,2,2,2,2,2,2,2,2,2,2,2,2,2,2,2,2],\"feature_1\":{\"__ndarray__\":\"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\",\"dtype\":\"float64\",\"order\":\"little\",\"shape\":[197]},\"feature_6\":{\"__ndarray__\":\"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\",\"dtype\":\"float64\",\"order\":\"little\",\"shape\":[197]}},\"selected\":{\"id\":\"4959\"},\"selection_policy\":{\"id\":\"4977\"}},\"id\":\"4958\",\"type\":\"ColumnDataSource\"},{\"attributes\":{\"tools\":[{\"id\":\"4876\"},{\"id\":\"4896\"},{\"id\":\"4897\"},{\"id\":\"4898\"},{\"id\":\"4899\"},{\"id\":\"4900\"}]},\"id\":\"4902\",\"type\":\"Toolbar\"},{\"attributes\":{\"axis\":{\"id\":\"4892\"},\"coordinates\":null,\"dimension\":1,\"grid_line_color\":null,\"group\":null,\"ticker\":null},\"id\":\"4895\",\"type\":\"Grid\"},{\"attributes\":{},\"id\":\"4914\",\"type\":\"AllLabels\"},{\"attributes\":{\"axis_label\":\"feature_6\",\"coordinates\":null,\"formatter\":{\"id\":\"4910\"},\"group\":null,\"major_label_policy\":{\"id\":\"4911\"},\"ticker\":{\"id\":\"4889\"}},\"id\":\"4888\",\"type\":\"LinearAxis\"},{\"attributes\":{},\"id\":\"4937\",\"type\":\"Selection\"},{\"attributes\":{\"fill_alpha\":{\"value\":0.2},\"fill_color\":{\"value\":\"#30a2da\"},\"hatch_alpha\":{\"value\":0.2},\"hatch_color\":{\"value\":\"#30a2da\"},\"line_alpha\":{\"value\":0.2},\"line_color\":{\"value\":\"#30a2da\"},\"size\":{\"value\":5.477225575051661},\"x\":{\"field\":\"feature_6\"},\"y\":{\"field\":\"feature_1\"}},\"id\":\"4920\",\"type\":\"Scatter\"},{\"attributes\":{},\"id\":\"4916\",\"type\":\"Selection\"},{\"attributes\":{\"margin\":[5,5,5,5],\"name\":\"HSpacer08828\",\"sizing_mode\":\"stretch_width\"},\"id\":\"5108\",\"type\":\"Spacer\"},{\"attributes\":{\"label\":{\"value\":\"1\"},\"renderers\":[{\"id\":\"4942\"}]},\"id\":\"4956\",\"type\":\"LegendItem\"},{\"attributes\":{\"axis\":{\"id\":\"4888\"},\"coordinates\":null,\"grid_line_color\":null,\"group\":null,\"ticker\":null},\"id\":\"4891\",\"type\":\"Grid\"},{\"attributes\":{},\"id\":\"4977\",\"type\":\"UnionRenderers\"},{\"attributes\":{\"data\":{\"customer_segments\":[1,1,1,1,1,1,1,1,1,1,1,1,1,1,1,1,1,1,1,1,1,1,1,1,1,1,1,1,1,1,1,1,1,1,1,1,1,1,1,1,1,1,1,1,1,1,1,1,1,1,1,1,1,1,1,1,1,1,1,1,1,1,1,1,1,1,1,1,1,1,1,1,1,1,1,1,1,1,1,1,1,1,1,1,1,1,1,1,1,1,1,1,1,1,1,1,1,1,1,1,1,1,1,1,1,1,1,1,1,1,1,1,1,1,1,1,1,1,1,1,1,1,1,1,1,1,1,1,1,1,1,1,1,1,1,1,1,1,1,1,1,1,1,1,1,1,1,1,1,1,1,1,1,1,1,1,1,1,1,1,1,1,1,1,1,1,1,1,1,1,1,1,1,1,1,1,1,1,1,1,1,1,1,1,1,1,1,1,1,1,1,1,1,1,1,1,1,1,1,1,1,1,1,1,1,1,1,1,1,1,1,1,1,1,1,1,1,1,1,1,1,1,1,1,1,1,1,1,1,1,1,1,1,1,1,1,1,1,1,1,1,1,1,1,1,1,1,1,1,1,1,1,1,1,1,1,1,1,1,1,1,1,1,1,1,1,1,1,1,1,1,1,1,1,1,1,1,1,1,1,1,1,1,1,1,1,1,1,1,1,1,1,1,1,1,1,1,1,1,1,1,1,1,1,1,1,1,1,1,1,1,1,1,1,1,1,1,1,1,1,1,1,1,1,1,1,1,1,1,1,1,1,1,1,1,1,1,1,1,1,1,1,1,1,1,1,1,1,1,1,1,1,1,1,1,1,1,1,1,1,1,1,1,1,1,1,1,1,1,1,1,1,1,1,1,1,1,1,1,1,1,1,1,1,1,1,1,1,1,1,1,1,1,1,1,1,1,1,1,1,1,1,1,1,1,1,1,1,1,1,1,1,1,1,1,1,1,1,1,1,1,1,1,1,1,1,1,1,1,1,1,1,1,1,1,1,1,1,1,1,1,1,1,1,1,1,1,1,1,1,1,1,1,1,1,1,1,1,1,1,1,1,1,1,1,1,1,1,1,1,1,1,1,1,1,1,1,1,1,1,1,1,1,1,1,1,1,1,1,1,1,1,1,1,1,1,1,1,1,1,1,1,1,1,1,1,1,1,1],\"feature_1\":{\"__ndarray__\":\"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\",\"dtype\":\"float64\",\"order\":\"little\",\"shape\":[509]},\"feature_6\":{\"__ndarray__\":\"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\",\"dtype\":\"float64\",\"order\":\"little\",\"shape\":[509]}},\"selected\":{\"id\":\"4937\"},\"selection_policy\":{\"id\":\"4953\"}},\"id\":\"4936\",\"type\":\"ColumnDataSource\"},{\"attributes\":{\"angle\":{\"value\":0.0},\"fill_alpha\":{\"value\":1.0},\"fill_color\":{\"value\":\"#fc4f30\"},\"hatch_alpha\":{\"value\":1.0},\"hatch_color\":{\"value\":\"#fc4f30\"},\"hatch_scale\":{\"value\":12.0},\"hatch_weight\":{\"value\":1.0},\"line_alpha\":{\"value\":1.0},\"line_cap\":{\"value\":\"butt\"},\"line_color\":{\"value\":\"#fc4f30\"},\"line_dash\":{\"value\":[]},\"line_dash_offset\":{\"value\":0},\"line_join\":{\"value\":\"bevel\"},\"line_width\":{\"value\":1},\"marker\":{\"value\":\"circle\"},\"size\":{\"value\":5.477225575051661},\"x\":{\"field\":\"feature_6\"},\"y\":{\"field\":\"feature_1\"}},\"id\":\"4957\",\"type\":\"Scatter\"},{\"attributes\":{\"coordinates\":null,\"data_source\":{\"id\":\"4915\"},\"glyph\":{\"id\":\"4918\"},\"group\":null,\"hover_glyph\":null,\"muted_glyph\":{\"id\":\"4920\"},\"nonselection_glyph\":{\"id\":\"4919\"},\"selection_glyph\":{\"id\":\"4935\"},\"view\":{\"id\":\"4922\"}},\"id\":\"4921\",\"type\":\"GlyphRenderer\"},{\"attributes\":{},\"id\":\"4893\",\"type\":\"BasicTicker\"},{\"attributes\":{},\"id\":\"4959\",\"type\":\"Selection\"},{\"attributes\":{\"axis_label\":\"feature_1\",\"coordinates\":null,\"formatter\":{\"id\":\"4913\"},\"group\":null,\"major_label_policy\":{\"id\":\"4914\"},\"ticker\":{\"id\":\"4893\"}},\"id\":\"4892\",\"type\":\"LinearAxis\"},{\"attributes\":{\"callback\":null,\"renderers\":[{\"id\":\"4921\"},{\"id\":\"4942\"},{\"id\":\"4964\"}],\"tags\":[\"hv_created\"],\"tooltips\":[[\"customer_segments\",\"@{customer_segments}\"],[\"feature_6\",\"@{feature_6}\"],[\"feature_1\",\"@{feature_1}\"]]},\"id\":\"4876\",\"type\":\"HoverTool\"},{\"attributes\":{\"angle\":{\"value\":0.0},\"fill_alpha\":{\"value\":1.0},\"fill_color\":{\"value\":\"#30a2da\"},\"hatch_alpha\":{\"value\":1.0},\"hatch_color\":{\"value\":\"#30a2da\"},\"hatch_scale\":{\"value\":12.0},\"hatch_weight\":{\"value\":1.0},\"line_alpha\":{\"value\":1.0},\"line_cap\":{\"value\":\"butt\"},\"line_color\":{\"value\":\"#30a2da\"},\"line_dash\":{\"value\":[]},\"line_dash_offset\":{\"value\":0},\"line_join\":{\"value\":\"bevel\"},\"line_width\":{\"value\":1},\"marker\":{\"value\":\"circle\"},\"size\":{\"value\":5.477225575051661},\"x\":{\"field\":\"feature_6\"},\"y\":{\"field\":\"feature_1\"}},\"id\":\"4935\",\"type\":\"Scatter\"},{\"attributes\":{\"fill_alpha\":{\"value\":0.1},\"fill_color\":{\"value\":\"#30a2da\"},\"hatch_alpha\":{\"value\":0.1},\"hatch_color\":{\"value\":\"#30a2da\"},\"line_alpha\":{\"value\":0.1},\"line_color\":{\"value\":\"#30a2da\"},\"size\":{\"value\":5.477225575051661},\"x\":{\"field\":\"feature_6\"},\"y\":{\"field\":\"feature_1\"}},\"id\":\"4919\",\"type\":\"Scatter\"},{\"attributes\":{\"angle\":{\"value\":0.0},\"fill_alpha\":{\"value\":1.0},\"fill_color\":{\"value\":\"#e5ae38\"},\"hatch_alpha\":{\"value\":1.0},\"hatch_color\":{\"value\":\"#e5ae38\"},\"hatch_scale\":{\"value\":12.0},\"hatch_weight\":{\"value\":1.0},\"line_alpha\":{\"value\":1.0},\"line_cap\":{\"value\":\"butt\"},\"line_color\":{\"value\":\"#e5ae38\"},\"line_dash\":{\"value\":[]},\"line_dash_offset\":{\"value\":0},\"line_join\":{\"value\":\"bevel\"},\"line_width\":{\"value\":1},\"marker\":{\"value\":\"circle\"},\"size\":{\"value\":5.477225575051661},\"x\":{\"field\":\"feature_6\"},\"y\":{\"field\":\"feature_1\"}},\"id\":\"4981\",\"type\":\"Scatter\"},{\"attributes\":{},\"id\":\"4913\",\"type\":\"BasicTickFormatter\"},{\"attributes\":{},\"id\":\"4930\",\"type\":\"UnionRenderers\"},{\"attributes\":{\"end\":9.469003891836115,\"reset_end\":9.469003891836115,\"reset_start\":-9.875051582076308,\"start\":-9.875051582076308,\"tags\":[[[\"feature_6\",\"feature_6\",null]]]},\"id\":\"4874\",\"type\":\"Range1d\"},{\"attributes\":{\"source\":{\"id\":\"4915\"}},\"id\":\"4922\",\"type\":\"CDSView\"},{\"attributes\":{\"fill_color\":{\"value\":\"#30a2da\"},\"hatch_color\":{\"value\":\"#30a2da\"},\"line_color\":{\"value\":\"#30a2da\"},\"size\":{\"value\":5.477225575051661},\"x\":{\"field\":\"feature_6\"},\"y\":{\"field\":\"feature_1\"}},\"id\":\"4918\",\"type\":\"Scatter\"},{\"attributes\":{\"fill_alpha\":{\"value\":0.1},\"fill_color\":{\"value\":\"#e5ae38\"},\"hatch_alpha\":{\"value\":0.1},\"hatch_color\":{\"value\":\"#e5ae38\"},\"line_alpha\":{\"value\":0.1},\"line_color\":{\"value\":\"#e5ae38\"},\"size\":{\"value\":5.477225575051661},\"x\":{\"field\":\"feature_6\"},\"y\":{\"field\":\"feature_1\"}},\"id\":\"4962\",\"type\":\"Scatter\"},{\"attributes\":{\"data\":{\"customer_segments\":[0,0,0,0,0,0,0,0,0,0,0,0,0,0,0,0,0,0,0,0,0,0,0,0,0,0,0,0,0,0,0,0,0,0,0,0,0,0,0,0,0,0,0,0,0,0,0,0,0,0,0,0,0,0,0,0,0,0,0,0,0,0,0,0,0,0,0,0,0,0,0,0,0,0,0,0,0,0,0,0,0,0,0,0,0,0,0,0,0,0,0,0,0,0,0,0,0,0,0,0,0,0,0,0,0,0,0,0,0,0,0,0,0,0,0,0,0,0,0,0,0,0,0,0,0,0,0,0,0,0,0,0,0,0,0,0,0,0,0,0,0,0,0,0,0,0,0,0,0,0,0,0,0,0,0,0,0,0,0,0,0,0,0,0,0,0,0,0,0,0,0,0,0,0,0,0,0,0,0,0,0,0,0,0,0,0,0,0,0,0,0,0,0,0,0,0,0,0,0,0,0,0,0,0,0,0,0,0,0,0,0,0,0,0,0,0,0,0,0,0,0,0,0,0,0,0,0,0,0,0,0,0,0,0,0,0,0,0,0,0,0,0,0,0,0,0,0,0,0,0,0,0,0,0,0,0,0,0,0,0,0,0,0,0,0,0,0,0,0,0,0,0,0,0,0,0,0,0,0,0,0,0,0,0,0,0,0,0,0,0,0,0,0,0],\"feature_1\":{\"__ndarray__\":\"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\",\"dtype\":\"float64\",\"order\":\"little\",\"shape\":[294]},\"feature_6\":{\"__ndarray__\":\"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\",\"dtype\":\"float64\",\"order\":\"little\",\"shape\":[294]}},\"selected\":{\"id\":\"4916\"},\"selection_policy\":{\"id\":\"4930\"}},\"id\":\"4915\",\"type\":\"ColumnDataSource\"},{\"attributes\":{},\"id\":\"4911\",\"type\":\"AllLabels\"},{\"attributes\":{\"end\":7.529242109297712,\"reset_end\":7.529242109297712,\"reset_start\":-7.5129900786610895,\"start\":-7.5129900786610895,\"tags\":[[[\"feature_1\",\"feature_1\",null]]]},\"id\":\"4875\",\"type\":\"Range1d\"},{\"attributes\":{},\"id\":\"4896\",\"type\":\"SaveTool\"},{\"attributes\":{},\"id\":\"4897\",\"type\":\"PanTool\"},{\"attributes\":{\"label\":{\"value\":\"0\"},\"renderers\":[{\"id\":\"4921\"}]},\"id\":\"4934\",\"type\":\"LegendItem\"},{\"attributes\":{\"fill_color\":{\"value\":\"#fc4f30\"},\"hatch_color\":{\"value\":\"#fc4f30\"},\"line_color\":{\"value\":\"#fc4f30\"},\"size\":{\"value\":5.477225575051661},\"x\":{\"field\":\"feature_6\"},\"y\":{\"field\":\"feature_1\"}},\"id\":\"4939\",\"type\":\"Scatter\"},{\"attributes\":{\"below\":[{\"id\":\"4888\"}],\"center\":[{\"id\":\"4891\"},{\"id\":\"4895\"}],\"height\":300,\"left\":[{\"id\":\"4892\"}],\"margin\":[5,5,5,5],\"min_border_bottom\":10,\"min_border_left\":10,\"min_border_right\":10,\"min_border_top\":10,\"renderers\":[{\"id\":\"4921\"},{\"id\":\"4942\"},{\"id\":\"4964\"}],\"right\":[{\"id\":\"4933\"}],\"sizing_mode\":\"fixed\",\"title\":{\"id\":\"4880\"},\"toolbar\":{\"id\":\"4902\"},\"width\":700,\"x_range\":{\"id\":\"4874\"},\"x_scale\":{\"id\":\"4884\"},\"y_range\":{\"id\":\"4875\"},\"y_scale\":{\"id\":\"4886\"}},\"id\":\"4879\",\"subtype\":\"Figure\",\"type\":\"Plot\"}],\"root_ids\":[\"4872\"]},\"title\":\"Bokeh Application\",\"version\":\"2.4.2\"}};\n",
       "    var render_items = [{\"docid\":\"31eb6adb-8990-4b93-b423-42d4e61a16ab\",\"root_ids\":[\"4872\"],\"roots\":{\"4872\":\"702f8eb3-6f21-49cd-b2bf-46d3390a94bc\"}}];\n",
       "    root.Bokeh.embed.embed_items_notebook(docs_json, render_items);\n",
       "  }\n",
       "  if (root.Bokeh !== undefined && root.Bokeh.Panel !== undefined) {\n",
       "    embed_document(root);\n",
       "  } else {\n",
       "    var attempts = 0;\n",
       "    var timer = setInterval(function(root) {\n",
       "      if (root.Bokeh !== undefined && root.Bokeh.Panel !== undefined) {\n",
       "        clearInterval(timer);\n",
       "        embed_document(root);\n",
       "      } else if (document.readyState == \"complete\") {\n",
       "        attempts++;\n",
       "        if (attempts > 200) {\n",
       "          clearInterval(timer);\n",
       "          console.log(\"Bokeh: ERROR: Unable to run BokehJS code because BokehJS library is missing\");\n",
       "        }\n",
       "      }\n",
       "    }, 25, root)\n",
       "  }\n",
       "})(window);</script>"
      ],
      "text/plain": [
       ":NdOverlay   [customer_segments]\n",
       "   :Scatter   [feature_6]   (feature_1)"
      ]
     },
     "execution_count": 68,
     "metadata": {
      "application/vnd.holoviews_exec.v0+json": {
       "id": "4872"
      }
     },
     "output_type": "execute_result"
    }
   ],
   "source": [
    "# Plot the clusters by using the age and spending columns\n",
    "customers_transformed_predictions.hvplot.scatter(\n",
    "    x = \"feature_6\",\n",
    "    y = \"feature_1\",\n",
    "    by = \"customer_segments\"\n",
    ")"
   ]
  },
  {
   "cell_type": "markdown",
   "metadata": {},
   "source": [
    "## Part 5: Compare the segmentation results between the PCA DataFrame and the full-factored DataFrame"
   ]
  },
  {
   "cell_type": "markdown",
   "metadata": {},
   "source": [
    "**Answer:** # feature 6 and 1 creates the most segmentation"
   ]
  },
  {
   "cell_type": "code",
   "execution_count": null,
   "metadata": {},
   "outputs": [],
   "source": []
  }
 ],
 "metadata": {
  "interpreter": {
   "hash": "4396f389b93e7269692bd3bea4c62813bbe379469bde939b058805f538feec11"
  },
  "kernelspec": {
   "display_name": "Python 3.7.7 ('dev')",
   "language": "python",
   "name": "python3"
  },
  "language_info": {
   "codemirror_mode": {
    "name": "ipython",
    "version": 3
   },
   "file_extension": ".py",
   "mimetype": "text/x-python",
   "name": "python",
   "nbconvert_exporter": "python",
   "pygments_lexer": "ipython3",
   "version": "3.7.7"
  }
 },
 "nbformat": 4,
 "nbformat_minor": 4
}
